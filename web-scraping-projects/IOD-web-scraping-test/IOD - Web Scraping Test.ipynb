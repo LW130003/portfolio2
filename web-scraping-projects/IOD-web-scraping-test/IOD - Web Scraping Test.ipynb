{
 "cells": [
  {
   "cell_type": "markdown",
   "metadata": {},
   "source": [
    "Exploring the website \"https://www.cgv.id\" it is observed that the website has common pattern:\n",
    "1. Each cinema is labeled with number: for example: Grand Indonesia: https://www.cgv.id/en/schedule/cinema/002, Pacific Place: https://www.cgv.id/en/schedule/cinema/003\n",
    "2. The date in cinema is labeled directly after the link: for example: 2018-02-21: https://www.cgv.id/en/schedule/cinema/003/2018-02-21\n",
    "3. Label in movie: Dilan: https://www.cgv.id/en/movies/info/17009800, The Greatest Showman: https://www.cgv.id/en/movies/info/17009700.\n",
    "\n",
    "Now, we will loop through multiple web pages to extract information from it.\n",
    "- Website with the root: https://www.cgv.id/en/schedule/cinema will be used to extract: Location Data (City, Theater) and Movies Data (Date, Theater, Time)\n",
    "- Website with the root: https://www.cgv.id/en/movies/info will be used to extract: Movies Data (Title, Genre, Image URL)."
   ]
  },
  {
   "cell_type": "code",
   "execution_count": 1,
   "metadata": {
    "collapsed": true
   },
   "outputs": [],
   "source": [
    "# load library\n",
    "%matplotlib inline\n",
    "import matplotlib.pyplot as plt\n",
    "import urllib.request\n",
    "import pandas as pd\n",
    "from bs4 import BeautifulSoup\n",
    "from subprocess import check_output"
   ]
  },
  {
   "cell_type": "markdown",
   "metadata": {},
   "source": [
    "# 1. Exploration"
   ]
  },
  {
   "cell_type": "code",
   "execution_count": 2,
   "metadata": {},
   "outputs": [
    {
     "data": {
      "text/plain": [
       "[<a href=\"javascript:void(0);\">Jakarta</a>,\n",
       " <a class=\"cinema_fav\" href=\"/en/schedule/cinema/002\" id=\"002\" title=\"Grand Indonesia\">Grand Indonesia</a>,\n",
       " <a class=\"cinema_fav\" href=\"/en/schedule/cinema/003\" id=\"003\" title=\"Pacific Place\">Pacific Place</a>,\n",
       " <a class=\"cinema_fav\" href=\"/en/schedule/cinema/004\" id=\"004\" title=\"Mall of Indonesia\">Mall of Indonesia</a>,\n",
       " <a class=\"cinema_fav\" href=\"/en/schedule/cinema/006\" id=\"006\" title=\"Central Park\">Central Park</a>,\n",
       " <a class=\"cinema_fav\" href=\"/en/schedule/cinema/020\" id=\"020\" title=\"Slipi Jaya\">Slipi Jaya</a>,\n",
       " <a class=\"cinema_fav\" href=\"/en/schedule/cinema/025\" id=\"025\" title=\"Green Pramuka Mall\">Green Pramuka Mall</a>,\n",
       " <a class=\"cinema_fav\" href=\"/en/schedule/cinema/028\" id=\"028\" title=\"Bella Terra Lifestyle Center\">Bella Terra Lifestyle Center</a>,\n",
       " <a class=\"cinema_fav\" href=\"/en/schedule/cinema/035\" id=\"035\" title=\"Transmart Cempaka Putih\">Transmart Cempaka Putih</a>,\n",
       " <a class=\"cinema_fav\" href=\"/en/schedule/cinema/037\" id=\"037\" title=\"Aeon Mall\">Aeon Mall</a>,\n",
       " <a href=\"javascript:void(0);\">Bandung</a>,\n",
       " <a class=\"cinema_fav\" href=\"/en/schedule/cinema/001\" id=\"001\" title=\"Paris Van Java\">Paris Van Java</a>,\n",
       " <a class=\"cinema_fav\" href=\"/en/schedule/cinema/011\" id=\"011\" title=\"Miko Mall\">Miko Mall</a>,\n",
       " <a class=\"cinema_fav\" href=\"/en/schedule/cinema/014\" id=\"014\" title=\"BEC Mall\">BEC Mall</a>,\n",
       " <a class=\"cinema_fav\" href=\"/en/schedule/cinema/029\" id=\"029\" title=\"23 Paskal Shopping Center\">23 Paskal Shopping Center</a>,\n",
       " <a class=\"cinema_fav\" href=\"/en/schedule/cinema/038\" id=\"038\" title=\"Metro Indah Mall\">Metro Indah Mall</a>,\n",
       " <a href=\"javascript:void(0);\" id=\"0\">Balikpapan</a>,\n",
       " <a class=\"cinema_fav\" href=\"/en/schedule/cinema/008\" id=\"008\" title=\"Plaza Balikpapan\">Plaza Balikpapan</a>,\n",
       " <a href=\"javascript:void(0);\" id=\"1\">Batam</a>,\n",
       " <a class=\"cinema_fav\" href=\"/en/schedule/cinema/009\" id=\"009\" title=\"Kepri Mall\">Kepri Mall</a>,\n",
       " <a class=\"cinema_fav\" href=\"/en/schedule/cinema/010\" id=\"010\" title=\"Harbour Bay\">Harbour Bay</a>,\n",
       " <a href=\"javascript:void(0);\" id=\"2\">Bekasi</a>,\n",
       " <a class=\"cinema_fav\" href=\"/en/schedule/cinema/007\" id=\"007\" title=\"Bekasi Cyber Park\">Bekasi Cyber Park</a>,\n",
       " <a class=\"cinema_fav\" href=\"/en/schedule/cinema/036\" id=\"036\" title=\"Bekasi Trade Center\">Bekasi Trade Center</a>,\n",
       " <a class=\"cinema_fav\" href=\"/en/schedule/cinema/040\" id=\"040\" title=\"Lagoon Avenue Bekasi\">Lagoon Avenue Bekasi</a>,\n",
       " <a href=\"javascript:void(0);\" id=\"3\">Cirebon</a>,\n",
       " <a class=\"cinema_fav\" href=\"/en/schedule/cinema/016\" id=\"016\" title=\"Grage City Mall\">Grage City Mall</a>,\n",
       " <a class=\"cinema_fav\" href=\"/en/schedule/cinema/042\" id=\"042\" title=\"Transmart Cirebon\">Transmart Cirebon</a>,\n",
       " <a href=\"javascript:void(0);\" id=\"4\">Depok</a>,\n",
       " <a class=\"cinema_fav\" href=\"/en/schedule/cinema/030\" id=\"030\" title=\"Depok Mall\">Depok Mall</a>,\n",
       " <a href=\"javascript:void(0);\" id=\"5\">Karawang</a>,\n",
       " <a class=\"cinema_fav\" href=\"/en/schedule/cinema/019\" id=\"019\" title=\"Festive Walk\">Festive Walk</a>,\n",
       " <a class=\"cinema_fav\" href=\"/en/schedule/cinema/046\" id=\"046\" title=\"Technomart\">Technomart</a>,\n",
       " <a href=\"javascript:void(0);\" id=\"6\">Lampung</a>,\n",
       " <a class=\"cinema_fav\" href=\"/en/schedule/cinema/043\" id=\"043\" title=\"Transmart Lampung\">Transmart Lampung</a>,\n",
       " <a href=\"javascript:void(0);\" id=\"7\">Makassar</a>,\n",
       " <a class=\"cinema_fav\" href=\"/en/schedule/cinema/044\" id=\"044\" title=\"Daya Grand Square\">Daya Grand Square</a>,\n",
       " <a href=\"javascript:void(0);\" id=\"8\">Manado</a>,\n",
       " <a class=\"cinema_fav\" href=\"/en/schedule/cinema/021\" id=\"021\" title=\"Grand Kawanua City\">Grand Kawanua City</a>,\n",
       " <a href=\"javascript:void(0);\" id=\"9\">Mataram</a>,\n",
       " <a class=\"cinema_fav\" href=\"/en/schedule/cinema/034\" id=\"034\" title=\"Transmart Mataram\">Transmart Mataram</a>,\n",
       " <a href=\"javascript:void(0);\" id=\"10\">Medan</a>,\n",
       " <a class=\"cinema_fav\" href=\"/en/schedule/cinema/024\" id=\"024\" title=\"Focal Point\">Focal Point</a>,\n",
       " <a href=\"javascript:void(0);\" id=\"11\">Mojokerto</a>,\n",
       " <a class=\"cinema_fav\" href=\"/en/schedule/cinema/023\" id=\"023\" title=\"Sunrise Mall\">Sunrise Mall</a>,\n",
       " <a href=\"javascript:void(0);\" id=\"12\">Other</a>,\n",
       " <a class=\"cinema_fav\" href=\"/en/schedule/cinema/047\" id=\"047\" title=\"[E]Transmart Sidoarjo\">[E]Transmart Sidoarjo</a>,\n",
       " <a class=\"cinema_fav\" href=\"/en/schedule/cinema/051\" id=\"051\" title=\"[E]Icon Mall Gresik\">[E]Icon Mall Gresik</a>,\n",
       " <a href=\"javascript:void(0);\" id=\"13\">Palembang</a>,\n",
       " <a class=\"cinema_fav\" href=\"/en/schedule/cinema/027\" id=\"027\" title=\"Social Market\">Social Market</a>,\n",
       " <a class=\"cinema_fav\" href=\"/en/schedule/cinema/039\" id=\"039\" title=\"Transmart Palembang\">Transmart Palembang</a>,\n",
       " <a href=\"javascript:void(0);\" id=\"14\">Pekanbaru</a>,\n",
       " <a class=\"cinema_fav\" href=\"/en/schedule/cinema/033\" id=\"033\" title=\"Transmart Pekanbaru\">Transmart Pekanbaru</a>,\n",
       " <a href=\"javascript:void(0);\" id=\"15\">Purwokerto</a>,\n",
       " <a class=\"cinema_fav\" href=\"/en/schedule/cinema/026\" id=\"026\" title=\"Rita Supermall\">Rita Supermall</a>,\n",
       " <a href=\"javascript:void(0);\" id=\"16\">Solo</a>,\n",
       " <a class=\"cinema_fav\" href=\"/en/schedule/cinema/041\" id=\"041\" title=\"Transmart Solo\">Transmart Solo</a>,\n",
       " <a href=\"javascript:void(0);\" id=\"17\">Surabaya</a>,\n",
       " <a class=\"cinema_fav\" href=\"/en/schedule/cinema/018\" id=\"018\" title=\"Marvell City\">Marvell City</a>,\n",
       " <a class=\"cinema_fav\" href=\"/en/schedule/cinema/048\" id=\"048\" title=\"[E]BG Junction\">[E]BG Junction</a>,\n",
       " <a href=\"javascript:void(0);\" id=\"18\">Tangerang</a>,\n",
       " <a class=\"cinema_fav\" href=\"/en/schedule/cinema/005\" id=\"005\" title=\"Teras Kota\">Teras Kota</a>,\n",
       " <a class=\"cinema_fav\" href=\"/en/schedule/cinema/015\" id=\"015\" title=\"Bandara City Mall\">Bandara City Mall</a>,\n",
       " <a class=\"cinema_fav\" href=\"/en/schedule/cinema/022\" id=\"022\" title=\"Ecoplaza Citraraya Cikupa\">Ecoplaza Citraraya Cikupa</a>,\n",
       " <a href=\"javascript:void(0);\" id=\"19\">Tangerang Selatan</a>,\n",
       " <a class=\"cinema_fav\" href=\"/en/schedule/cinema/045\" id=\"045\" title=\"Transmart Bintaro\">Transmart Bintaro</a>,\n",
       " <a href=\"javascript:void(0);\" id=\"20\">Tegal</a>,\n",
       " <a class=\"cinema_fav\" href=\"/en/schedule/cinema/032\" id=\"032\" title=\"Transmart Tegal\">Transmart Tegal</a>,\n",
       " <a href=\"javascript:void(0);\" id=\"21\">Yogyakarta</a>,\n",
       " <a class=\"cinema_fav\" href=\"/en/schedule/cinema/013\" id=\"013\" title=\"Jwalk Mall\">Jwalk Mall</a>,\n",
       " <a class=\"cinema_fav\" href=\"/en/schedule/cinema/017\" id=\"017\" title=\"Hartono Mall\">Hartono Mall</a>,\n",
       " <a class=\"cinema_fav\" href=\"/en/schedule/cinema/031\" id=\"031\" title=\"Transmart Maguwo\">Transmart Maguwo</a>]"
      ]
     },
     "execution_count": 2,
     "metadata": {},
     "output_type": "execute_result"
    }
   ],
   "source": [
    "url = \"https://www.cgv.id/en/schedule/cinema/\"\n",
    "request = urllib.request.Request(url)\n",
    "page = urllib.request.urlopen(request)\n",
    "soup = BeautifulSoup(page,\"lxml\")\n",
    "\n",
    "# city\n",
    "soup.find('div', class_=\"sect-city\").find_all('a')"
   ]
  },
  {
   "cell_type": "code",
   "execution_count": 3,
   "metadata": {},
   "outputs": [
    {
     "data": {
      "text/plain": [
       "[<a attr-fmt=\"SCREENX 2D\" attr-mov=\"SCREENX 2D BLACK PANTHER\" class=\"active\" href=\"javascript:void(0);\" id=\"225555\">19:30</a>,\n",
       " <a attr-fmt=\"SCREENX 2D\" attr-mov=\"SCREENX 2D BLACK PANTHER\" class=\"active\" href=\"javascript:void(0);\" id=\"225556\">22:30</a>,\n",
       " <a attr-fmt=\"2D\" attr-mov=\" BLACK PANTHER\" class=\"active\" href=\"javascript:void(0);\" id=\"225509\">20:00</a>,\n",
       " <a attr-fmt=\"2D\" attr-mov=\" BLACK PANTHER\" class=\"active\" href=\"javascript:void(0);\" id=\"225510\">20:00</a>,\n",
       " <a attr-fmt=\"2D\" attr-mov=\" BLACK PANTHER\" class=\"active\" href=\"javascript:void(0);\" id=\"225545\">22:50</a>,\n",
       " <a attr-fmt=\"2D\" attr-mov=\" BLACK PANTHER\" class=\"active\" href=\"javascript:void(0);\" id=\"225550\">18:30</a>,\n",
       " <a attr-fmt=\"2D\" attr-mov=\" BLACK PANTHER\" class=\"active\" href=\"javascript:void(0);\" id=\"225551\">21:30</a>,\n",
       " <a attr-fmt=\"2D\" attr-mov=\" BLACK PANTHER\" class=\"active\" href=\"javascript:void(0);\" id=\"225515\">19:00</a>,\n",
       " <a attr-fmt=\"2D\" attr-mov=\" BLACK PANTHER\" class=\"active\" href=\"javascript:void(0);\" id=\"225516\">22:00</a>,\n",
       " <a attr-fmt=\"4DX3D\" attr-mov=\"4DX3D BLACK PANTHER\" class=\"active\" href=\"javascript:void(0);\" id=\"225530\">20:40</a>,\n",
       " <a attr-fmt=\"2D\" attr-mov=\" THE POST\" class=\"active\" href=\"javascript:void(0);\" id=\"225541\">18:45</a>,\n",
       " <a attr-fmt=\"2D\" attr-mov=\" THE POST\" class=\"active\" href=\"javascript:void(0);\" id=\"225542\">21:10</a>,\n",
       " <a attr-fmt=\"2D\" attr-mov=\" THE POST\" class=\"active\" href=\"javascript:void(0);\" id=\"225544\">20:10</a>,\n",
       " <a attr-fmt=\"2D\" attr-mov=\" SAMSON\" class=\"active\" href=\"javascript:void(0);\" id=\"225519\">19:15</a>,\n",
       " <a attr-fmt=\"2D\" attr-mov=\" SAMSON\" class=\"active\" href=\"javascript:void(0);\" id=\"231169\">21:40</a>,\n",
       " <a attr-fmt=\"2D\" attr-mov=\" EIFFEL I`M IN LOVE 2\" class=\"active\" href=\"javascript:void(0);\" id=\"225536\">19:15</a>,\n",
       " <a attr-fmt=\"2D\" attr-mov=\" EIFFEL I`M IN LOVE 2\" class=\"active\" href=\"javascript:void(0);\" id=\"225537\">21:45</a>,\n",
       " <a attr-fmt=\"2D\" attr-mov=\" MONSTER HUNT 2\" class=\"active\" href=\"javascript:void(0);\" id=\"225532\">19:40</a>,\n",
       " <a attr-fmt=\"2D\" attr-mov=\" DILAN 1990\" class=\"active\" href=\"javascript:void(0);\" id=\"225523\">18:15</a>,\n",
       " <a attr-fmt=\"2D\" attr-mov=\" DILAN 1990\" class=\"active\" href=\"javascript:void(0);\" id=\"233792\">22:00</a>,\n",
       " <a attr-fmt=\"2D\" attr-mov=\" AIYAARY\" class=\"active\" href=\"javascript:void(0);\" id=\"225526\">20:45</a>]"
      ]
     },
     "execution_count": 3,
     "metadata": {},
     "output_type": "execute_result"
    }
   ],
   "source": [
    "# cinema meta-data\n",
    "soup.find_all('div', class_='schedule-container')[0].select('.active')"
   ]
  },
  {
   "cell_type": "code",
   "execution_count": 4,
   "metadata": {},
   "outputs": [
    {
     "data": {
      "text/plain": [
       "[<a attr-fmt=\"SCREENX 2D\" attr-mov=\"SCREENX 2D BLACK PANTHER\" class=\"disabled\" href=\"javascript:void(0);\" id=\"225552\">10:30</a>,\n",
       " <a attr-fmt=\"SCREENX 2D\" attr-mov=\"SCREENX 2D BLACK PANTHER\" class=\"disabled\" href=\"javascript:void(0);\" id=\"225553\">13:30</a>,\n",
       " <a attr-fmt=\"SCREENX 2D\" attr-mov=\"SCREENX 2D BLACK PANTHER\" class=\"disabled\" href=\"javascript:void(0);\" id=\"225554\">16:30</a>,\n",
       " <a attr-fmt=\"2D\" attr-mov=\" BLACK PANTHER\" class=\"disabled\" href=\"javascript:void(0);\" id=\"225503\">11:00</a>,\n",
       " <a attr-fmt=\"2D\" attr-mov=\" BLACK PANTHER\" class=\"disabled\" href=\"javascript:void(0);\" id=\"225505\">14:00</a>,\n",
       " <a attr-fmt=\"2D\" attr-mov=\" BLACK PANTHER\" class=\"disabled\" href=\"javascript:void(0);\" id=\"225507\">17:00</a>,\n",
       " <a attr-fmt=\"2D\" attr-mov=\" BLACK PANTHER\" class=\"disabled\" href=\"javascript:void(0);\" id=\"225504\">11:00</a>,\n",
       " <a attr-fmt=\"2D\" attr-mov=\" BLACK PANTHER\" class=\"disabled\" href=\"javascript:void(0);\" id=\"225506\">14:00</a>,\n",
       " <a attr-fmt=\"2D\" attr-mov=\" BLACK PANTHER\" class=\"disabled\" href=\"javascript:void(0);\" id=\"225508\">17:00</a>,\n",
       " <a attr-fmt=\"2D\" attr-mov=\" BLACK PANTHER\" class=\"disabled\" href=\"javascript:void(0);\" id=\"225547\">11:30</a>,\n",
       " <a attr-fmt=\"2D\" attr-mov=\" BLACK PANTHER\" class=\"disabled\" href=\"javascript:void(0);\" id=\"225546\">14:30</a>,\n",
       " <a attr-fmt=\"2D\" attr-mov=\" BLACK PANTHER\" class=\"disabled\" href=\"javascript:void(0);\" id=\"225548\">12:30</a>,\n",
       " <a attr-fmt=\"2D\" attr-mov=\" BLACK PANTHER\" class=\"disabled\" href=\"javascript:void(0);\" id=\"225549\">15:30</a>,\n",
       " <a attr-fmt=\"2D\" attr-mov=\" BLACK PANTHER\" class=\"disabled\" href=\"javascript:void(0);\" id=\"225513\">13:00</a>,\n",
       " <a attr-fmt=\"2D\" attr-mov=\" BLACK PANTHER\" class=\"disabled\" href=\"javascript:void(0);\" id=\"225514\">16:00</a>,\n",
       " <a attr-fmt=\"4DX2D\" attr-mov=\"4DX2D BLACK PANTHER\" class=\"disabled\" href=\"javascript:void(0);\" id=\"225527\">12:00</a>,\n",
       " <a attr-fmt=\"4DX2D\" attr-mov=\"4DX2D BLACK PANTHER\" class=\"disabled\" href=\"javascript:void(0);\" id=\"225529\">17:45</a>,\n",
       " <a attr-fmt=\"4DX3D\" attr-mov=\"4DX3D BLACK PANTHER\" class=\"disabled\" href=\"javascript:void(0);\" id=\"225528\">14:50</a>,\n",
       " <a attr-fmt=\"2D\" attr-mov=\" THE POST\" class=\"disabled\" href=\"javascript:void(0);\" id=\"225538\">11:15</a>,\n",
       " <a attr-fmt=\"2D\" attr-mov=\" THE POST\" class=\"disabled\" href=\"javascript:void(0);\" id=\"228532\">13:45</a>,\n",
       " <a attr-fmt=\"2D\" attr-mov=\" THE POST\" class=\"disabled\" href=\"javascript:void(0);\" id=\"225540\">16:15</a>,\n",
       " <a attr-fmt=\"2D\" attr-mov=\" THE POST\" class=\"disabled\" href=\"javascript:void(0);\" id=\"225543\">17:30</a>,\n",
       " <a attr-fmt=\"2D\" attr-mov=\" SAMSON\" class=\"disabled\" href=\"javascript:void(0);\" id=\"225521\">11:15</a>,\n",
       " <a attr-fmt=\"2D\" attr-mov=\" SAMSON\" class=\"disabled\" href=\"javascript:void(0);\" id=\"225520\">16:50</a>,\n",
       " <a attr-fmt=\"2D\" attr-mov=\" EIFFEL I`M IN LOVE 2\" class=\"disabled\" href=\"javascript:void(0);\" id=\"225535\">11:45</a>,\n",
       " <a attr-fmt=\"2D\" attr-mov=\" EIFFEL I`M IN LOVE 2\" class=\"disabled\" href=\"javascript:void(0);\" id=\"232426\">14:15</a>,\n",
       " <a attr-fmt=\"2D\" attr-mov=\" EIFFEL I`M IN LOVE 2\" class=\"disabled\" href=\"javascript:void(0);\" id=\"225522\">16:45</a>,\n",
       " <a attr-fmt=\"2D\" attr-mov=\" MONSTER HUNT 2\" class=\"disabled\" href=\"javascript:void(0);\" id=\"225534\">12:35</a>,\n",
       " <a attr-fmt=\"2D\" attr-mov=\" MONSTER HUNT 2\" class=\"disabled\" href=\"javascript:void(0);\" id=\"233791\">15:00</a>,\n",
       " <a attr-fmt=\"2D\" attr-mov=\" MONSTER HUNT 2\" class=\"disabled\" href=\"javascript:void(0);\" id=\"225531\">17:20</a>,\n",
       " <a attr-fmt=\"2D\" attr-mov=\" DILAN 1990\" class=\"disabled\" href=\"javascript:void(0);\" id=\"225525\">13:15</a>,\n",
       " <a attr-fmt=\"2D\" attr-mov=\" DILAN 1990\" class=\"disabled\" href=\"javascript:void(0);\" id=\"228416\">15:40</a>,\n",
       " <a attr-fmt=\"2D\" attr-mov=\" AIYAARY\" class=\"disabled\" href=\"javascript:void(0);\" id=\"225517\">13:40</a>]"
      ]
     },
     "execution_count": 4,
     "metadata": {},
     "output_type": "execute_result"
    }
   ],
   "source": [
    "soup.find_all('div', class_='schedule-container')[0].select('.disabled')"
   ]
  },
  {
   "cell_type": "markdown",
   "metadata": {},
   "source": [
    "**Note**: Some of the disabled movie has the attr-mov removed. Hence, we could not extract the movie title. This is the source of missing value in Movie feature. Example:"
   ]
  },
  {
   "cell_type": "code",
   "execution_count": 5,
   "metadata": {},
   "outputs": [
    {
     "data": {
      "text/plain": [
       "[<a attr-fmt=\"2D\" attr-mov=\" DILAN 1990\" class=\"disabled\" href=\"javascript:void(0);\" id=\"213708\">10:45</a>,\n",
       " <a attr-fmt=\"2D\" attr-mov=\" DILAN 1990\" class=\"disabled\" href=\"javascript:void(0);\" id=\"233147\">15:35</a>,\n",
       " <a attr-fmt=\"2D\" attr-mov=\" YOWIS BEN\" class=\"disabled\" href=\"javascript:void(0);\" id=\"213819\">11:00</a>,\n",
       " <a attr-fmt=\"2D\" attr-mov=\" YOWIS BEN\" class=\"disabled\" href=\"javascript:void(0);\" id=\"213820\">13:10</a>,\n",
       " <a attr-fmt=\"2D\" attr-mov=\" YOWIS BEN\" class=\"disabled\" href=\"javascript:void(0);\" id=\"213821\">15:20</a>,\n",
       " <a attr-fmt=\"2D\" attr-mov=\" YOWIS BEN\" class=\"disabled\" href=\"javascript:void(0);\" id=\"213822\">17:30</a>,\n",
       " <a attr-fmt=\"2D\" attr-mov=\" MEET ME AFTER SUNSET\" class=\"disabled\" href=\"javascript:void(0);\" id=\"213825\">11:15</a>,\n",
       " <a attr-fmt=\"2D\" attr-mov=\" MEET ME AFTER SUNSET\" class=\"disabled\" href=\"javascript:void(0);\" id=\"213826\">13:25</a>,\n",
       " <a attr-fmt=\"2D\" attr-mov=\" BLACK PANTHER\" class=\"disabled\" href=\"javascript:void(0);\" id=\"213714\">11:30</a>,\n",
       " <a attr-fmt=\"2D\" attr-mov=\" BLACK PANTHER\" class=\"disabled\" href=\"javascript:void(0);\" id=\"213715\">14:15</a>,\n",
       " <a attr-fmt=\"2D\" attr-mov=\" BLACK PANTHER\" class=\"disabled\" href=\"javascript:void(0);\" id=\"213716\">17:00</a>,\n",
       " <a attr-fmt=\"2D\" attr-mov=\" THE POST\" class=\"disabled\" href=\"javascript:void(0);\" id=\"213829\">12:00</a>,\n",
       " <a attr-fmt=\"2D\" attr-mov=\" THE POST\" class=\"disabled\" href=\"javascript:void(0);\" id=\"213722\">16:25</a>,\n",
       " <a attr-fmt=\"2D\" attr-mov=\" EIFFEL I`M IN LOVE 2\" class=\"disabled\" href=\"javascript:void(0);\" id=\"213709\">13:05</a>,\n",
       " <a attr-fmt=\"2D\" attr-mov=\" EIFFEL I`M IN LOVE 2\" class=\"disabled\" href=\"javascript:void(0);\" id=\"213711\">17:30</a>,\n",
       " <a attr-fmt=\"2D\" attr-mov=\" BAYI GAIB: BAYI TUMBAL BAYI MATI\" class=\"disabled\" href=\"javascript:void(0);\" id=\"213831\">14:25</a>,\n",
       " <a attr-fmt=\"2D\" attr-mov=\" LONDON LOVE STORY 3\" class=\"disabled\" href=\"javascript:void(0);\" id=\"213710\">15:30</a>]"
      ]
     },
     "execution_count": 5,
     "metadata": {},
     "output_type": "execute_result"
    }
   ],
   "source": [
    "url = 'https://www.cgv.id/en/schedule/cinema/041/2018-02-22'\n",
    "request = urllib.request.Request(url)\n",
    "page = urllib.request.urlopen(request)\n",
    "soup2 = BeautifulSoup(page,\"lxml\")\n",
    "soup2.find_all('div', class_='schedule-container')[0].select('.disabled')"
   ]
  },
  {
   "cell_type": "code",
   "execution_count": 6,
   "metadata": {},
   "outputs": [
    {
     "data": {
      "text/plain": [
       "False"
      ]
     },
     "execution_count": 6,
     "metadata": {},
     "output_type": "execute_result"
    }
   ],
   "source": [
    "x = soup2.find_all('div', class_='schedule-container')[0].select('.disabled')\n",
    "str(type(x[0].get('attr-mov'))) == \"<class 'NoneType'>\""
   ]
  },
  {
   "cell_type": "code",
   "execution_count": 7,
   "metadata": {},
   "outputs": [
    {
     "data": {
      "text/plain": [
       "\"<class 'str'>\""
      ]
     },
     "execution_count": 7,
     "metadata": {},
     "output_type": "execute_result"
    }
   ],
   "source": [
    "str(type(x[0].get('attr-mov')))"
   ]
  },
  {
   "cell_type": "code",
   "execution_count": 8,
   "metadata": {},
   "outputs": [
    {
     "data": {
      "text/plain": [
       "'\\r\\n\\t\\t\\t\\t\\tDILAN 1990\\t\\t\\t\\t'"
      ]
     },
     "execution_count": 8,
     "metadata": {},
     "output_type": "execute_result"
    }
   ],
   "source": [
    "url = \"https://www.cgv.id/en/movies/info/17009800\"\n",
    "request = urllib.request.Request(url)\n",
    "page = urllib.request.urlopen(request)\n",
    "soup = BeautifulSoup(page,\"lxml\")\n",
    "\n",
    "# movie title\n",
    "soup.find('div', class_='movie-info-title').string"
   ]
  },
  {
   "cell_type": "code",
   "execution_count": 9,
   "metadata": {},
   "outputs": [
    {
     "data": {
      "text/plain": [
       "'/uploads/movie/compressed/17009800.jpg'"
      ]
     },
     "execution_count": 9,
     "metadata": {},
     "output_type": "execute_result"
    }
   ],
   "source": [
    "# movie link\n",
    "soup.find('div', class_=\"poster-section left\").find('img')['src']"
   ]
  },
  {
   "cell_type": "code",
   "execution_count": 36,
   "metadata": {},
   "outputs": [
    {
     "data": {
      "text/plain": [
       "[<li>STARRING : Sushar Manaying, Azman Hassan, Teddy Chin</li>,\n",
       " <li>DIRECTOR : Ryon Lee</li>,\n",
       " <li>CENSOR RATING : 17+</li>,\n",
       " <li>GENRE : HORROR </li>,\n",
       " <li>LANGUAGE : Other</li>,\n",
       " <li>SUBSTITLE : BAHASA INDONESIA</li>,\n",
       " <li>DURATION : 92 Minutes</li>]"
      ]
     },
     "execution_count": 36,
     "metadata": {},
     "output_type": "execute_result"
    }
   ],
   "source": [
    "# movie meta-data\n",
    "soup.find('div', class_='movie-add-info left').find_all('li')"
   ]
  },
  {
   "cell_type": "markdown",
   "metadata": {},
   "source": [
    "# 2. Scrapping"
   ]
  },
  {
   "cell_type": "code",
   "execution_count": 11,
   "metadata": {
    "collapsed": true
   },
   "outputs": [],
   "source": [
    "def city_cinema_df(soup):\n",
    "    \"\"\"\n",
    "    This function create city and cinema dataframe.\n",
    "    Input: soup\n",
    "    Output: dataframe\n",
    "    \"\"\"\n",
    "    # Create city, cinema dataframe\n",
    "    x = soup.find('div', class_=\"sect-city\").find_all('a')\n",
    "    cin = ''\n",
    "    city = []\n",
    "    cinema = []\n",
    "    for i in range(len(x)):\n",
    "        if soup.find('div', class_=\"sect-city\").find_all('a')[i].get('href') == 'javascript:void(0);':\n",
    "            cin = soup.find('div', class_=\"sect-city\").find_all('a')[i].string\n",
    "            continue\n",
    "        city.append(cin)\n",
    "        cinema.append(soup.find('div', class_=\"sect-city\").find_all('a')[i].string)\n",
    "        df1 = pd.DataFrame(cinema, columns=['Cinema'])\n",
    "        df1['City'] = city\n",
    "    return df1\n",
    "\n",
    "def cinema_df(soup, day):\n",
    "    \"\"\"\n",
    "    This function create cinema and its metadata\n",
    "    Input: soup, date of the movie\n",
    "    Output: dataframe\n",
    "    \"\"\"\n",
    "    cinema = []\n",
    "    date = []\n",
    "    movie = []\n",
    "    time = []\n",
    "    \n",
    "    active = soup.find_all('div', class_='schedule-container')[0].select('.active')\n",
    "    disable = soup.find_all('div', class_='schedule-container')[0].select('.disabled')\n",
    "    \n",
    "    for i in range(len(active)):\n",
    "        cinema.append(soup.find('div', class_='cinema-info-body').h4.string)\n",
    "        date.append(day)\n",
    "        movie.append(active[i].get('attr-mov'))\n",
    "        time.append(active[i].string)\n",
    "\n",
    "    for i in range(len(disable)):\n",
    "        cinema.append(soup.find('div', class_='cinema-info-body').h4.string)\n",
    "        date.append(day)\n",
    "        movie.append(disable[i].get('attr-mov'))\n",
    "        time.append(disable[i].string)    \n",
    "\n",
    "    df2 = pd.DataFrame(cinema, columns=['Cinema'])\n",
    "    df2['Date'] = date\n",
    "    df2['Title'] = movie # There is a space before the title name\n",
    "    df2['Time'] = time\n",
    "    return df2"
   ]
  },
  {
   "cell_type": "code",
   "execution_count": 12,
   "metadata": {},
   "outputs": [
    {
     "name": "stdout",
     "output_type": "stream",
     "text": [
      "[None, '002', '003', '004', '006', '020', '025', '028', '035', '037', None, '001', '011', '014', '029', '038', '0', '008', '1', '009', '010', '2', '007', '036', '040', '3', '016', '042', '4', '030', '5', '019', '046', '6', '043', '7', '044', '8', '021', '9', '034', '10', '024', '11', '023', '12', '047', '051', '13', '027', '039', '14', '033', '15', '026', '16', '041', '17', '018', '048', '18', '005', '015', '022', '19', '045', '20', '032', '21', '013', '017', '031']\n"
     ]
    }
   ],
   "source": [
    "# Get Cinema ID\n",
    "url = \"https://www.cgv.id/en/schedule/cinema/\"\n",
    "request = urllib.request.Request(url)\n",
    "page = urllib.request.urlopen(request)\n",
    "soup = BeautifulSoup(page,\"lxml\")\n",
    "\n",
    "ID = []\n",
    "x = soup.find('div', class_=\"sect-city\").find_all('a')\n",
    "for i in range(len(x)):\n",
    "    ID.append(x[i].get('id'))\n",
    "print(ID)"
   ]
  },
  {
   "cell_type": "code",
   "execution_count": 13,
   "metadata": {
    "collapsed": true
   },
   "outputs": [],
   "source": [
    "# Create city (df1) and cinema (df2) dataframe\n",
    "# Here, we cheat a little, remove None and non 3 digit numbers\n",
    "cin_no = ['002', '003', '004', '006', '020', '025', '028', '035', '037', '001', '011', '014', '029', '038', '008',\n",
    "          '009', '010', '007', '036', '040', '016', '042', '030', '019', '046', '043', '044', '021', '034', '024',\n",
    "          '023', '047', '051', '027', '039', '033', '026', '041', '018', '048', '005', '015', '022', '045', '032',\n",
    "          '21', '013', '017', '031']\n",
    "date = ['2018-02-19', '2018-02-20', '2018-02-21', '2018-02-22', '2018-02-23']\n",
    "df1 = city_cinema_df(soup)\n",
    "key = []\n",
    "dict_df2 = {}\n",
    "for no in cin_no:\n",
    "    for day in date:\n",
    "        url = 'https://www.cgv.id/en/schedule/cinema/'+no+'/'+day\n",
    "        request = urllib.request.Request(url)\n",
    "        page = urllib.request.urlopen(request)\n",
    "        soup = BeautifulSoup(page,\"lxml\")\n",
    "        name = no+' '+day\n",
    "        key.append(name)\n",
    "        dict_df2[name] = cinema_df(soup, day)\n",
    "    \n",
    "df2 = dict_df2[key[0]]\n",
    "for i in range(1, len(key)):\n",
    "    df2 = df2.append(dict_df2[key[i]], ignore_index=True)"
   ]
  },
  {
   "cell_type": "code",
   "execution_count": 14,
   "metadata": {},
   "outputs": [
    {
     "data": {
      "text/plain": [
       "Cinema     0\n",
       "Date       0\n",
       "Title     70\n",
       "Time       0\n",
       "dtype: int64"
      ]
     },
     "execution_count": 14,
     "metadata": {},
     "output_type": "execute_result"
    }
   ],
   "source": [
    "# Missing value due to disabled value\n",
    "df2.isnull().sum()"
   ]
  },
  {
   "cell_type": "markdown",
   "metadata": {},
   "source": [
    "Note on 22-Feb-2018, 2 movie detail is deleted as they are 2 new movie included.\n",
    "- Padmaaval https://www.cgv.id/en/movies/info/18002800\n",
    "- Padman https://www.cgv.id/en/movies/info/18003700    "
   ]
  },
  {
   "cell_type": "code",
   "execution_count": 37,
   "metadata": {},
   "outputs": [],
   "source": [
    "# Create movie (df3) dataframe\n",
    "# movie link\n",
    "movie_no = ['17009800', '18000800', '17007400', '18003600', '18004500',\n",
    "            '18004600','18002100','18004700', '18001400', '17009700', \n",
    "            '18001600', '18002000', '18001500', '18000700', '18002600', \n",
    "            '18000600', '18004300', '18003400']\n",
    "\n",
    "def extract(string):\n",
    "    # pick only the necessary part of string\n",
    "    no = string.find(' : ')\n",
    "    return string[no+3:]\n",
    "\n",
    "title = []\n",
    "link = []\n",
    "star = []\n",
    "director = []\n",
    "censor = []\n",
    "genre = []\n",
    "language = []\n",
    "subtitle = []\n",
    "duration = [] \n",
    "\n",
    "for no in movie_no:\n",
    "    url = \"https://www.cgv.id/en/movies/info/\"+no\n",
    "    request = urllib.request.Request(url)\n",
    "    page = urllib.request.urlopen(request)\n",
    "    soup = BeautifulSoup(page,\"lxml\")\n",
    "    \n",
    "    x = soup.find('div', class_='movie-add-info left').find_all('li')\n",
    "    if len(x)==6:\n",
    "        \"\"\"\n",
    "        Note this if is created due to some movies does not have director mentioned:\n",
    "        Example: Bunda (https://www.cgv.id/en/movies/info/18002600) and \n",
    "        London Love Story (https://www.cgv.id/en/movies/info/18000600)        \n",
    "        \"\"\"\n",
    "        title.append(soup.find('div', class_='movie-info-title').string.replace('\\r','').replace('\\t','').replace('\\n',''))\n",
    "        link.append('https://www.cgv.id'+soup.find('div', class_=\"poster-section left\").find('img')['src'])\n",
    "        star.append(extract(x[0].string))\n",
    "        director.append('N.A')\n",
    "        censor.append(extract(x[1].string))\n",
    "        genre.append(extract(x[2].string))\n",
    "        language.append(extract(x[3].string))\n",
    "        subtitle.append(extract(x[4].string))\n",
    "        duration.append(extract(x[5].string))\n",
    "        continue\n",
    "\n",
    "    # image URL\n",
    "    title.append(soup.find('div', class_='movie-info-title').string.replace('\\r','').replace('\\t','').replace('\\n',''))\n",
    "    link.append('https://www.cgv.id'+soup.find('div', class_=\"poster-section left\").find('img')['src'])\n",
    "    star.append(extract(x[0].string))\n",
    "    director.append(extract(x[1].string))\n",
    "    censor.append(extract(x[2].string))\n",
    "    genre.append(extract(x[3].string))\n",
    "    language.append(extract(x[4].string))\n",
    "    subtitle.append(extract(x[5].string))\n",
    "    duration.append(extract(x[6].string))\n",
    "\n",
    "df3 = pd.DataFrame(title, columns=['Title'])\n",
    "df3['Image_Link'] = link\n",
    "df3['Starring'] = star\n",
    "df3['Director'] = director\n",
    "df3['Censor'] = censor\n",
    "df3['Genre'] = genre\n",
    "df3['Language'] = language\n",
    "df3['Subtitle'] = subtitle\n",
    "df3['Duration'] = duration"
   ]
  },
  {
   "cell_type": "markdown",
   "metadata": {
    "collapsed": true
   },
   "source": [
    "# 3. Our DataFrame"
   ]
  },
  {
   "cell_type": "code",
   "execution_count": 38,
   "metadata": {},
   "outputs": [
    {
     "data": {
      "text/html": [
       "<div>\n",
       "<style scoped>\n",
       "    .dataframe tbody tr th:only-of-type {\n",
       "        vertical-align: middle;\n",
       "    }\n",
       "\n",
       "    .dataframe tbody tr th {\n",
       "        vertical-align: top;\n",
       "    }\n",
       "\n",
       "    .dataframe thead th {\n",
       "        text-align: right;\n",
       "    }\n",
       "</style>\n",
       "<table border=\"1\" class=\"dataframe\">\n",
       "  <thead>\n",
       "    <tr style=\"text-align: right;\">\n",
       "      <th></th>\n",
       "      <th>Cinema</th>\n",
       "      <th>City</th>\n",
       "    </tr>\n",
       "  </thead>\n",
       "  <tbody>\n",
       "    <tr>\n",
       "      <th>0</th>\n",
       "      <td>Grand Indonesia</td>\n",
       "      <td>Jakarta</td>\n",
       "    </tr>\n",
       "    <tr>\n",
       "      <th>1</th>\n",
       "      <td>Pacific Place</td>\n",
       "      <td>Jakarta</td>\n",
       "    </tr>\n",
       "    <tr>\n",
       "      <th>2</th>\n",
       "      <td>Mall of Indonesia</td>\n",
       "      <td>Jakarta</td>\n",
       "    </tr>\n",
       "    <tr>\n",
       "      <th>3</th>\n",
       "      <td>Central Park</td>\n",
       "      <td>Jakarta</td>\n",
       "    </tr>\n",
       "    <tr>\n",
       "      <th>4</th>\n",
       "      <td>Slipi Jaya</td>\n",
       "      <td>Jakarta</td>\n",
       "    </tr>\n",
       "  </tbody>\n",
       "</table>\n",
       "</div>"
      ],
      "text/plain": [
       "              Cinema     City\n",
       "0    Grand Indonesia  Jakarta\n",
       "1      Pacific Place  Jakarta\n",
       "2  Mall of Indonesia  Jakarta\n",
       "3       Central Park  Jakarta\n",
       "4         Slipi Jaya  Jakarta"
      ]
     },
     "execution_count": 38,
     "metadata": {},
     "output_type": "execute_result"
    }
   ],
   "source": [
    "df1.head()"
   ]
  },
  {
   "cell_type": "code",
   "execution_count": 39,
   "metadata": {},
   "outputs": [
    {
     "data": {
      "text/html": [
       "<div>\n",
       "<style scoped>\n",
       "    .dataframe tbody tr th:only-of-type {\n",
       "        vertical-align: middle;\n",
       "    }\n",
       "\n",
       "    .dataframe tbody tr th {\n",
       "        vertical-align: top;\n",
       "    }\n",
       "\n",
       "    .dataframe thead th {\n",
       "        text-align: right;\n",
       "    }\n",
       "</style>\n",
       "<table border=\"1\" class=\"dataframe\">\n",
       "  <thead>\n",
       "    <tr style=\"text-align: right;\">\n",
       "      <th></th>\n",
       "      <th>Cinema</th>\n",
       "      <th>Date</th>\n",
       "      <th>Title</th>\n",
       "      <th>Time</th>\n",
       "    </tr>\n",
       "  </thead>\n",
       "  <tbody>\n",
       "    <tr>\n",
       "      <th>0</th>\n",
       "      <td>Grand Indonesia</td>\n",
       "      <td>2018-02-19</td>\n",
       "      <td>SCREENX 2D BLACK PANTHER</td>\n",
       "      <td>10:30</td>\n",
       "    </tr>\n",
       "    <tr>\n",
       "      <th>1</th>\n",
       "      <td>Grand Indonesia</td>\n",
       "      <td>2018-02-19</td>\n",
       "      <td>SCREENX 2D BLACK PANTHER</td>\n",
       "      <td>13:30</td>\n",
       "    </tr>\n",
       "    <tr>\n",
       "      <th>2</th>\n",
       "      <td>Grand Indonesia</td>\n",
       "      <td>2018-02-19</td>\n",
       "      <td>SCREENX 2D BLACK PANTHER</td>\n",
       "      <td>16:20</td>\n",
       "    </tr>\n",
       "    <tr>\n",
       "      <th>3</th>\n",
       "      <td>Grand Indonesia</td>\n",
       "      <td>2018-02-19</td>\n",
       "      <td>SCREENX 2D BLACK PANTHER</td>\n",
       "      <td>19:15</td>\n",
       "    </tr>\n",
       "    <tr>\n",
       "      <th>4</th>\n",
       "      <td>Grand Indonesia</td>\n",
       "      <td>2018-02-19</td>\n",
       "      <td>SCREENX 2D BLACK PANTHER</td>\n",
       "      <td>22:10</td>\n",
       "    </tr>\n",
       "  </tbody>\n",
       "</table>\n",
       "</div>"
      ],
      "text/plain": [
       "            Cinema        Date                     Title   Time\n",
       "0  Grand Indonesia  2018-02-19  SCREENX 2D BLACK PANTHER  10:30\n",
       "1  Grand Indonesia  2018-02-19  SCREENX 2D BLACK PANTHER  13:30\n",
       "2  Grand Indonesia  2018-02-19  SCREENX 2D BLACK PANTHER  16:20\n",
       "3  Grand Indonesia  2018-02-19  SCREENX 2D BLACK PANTHER  19:15\n",
       "4  Grand Indonesia  2018-02-19  SCREENX 2D BLACK PANTHER  22:10"
      ]
     },
     "execution_count": 39,
     "metadata": {},
     "output_type": "execute_result"
    }
   ],
   "source": [
    "df2.head()"
   ]
  },
  {
   "cell_type": "code",
   "execution_count": 40,
   "metadata": {},
   "outputs": [
    {
     "data": {
      "text/html": [
       "<div>\n",
       "<style scoped>\n",
       "    .dataframe tbody tr th:only-of-type {\n",
       "        vertical-align: middle;\n",
       "    }\n",
       "\n",
       "    .dataframe tbody tr th {\n",
       "        vertical-align: top;\n",
       "    }\n",
       "\n",
       "    .dataframe thead th {\n",
       "        text-align: right;\n",
       "    }\n",
       "</style>\n",
       "<table border=\"1\" class=\"dataframe\">\n",
       "  <thead>\n",
       "    <tr style=\"text-align: right;\">\n",
       "      <th></th>\n",
       "      <th>Title</th>\n",
       "      <th>Image_Link</th>\n",
       "      <th>Starring</th>\n",
       "      <th>Director</th>\n",
       "      <th>Censor</th>\n",
       "      <th>Genre</th>\n",
       "      <th>Language</th>\n",
       "      <th>Subtitle</th>\n",
       "      <th>Duration</th>\n",
       "    </tr>\n",
       "  </thead>\n",
       "  <tbody>\n",
       "    <tr>\n",
       "      <th>0</th>\n",
       "      <td>DILAN 1990</td>\n",
       "      <td>https://www.cgv.id/uploads/movie/compressed/17...</td>\n",
       "      <td>Iqbaal Ramadhan , Vanesha Prescilla , Giulio P...</td>\n",
       "      <td>Fajar Bustomi, Pidi Baiq</td>\n",
       "      <td>13+</td>\n",
       "      <td>DRAMA</td>\n",
       "      <td>BAHASA INDONESIA</td>\n",
       "      <td>None</td>\n",
       "      <td>112 Minutes</td>\n",
       "    </tr>\n",
       "    <tr>\n",
       "      <th>1</th>\n",
       "      <td>DOWNSIZING</td>\n",
       "      <td>https://www.cgv.id/uploads/movie/compressed/18...</td>\n",
       "      <td>Matt Damon , Kristen Wiig , Jason Sudeikis</td>\n",
       "      <td>Alexander Payne</td>\n",
       "      <td>13+</td>\n",
       "      <td>COMEDY</td>\n",
       "      <td>English</td>\n",
       "      <td>BAHASA INDONESIA</td>\n",
       "      <td>134 Minutes</td>\n",
       "    </tr>\n",
       "    <tr>\n",
       "      <th>2</th>\n",
       "      <td>DEN OF THIEVES</td>\n",
       "      <td>https://www.cgv.id/uploads/movie/compressed/17...</td>\n",
       "      <td>Gerard Butler, Pablo Schriber, Curtis '50 Cent...</td>\n",
       "      <td>Christian Gudegast</td>\n",
       "      <td>17+</td>\n",
       "      <td>ACTION</td>\n",
       "      <td>English</td>\n",
       "      <td>BAHASA INDONESIA</td>\n",
       "      <td>140 Minutes</td>\n",
       "    </tr>\n",
       "    <tr>\n",
       "      <th>3</th>\n",
       "      <td>24 HOURS TO LIVE</td>\n",
       "      <td>https://www.cgv.id/uploads/movie/compressed/18...</td>\n",
       "      <td>Ethan Hawke, Rutger Hauer, Nathalie Boltt</td>\n",
       "      <td>Brian Smrz</td>\n",
       "      <td>17+</td>\n",
       "      <td>ACTION</td>\n",
       "      <td>English</td>\n",
       "      <td>BAHASA INDONESIA</td>\n",
       "      <td>92 Minutes</td>\n",
       "    </tr>\n",
       "    <tr>\n",
       "      <th>4</th>\n",
       "      <td>MONSTER HUNT 2</td>\n",
       "      <td>https://www.cgv.id/uploads/movie/compressed/18...</td>\n",
       "      <td>Raman Hui</td>\n",
       "      <td>Tony Chiu-Wai Leung, Baihe Bai, Boran Jing</td>\n",
       "      <td>13+</td>\n",
       "      <td>FANTASY</td>\n",
       "      <td>Chinese</td>\n",
       "      <td>BAHASA INDONESIA</td>\n",
       "      <td>110 Minutes</td>\n",
       "    </tr>\n",
       "  </tbody>\n",
       "</table>\n",
       "</div>"
      ],
      "text/plain": [
       "               Title                                         Image_Link  \\\n",
       "0         DILAN 1990  https://www.cgv.id/uploads/movie/compressed/17...   \n",
       "1         DOWNSIZING  https://www.cgv.id/uploads/movie/compressed/18...   \n",
       "2     DEN OF THIEVES  https://www.cgv.id/uploads/movie/compressed/17...   \n",
       "3  24 HOURS TO LIVE   https://www.cgv.id/uploads/movie/compressed/18...   \n",
       "4     MONSTER HUNT 2  https://www.cgv.id/uploads/movie/compressed/18...   \n",
       "\n",
       "                                            Starring  \\\n",
       "0  Iqbaal Ramadhan , Vanesha Prescilla , Giulio P...   \n",
       "1         Matt Damon , Kristen Wiig , Jason Sudeikis   \n",
       "2  Gerard Butler, Pablo Schriber, Curtis '50 Cent...   \n",
       "3          Ethan Hawke, Rutger Hauer, Nathalie Boltt   \n",
       "4                                          Raman Hui   \n",
       "\n",
       "                                     Director Censor    Genre  \\\n",
       "0                    Fajar Bustomi, Pidi Baiq    13+    DRAMA   \n",
       "1                             Alexander Payne    13+   COMEDY   \n",
       "2                          Christian Gudegast    17+   ACTION   \n",
       "3                                  Brian Smrz    17+   ACTION   \n",
       "4  Tony Chiu-Wai Leung, Baihe Bai, Boran Jing    13+  FANTASY   \n",
       "\n",
       "           Language          Subtitle     Duration  \n",
       "0  BAHASA INDONESIA              None  112 Minutes  \n",
       "1           English  BAHASA INDONESIA  134 Minutes  \n",
       "2           English  BAHASA INDONESIA  140 Minutes  \n",
       "3           English  BAHASA INDONESIA   92 Minutes  \n",
       "4           Chinese  BAHASA INDONESIA  110 Minutes  "
      ]
     },
     "execution_count": 40,
     "metadata": {},
     "output_type": "execute_result"
    }
   ],
   "source": [
    "df3.head()"
   ]
  },
  {
   "cell_type": "markdown",
   "metadata": {},
   "source": [
    "The Title in df2 have space in front. We need to remove the space. To do that, first we will fill the missing value. Then loop the whole value."
   ]
  },
  {
   "cell_type": "code",
   "execution_count": 41,
   "metadata": {},
   "outputs": [
    {
     "data": {
      "text/html": [
       "<div>\n",
       "<style scoped>\n",
       "    .dataframe tbody tr th:only-of-type {\n",
       "        vertical-align: middle;\n",
       "    }\n",
       "\n",
       "    .dataframe tbody tr th {\n",
       "        vertical-align: top;\n",
       "    }\n",
       "\n",
       "    .dataframe thead th {\n",
       "        text-align: right;\n",
       "    }\n",
       "</style>\n",
       "<table border=\"1\" class=\"dataframe\">\n",
       "  <thead>\n",
       "    <tr style=\"text-align: right;\">\n",
       "      <th></th>\n",
       "      <th>Cinema</th>\n",
       "      <th>Date</th>\n",
       "      <th>Title</th>\n",
       "      <th>Time</th>\n",
       "      <th>City</th>\n",
       "      <th>Image_Link</th>\n",
       "      <th>Starring</th>\n",
       "      <th>Director</th>\n",
       "      <th>Censor</th>\n",
       "      <th>Genre</th>\n",
       "      <th>Language</th>\n",
       "      <th>Subtitle</th>\n",
       "      <th>Duration</th>\n",
       "    </tr>\n",
       "  </thead>\n",
       "  <tbody>\n",
       "    <tr>\n",
       "      <th>0</th>\n",
       "      <td>Grand Indonesia</td>\n",
       "      <td>2018-02-19</td>\n",
       "      <td>CREENX 2D BLACK PANTHER</td>\n",
       "      <td>10:30</td>\n",
       "      <td>Jakarta</td>\n",
       "      <td>NaN</td>\n",
       "      <td>NaN</td>\n",
       "      <td>NaN</td>\n",
       "      <td>NaN</td>\n",
       "      <td>NaN</td>\n",
       "      <td>NaN</td>\n",
       "      <td>NaN</td>\n",
       "      <td>NaN</td>\n",
       "    </tr>\n",
       "    <tr>\n",
       "      <th>1</th>\n",
       "      <td>Grand Indonesia</td>\n",
       "      <td>2018-02-19</td>\n",
       "      <td>CREENX 2D BLACK PANTHER</td>\n",
       "      <td>13:30</td>\n",
       "      <td>Jakarta</td>\n",
       "      <td>NaN</td>\n",
       "      <td>NaN</td>\n",
       "      <td>NaN</td>\n",
       "      <td>NaN</td>\n",
       "      <td>NaN</td>\n",
       "      <td>NaN</td>\n",
       "      <td>NaN</td>\n",
       "      <td>NaN</td>\n",
       "    </tr>\n",
       "    <tr>\n",
       "      <th>2</th>\n",
       "      <td>Grand Indonesia</td>\n",
       "      <td>2018-02-19</td>\n",
       "      <td>CREENX 2D BLACK PANTHER</td>\n",
       "      <td>16:20</td>\n",
       "      <td>Jakarta</td>\n",
       "      <td>NaN</td>\n",
       "      <td>NaN</td>\n",
       "      <td>NaN</td>\n",
       "      <td>NaN</td>\n",
       "      <td>NaN</td>\n",
       "      <td>NaN</td>\n",
       "      <td>NaN</td>\n",
       "      <td>NaN</td>\n",
       "    </tr>\n",
       "    <tr>\n",
       "      <th>3</th>\n",
       "      <td>Grand Indonesia</td>\n",
       "      <td>2018-02-19</td>\n",
       "      <td>CREENX 2D BLACK PANTHER</td>\n",
       "      <td>19:15</td>\n",
       "      <td>Jakarta</td>\n",
       "      <td>NaN</td>\n",
       "      <td>NaN</td>\n",
       "      <td>NaN</td>\n",
       "      <td>NaN</td>\n",
       "      <td>NaN</td>\n",
       "      <td>NaN</td>\n",
       "      <td>NaN</td>\n",
       "      <td>NaN</td>\n",
       "    </tr>\n",
       "    <tr>\n",
       "      <th>4</th>\n",
       "      <td>Grand Indonesia</td>\n",
       "      <td>2018-02-19</td>\n",
       "      <td>CREENX 2D BLACK PANTHER</td>\n",
       "      <td>22:10</td>\n",
       "      <td>Jakarta</td>\n",
       "      <td>NaN</td>\n",
       "      <td>NaN</td>\n",
       "      <td>NaN</td>\n",
       "      <td>NaN</td>\n",
       "      <td>NaN</td>\n",
       "      <td>NaN</td>\n",
       "      <td>NaN</td>\n",
       "      <td>NaN</td>\n",
       "    </tr>\n",
       "  </tbody>\n",
       "</table>\n",
       "</div>"
      ],
      "text/plain": [
       "            Cinema        Date                    Title   Time     City  \\\n",
       "0  Grand Indonesia  2018-02-19  CREENX 2D BLACK PANTHER  10:30  Jakarta   \n",
       "1  Grand Indonesia  2018-02-19  CREENX 2D BLACK PANTHER  13:30  Jakarta   \n",
       "2  Grand Indonesia  2018-02-19  CREENX 2D BLACK PANTHER  16:20  Jakarta   \n",
       "3  Grand Indonesia  2018-02-19  CREENX 2D BLACK PANTHER  19:15  Jakarta   \n",
       "4  Grand Indonesia  2018-02-19  CREENX 2D BLACK PANTHER  22:10  Jakarta   \n",
       "\n",
       "  Image_Link Starring Director Censor Genre Language Subtitle Duration  \n",
       "0        NaN      NaN      NaN    NaN   NaN      NaN      NaN      NaN  \n",
       "1        NaN      NaN      NaN    NaN   NaN      NaN      NaN      NaN  \n",
       "2        NaN      NaN      NaN    NaN   NaN      NaN      NaN      NaN  \n",
       "3        NaN      NaN      NaN    NaN   NaN      NaN      NaN      NaN  \n",
       "4        NaN      NaN      NaN    NaN   NaN      NaN      NaN      NaN  "
      ]
     },
     "execution_count": 41,
     "metadata": {},
     "output_type": "execute_result"
    }
   ],
   "source": [
    "df2['Title'] = df2.Title.fillna(' N.A.')\n",
    "df2['Title'] = [x[1:] for x in df2.Title.values]\n",
    "# Use Merge, Join to combine the dataframe\n",
    "df = pd.merge(df2, df1, on=['Cinema'], how='left')\n",
    "df = pd.merge(df, df3, on=['Title'], how='left')\n",
    "df.head()"
   ]
  },
  {
   "cell_type": "code",
   "execution_count": 42,
   "metadata": {
    "collapsed": true
   },
   "outputs": [],
   "source": [
    "# export the dataframe\n",
    "df.to_csv(r'C:\\Users\\LW130003\\cgv.csv', index=False)"
   ]
  }
 ],
 "metadata": {
  "kernelspec": {
   "display_name": "Python 3",
   "language": "python",
   "name": "python3"
  },
  "language_info": {
   "codemirror_mode": {
    "name": "ipython",
    "version": 3
   },
   "file_extension": ".py",
   "mimetype": "text/x-python",
   "name": "python",
   "nbconvert_exporter": "python",
   "pygments_lexer": "ipython3",
   "version": "3.6.1"
  }
 },
 "nbformat": 4,
 "nbformat_minor": 2
}
