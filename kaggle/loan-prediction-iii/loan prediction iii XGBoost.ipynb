{
 "cells": [
  {
   "cell_type": "markdown",
   "metadata": {
    "collapsed": true
   },
   "source": [
    "# eXtreme Gradient Boosting (XGBoost)\n",
    "\n",
    "## 1. Introduction\n",
    "If things don’t go your way in predictive modeling, use XGboost. XGBoost algorithm has become the ultimate weapon of many data scientist. It’s a highly sophisticated algorithm, powerful enough to deal with all sorts of irregularities of data.\n",
    "\n",
    "Building a model using XGBoost is easy. But, improving the model using XGBoost is difficult (at least I struggled a lot). This algorithm uses multiple parameters. To improve the model, parameter tuning is must. It is very difficult to get answers to practical questions like – Which set of parameters you should tune ? What is the ideal value of these parameters to obtain optimal output?\n",
    "\n",
    "## 2. The Advantage of XGBoost\n",
    "\n",
    "1. **Regularization:**\n",
    "    - Standard GBM implementation has no regularization like XGBoost, therefore it - also helps to reduce overfitting.\n",
    "    - In fact, XGBoost is also known as ‘regularized boosting‘ technique.\n",
    "\n",
    "2. **Parallel Processing:**\n",
    "    - XGBoost implements parallel processing and is blazingly faster as compared to GBM.\n",
    "    - But hang on, we know that boosting is sequential process so how can it be parallelized? We know that each tree can be built only after the previous one, so what stops us from making a tree using all cores? I hope you get where I’m coming from. Check this link out to explore further.\n",
    "    - XGBoost also supports implementation on Hadoop.\n",
    "\n",
    "3. **High Flexibility**\n",
    "    - XGBoost allow users to define custom optimization objectives and evaluation criteria.\n",
    "    - This adds a whole new dimension to the model and there is no limit to what we can do.\n",
    "\n",
    "4. **Handling Missing Values**\n",
    "    - XGBoost has an in-built routine to handle missing values.\n",
    "    - User is required to supply a different value than other observations and pass that as a parameter. XGBoost tries different things as it encounters a missing value on each node and learns which path to take for missing values in future.\n",
    "\n",
    "5. **Tree Pruning:**\n",
    "    - A GBM would stop splitting a node when it encounters a negative loss in the split. Thus it is more of a greedy algorithm.\n",
    "    - XGBoost on the other hand make splits upto the max_depth specified and then start pruning the tree backwards and remove splits beyond which there is no positive gain.\n",
    "    - Another advantage is that sometimes a split of negative loss say -2 may be followed by a split of positive loss +10. GBM would stop as it encounters -2. But XGBoost will go deeper and it will see a combined effect of +8 of the split and keep both.\n",
    "\n",
    "6. **Built-in Cross-Validation**\n",
    "    - XGBoost allows user to run a cross-validation at each iteration of the boosting process and thus it is easy to get the exact optimum number of boosting iterations in a single run.\n",
    "    - This is unlike GBM where we have to run a grid-search and only a limited values can be tested.\n",
    "\n",
    "7. **Continue on Existing Model**\n",
    "    - User can start training an XGBoost model from its last iteration of previous run. This can be of significant advantage in certain specific applications.\n",
    "    - GBM implementation of sklearn also has this feature so they are even on this point.\n",
    "\n",
    "## 3. XGBoost Parameters\n",
    "\n",
    "The overall parameters have been divided into 3 categories by XGBoost authors:\n",
    "1. **General Parameters**: Guide the overall functioning\n",
    "2. **Booster Parameters**: Guide the individual booster (tree/regression) at each step\n",
    "3. **Learning Task Parameters**: Guide the optimization performed\n",
    "\n",
    "### 3.1 General Parameters\n",
    "General Parameters define the overall functionality of XGBoost.\n",
    "\n",
    "1. **booster [default=gbtree]**\n",
    "    - Select the type of model to run at each iteration. It has 2 options:\n",
    "    - gbtree: tree-based models\n",
    "    - gblinear: linear models\n",
    "2. **silent [default=0]:**\n",
    "    - Silent mode is activated is set to 1, i.e. no running messages will be printed.\n",
    "    - It’s generally good to keep it 0 as the messages might help in understanding the model.\n",
    "3. **nthread [default to maximum number of threads available if not set]**\n",
    "    - This is used for parallel processing and number of cores in the system should be entered\n",
    "    - If you wish to run on all cores, value should not be entered and algorithm will detect automatically\n",
    "\n",
    "There are 2 more parameters which are set automatically by XGBoost and you need not worry about them. Lets move on to Booster parameters.\n",
    "\n",
    "### 3.2 Booster Parameters\n",
    "\n",
    "Though there are 2 types of boosters, I’ll consider only tree booster here because it always outperforms the linear booster and thus the later is rarely used.\n",
    "\n",
    "1. **eta [default=0.3]**\n",
    "    - Analogous to learning rate in GBM\n",
    "    - Makes the model more robust by shrinking the weights on each step\n",
    "    - **Typical final values to be used: 0.01-0.2**\n",
    "2. **min_child_weight [default=1]**\n",
    "    - Defines the minimum sum of weights of all observations required in a child.\n",
    "    - This is similar to min_child_leaf in GBM but not exactly. This refers to min “sum of weights” of observations while GBM has min “number of observations”.\n",
    "    - Used to control over-fitting. Higher values prevent a model from learning relations which might be highly specific to the particular sample selected for a tree.\n",
    "    - Too high values can lead to under-fitting hence, it should be tuned using CV.\n",
    "3. **max_depth [default=6]**\n",
    "    - The maximum depth of a tree, same as GBM.\n",
    "    - Used to control over-fitting as higher depth will allow model to learn relations very specific to a particular sample.\n",
    "    - Should be tuned using CV.\n",
    "    - **Typical values: 3-10**\n",
    "4. **max_leaf_nodes**\n",
    "    - The maximum number of terminal nodes or leaves in a tree.\n",
    "    - Can be defined in place of max_depth. Since binary trees are created, a depth of ‘n’ would produce a maximum of 2^n leaves.\n",
    "    - If this is defined, GBM will ignore max_depth.\n",
    "5. **gamma [default=0]**\n",
    "    - A node is split only when the resulting split gives a positive reduction in the loss function. Gamma specifies the minimum loss reduction required to make a split.\n",
    "    - Makes the algorithm conservative. The values can vary depending on the loss function and should be tuned.\n",
    "6. **max_delta_step [default=0]**\n",
    "    - In maximum delta step we allow each tree’s weight estimation to be. If the value is set to 0, it means there is no constraint. If it is set to a positive value, it can help making the update step more conservative.\n",
    "    - Usually this parameter is not needed, but it might help in logistic regression when class is extremely imbalanced.\n",
    "    - This is generally not used but you can explore further if you wish.\n",
    "7. **subsample [default=1]**\n",
    "    - Same as the subsample of GBM. Denotes the fraction of observations to be randomly samples for each tree.\n",
    "    - Lower values make the algorithm more conservative and prevents overfitting but too small values might lead to under-fitting.\n",
    "    - **Typical values: 0.5-1**\n",
    "8. **colsample_bytree [default=1]**\n",
    "    - Similar to max_features in GBM. Denotes the fraction of columns to be randomly samples for each tree.\n",
    "    - **Typical values: 0.5-1**\n",
    "9. **colsample_bylevel [default=1]**\n",
    "    - Denotes the subsample ratio of columns for each split, in each level.\n",
    "    - I don’t use this often because subsample and colsample_bytree will do the job for you. but you can explore further if you feel so.\n",
    "10. **lambda [default=1]**\n",
    "    - L2 regularization term on weights (analogous to Ridge regression)\n",
    "    - This used to handle the regularization part of XGBoost. Though many data scientists don’t use it often, it should be explored to reduce overfitting.\n",
    "11. **alpha [default=0]**\n",
    "    - L1 regularization term on weight (analogous to Lasso regression)\n",
    "    - Can be used in case of very high dimensionality so that the algorithm runs faster when implemented\n",
    "12. **scale_pos_weight [default=1]**\n",
    "    - A value greater than 0 should be used in case of high class imbalance as it helps in faster convergence.\n",
    "    \n",
    "### 3.3 Learning Task Parameters\n",
    "\n",
    "These parameters are used to define the optimization objective the metric to be calculated at each step.\n",
    "\n",
    "1. **objective [default=reg:linear]**\n",
    "    - This defines the loss function to be minimized. Mostly used values are:\n",
    "        - **binary:logistic** –logistic regression for binary classification, returns predicted probability (not class)\n",
    "        - **multi:softmax** –multiclass classification using the softmax objective, returns predicted class (not probabilities)\n",
    "            - you also need to set an additional num_class (number of classes) parameter defining the number of unique classes\n",
    "        - **multi:softprob** –same as softmax, but returns predicted probability of each data point belonging to each class.\n",
    "\n",
    "2. **eval_metric [ default according to objective ]**\n",
    "    - The metric to be used for validation data.\n",
    "    - The default values are rmse for regression and error for classification.\n",
    "    - Typical values are:\n",
    "        - **rmse** – root mean square error\n",
    "        - **mae** – mean absolute error\n",
    "        - **logloss** – negative log-likelihood\n",
    "        - **error** – Binary classification error rate (0.5 threshold)\n",
    "        - **merror** – Multiclass classification error rate\n",
    "        - **mlogloss** – Multiclass logloss\n",
    "        = **auc**: Area under the curve\n",
    "4. **seed [default=0]**\n",
    "    - The random number seed.\n",
    "    - Can be used for generating reproducible results and also for parameter tuning.\n",
    "\n",
    "If you’ve been using Scikit-Learn till now, these parameter names might not look familiar. A good news is that xgboost module in python has an sklearn wrapper called XGBClassifier. It uses sklearn style naming convention. The parameters names which will change are:\n",
    "1. eta –> learning_rate\n",
    "2. lambda –> reg_lambda\n",
    "3. alpha –> reg_alpha\n",
    "\n",
    "## 4. Load Data"
   ]
  },
  {
   "cell_type": "code",
   "execution_count": 1,
   "metadata": {},
   "outputs": [
    {
     "name": "stderr",
     "output_type": "stream",
     "text": [
      "C:\\Users\\LW130003\\Anaconda3\\lib\\site-packages\\sklearn\\cross_validation.py:44: DeprecationWarning: This module was deprecated in version 0.18 in favor of the model_selection module into which all the refactored classes and functions are moved. Also note that the interface of the new CV iterators are different from that of this module. This module will be removed in 0.20.\n",
      "  \"This module will be removed in 0.20.\", DeprecationWarning)\n",
      "C:\\Users\\LW130003\\Anaconda3\\lib\\site-packages\\sklearn\\grid_search.py:43: DeprecationWarning: This module was deprecated in version 0.18 in favor of the model_selection module into which all the refactored classes and functions are moved. This module will be removed in 0.20.\n",
      "  DeprecationWarning)\n"
     ]
    },
    {
     "data": {
      "text/plain": [
       "((614, 16), (367, 15))"
      ]
     },
     "execution_count": 1,
     "metadata": {},
     "output_type": "execute_result"
    }
   ],
   "source": [
    "import pandas as pd\n",
    "import numpy as np\n",
    "import xgboost as xgb\n",
    "from xgboost.sklearn import XGBClassifier\n",
    "from sklearn import cross_validation, metrics   #Additional scklearn functions\n",
    "from sklearn.grid_search import GridSearchCV   #Perforing grid search\n",
    "\n",
    "import matplotlib.pylab as plt\n",
    "%matplotlib inline\n",
    "from matplotlib.pylab import rcParams\n",
    "rcParams['figure.figsize'] = 12, 4\n",
    "\n",
    "#Load data:\n",
    "train = pd.read_csv(r'C:\\Users\\LW130003\\Documents\\GitHub\\loan-prediction-iii\\train_modified.csv')\n",
    "test = pd.read_csv(r'C:\\Users\\LW130003\\Documents\\GitHub\\loan-prediction-iii\\test_modified.csv')\n",
    "\n",
    "target = 'Loan_Status'\n",
    "\n",
    "train.shape, test.shape"
   ]
  },
  {
   "cell_type": "markdown",
   "metadata": {},
   "source": [
    "Note:\n",
    "1. **xgb** – this is the direct xgboost library. I will use a specific function “cv” from this library\n",
    "2. **XGBClassifier** – this is an sklearn wrapper for XGBoost. This allows us to use sklearn’s Grid Search with parallel processing in the same way we did for GBM\n",
    "Before proceeding further, lets define a function which will help us create XGBoost models and perform cross-validation. The best part is that you can take this function as it is and use it later for your own models.\n",
    "\n",
    "## 5. Define General Function"
   ]
  },
  {
   "cell_type": "code",
   "execution_count": 2,
   "metadata": {
    "collapsed": true
   },
   "outputs": [],
   "source": [
    "def modelfit(alg, dtrain, predictors,useTrainCV=True, cv_folds=5, early_stopping_rounds=50):\n",
    "    \n",
    "    if useTrainCV:\n",
    "        xgb_param = alg.get_xgb_params()\n",
    "        xgtrain = xgb.DMatrix(dtrain[predictors].values, label=dtrain[target].values)\n",
    "        cvresult = xgb.cv(xgb_param, xgtrain, num_boost_round=alg.get_params()['n_estimators'], nfold=cv_folds,\n",
    "            metrics='auc', early_stopping_rounds=early_stopping_rounds, verbose_eval=False)\n",
    "        alg.set_params(n_estimators=cvresult.shape[0])\n",
    "    \n",
    "    #Fit the algorithm on the data\n",
    "    alg.fit(dtrain[predictors], dtrain['Loan_Status'],eval_metric='auc')\n",
    "        \n",
    "    #Predict training set:\n",
    "    dtrain_predictions = alg.predict(dtrain[predictors])\n",
    "    dtrain_predprob = alg.predict_proba(dtrain[predictors])[:,1]\n",
    "        \n",
    "    #Print model report:\n",
    "    print(\"\\nModel Report\")\n",
    "    print(\"Accuracy : %.4g\" % metrics.accuracy_score(dtrain['Loan_Status'].values, dtrain_predictions))\n",
    "    print(\"AUC Score (Train): %f\" % metrics.roc_auc_score(dtrain['Loan_Status'], dtrain_predprob))\n",
    "\n",
    "    feat_imp = pd.Series(alg.booster().get_fscore()).sort_values(ascending=False)\n",
    "    feat_imp.plot(kind='bar', title='Feature Importances')\n",
    "    plt.ylabel('Feature Importance Score')"
   ]
  },
  {
   "cell_type": "markdown",
   "metadata": {
    "collapsed": true
   },
   "source": [
    "## 6. General approach for Parameter Tuning\n",
    "\n",
    "1. Choose a relatively **high learning rate**. Generally a learning rate of 0.1 works, but somewhere between 0.05 to 0.3 should work for different problems. Determine the **output number of trees for this learning rate**. XGBoost has a very useful function called as \"cv\" which performs cross validation at each boosting iteration and thus returns the optimum number of trees required.\n",
    "\n",
    "2. **Tune tree-specific parameters** (max_depth, min_child_weight, gamma, subsample, colsample_bytree) for decided learning rate and number of trees. Note that we can choose different parameters to define a tree.\n",
    "\n",
    "3. Tune **regularization parameters** (lambda, alpha) for xgboost which can help reduce model complexity and enhance performance.\n",
    "\n",
    "4. **Lower the learning rate** and decide the optimal parameters.\n",
    "\n",
    "### 6.1 Fix learning rate and number of estimators for tuning tree-based parameters\n",
    "\n",
    "In order to decide on boosting parameters, we need to set some initial values of other parameters. Let's take the following values:\n",
    "\n",
    "1. **max_depth = 5**: This should be between 3-10, A number between 4 - 6 is a good starting points.\n",
    "2. **min_child_weight = 1**: A smaller value is chosen because it is highly imbalanced class problem and leaf nodes can have smaller size groups.\n",
    "3. **gamma = 0**: A smaller value like 0.1-0.2 can also be chosen for starting. This will anyways be tuned later.\n",
    "4. **subsample, colsample_bytree = 0.8**: This is a commonly used start value. Typical values range between 0.5-0.9.\n",
    "5. **scale_pos_weight = 1**: Because of high class imbalance.\n",
    "\n",
    "**Note**: These values are just initial estimates and will be tuned later. Let;s take the default learning rate of 0.1 and check the optimum number of trees using cv function of xgboost. The function defined above will do it for us."
   ]
  },
  {
   "cell_type": "code",
   "execution_count": 3,
   "metadata": {
    "scrolled": true
   },
   "outputs": [
    {
     "name": "stdout",
     "output_type": "stream",
     "text": [
      "\n",
      "Model Report\n",
      "Accuracy : 0.9055\n",
      "AUC Score (Train): 0.985535\n"
     ]
    },
    {
     "data": {
      "image/png": "[encoded data removed]",
      "text/plain": [
       "<matplotlib.figure.Figure at 0x1a4b4fad080>"
      ]
     },
     "metadata": {},
     "output_type": "display_data"
    }
   ],
   "source": [
    "#Choose all predictors except target & IDcols\n",
    "predictors = [x for x in train.columns if x not in [target]]\n",
    "xgb1 = XGBClassifier(\n",
    " learning_rate =0.1,\n",
    " n_estimators=63,\n",
    " max_depth=5,\n",
    " min_child_weight=1,\n",
    " gamma=0,\n",
    " subsample=0.8,\n",
    " colsample_bytree=0.8,\n",
    " objective= 'binary:logistic',\n",
    " nthread=4,\n",
    " scale_pos_weight=1,\n",
    " seed=27)\n",
    "modelfit(xgb1, train, predictors)\n",
    "# Train until cv error hasn't decreased in 50 rounds. Find best iteration"
   ]
  },
  {
   "cell_type": "markdown",
   "metadata": {},
   "source": [
    "n_estimator = 63 is the best iteration for 0.1 learning rate.\n",
    "\n",
    "### 6.2 Tune max_depth and min_child_weight\n",
    "\n",
    "We tune these two (**max_depth** and **min_child_weight**) first as they will have the highest impact on model outcome. To start with, let's set wider range and then we will perform another iteration for smaller ranges.\n",
    "\n",
    "**Important Note**: I'll be doing some heavy-duty grid searched in this section which can take is 15 - 30 mins or even more time to run depending on your system. You can vary the number of values you are testing based on what your system can handle."
   ]
  },
  {
   "cell_type": "code",
   "execution_count": 4,
   "metadata": {},
   "outputs": [
    {
     "data": {
      "text/plain": [
       "([mean: 0.76158, std: 0.02543, params: {'max_depth': 3, 'min_child_weight': 1},\n",
       "  mean: 0.75442, std: 0.02782, params: {'max_depth': 3, 'min_child_weight': 3},\n",
       "  mean: 0.74385, std: 0.04330, params: {'max_depth': 3, 'min_child_weight': 5},\n",
       "  mean: 0.77661, std: 0.02621, params: {'max_depth': 5, 'min_child_weight': 1},\n",
       "  mean: 0.76789, std: 0.04174, params: {'max_depth': 5, 'min_child_weight': 3},\n",
       "  mean: 0.75481, std: 0.03412, params: {'max_depth': 5, 'min_child_weight': 5},\n",
       "  mean: 0.76803, std: 0.03779, params: {'max_depth': 7, 'min_child_weight': 1},\n",
       "  mean: 0.76681, std: 0.03529, params: {'max_depth': 7, 'min_child_weight': 3},\n",
       "  mean: 0.75633, std: 0.04351, params: {'max_depth': 7, 'min_child_weight': 5},\n",
       "  mean: 0.77943, std: 0.03320, params: {'max_depth': 9, 'min_child_weight': 1},\n",
       "  mean: 0.76653, std: 0.03986, params: {'max_depth': 9, 'min_child_weight': 3},\n",
       "  mean: 0.74919, std: 0.04385, params: {'max_depth': 9, 'min_child_weight': 5}],\n",
       " {'max_depth': 9, 'min_child_weight': 1},\n",
       " 0.7794346159516439)"
      ]
     },
     "execution_count": 4,
     "metadata": {},
     "output_type": "execute_result"
    }
   ],
   "source": [
    "param_test1 = {\n",
    " 'max_depth':list(range(3,10,2)),\n",
    " 'min_child_weight':list(range(1,6,2))\n",
    "}\n",
    "gsearch1 = GridSearchCV(estimator = XGBClassifier(learning_rate =0.1, n_estimators=63, max_depth=5,\n",
    " min_child_weight=1, gamma=0, subsample=0.8, colsample_bytree=0.8,\n",
    " objective= 'binary:logistic', nthread=4, scale_pos_weight=1, seed=27), \n",
    " param_grid = param_test1, scoring='roc_auc',n_jobs=4,iid=False, cv=5)\n",
    "gsearch1.fit(train[predictors],train[target])\n",
    "gsearch1.grid_scores_, gsearch1.best_params_, gsearch1.best_score_"
   ]
  },
  {
   "cell_type": "markdown",
   "metadata": {},
   "source": [
    "Above, we have run 12 iteratons with wider interval between values. The ideal values are **9 for max_depth** and **1 for min_child_weight**. Let's go one step deeper and look for optimum value. We'll search for values 1 above and below the optimum value because we took an interval of two."
   ]
  },
  {
   "cell_type": "code",
   "execution_count": 5,
   "metadata": {},
   "outputs": [
    {
     "data": {
      "text/plain": [
       "([mean: 0.78382, std: 0.02953, params: {'max_depth': 8, 'min_child_weight': 0},\n",
       "  mean: 0.77610, std: 0.02455, params: {'max_depth': 8, 'min_child_weight': 1},\n",
       "  mean: 0.76878, std: 0.03696, params: {'max_depth': 8, 'min_child_weight': 2},\n",
       "  mean: 0.78156, std: 0.03127, params: {'max_depth': 9, 'min_child_weight': 0},\n",
       "  mean: 0.77943, std: 0.03320, params: {'max_depth': 9, 'min_child_weight': 1},\n",
       "  mean: 0.77757, std: 0.03231, params: {'max_depth': 9, 'min_child_weight': 2},\n",
       "  mean: 0.78138, std: 0.03114, params: {'max_depth': 10, 'min_child_weight': 0},\n",
       "  mean: 0.77519, std: 0.02751, params: {'max_depth': 10, 'min_child_weight': 1},\n",
       "  mean: 0.77092, std: 0.03740, params: {'max_depth': 10, 'min_child_weight': 2}],\n",
       " {'max_depth': 8, 'min_child_weight': 0},\n",
       " 0.7838157044194196)"
      ]
     },
     "execution_count": 5,
     "metadata": {},
     "output_type": "execute_result"
    }
   ],
   "source": [
    "param_test2 = {\n",
    " 'max_depth':[8,9,10],\n",
    " 'min_child_weight':[0,1,2]\n",
    "}\n",
    "gsearch2 = GridSearchCV(estimator = XGBClassifier( learning_rate=0.1, n_estimators=63, gamma=0, subsample=0.8, colsample_bytree=0.8,\n",
    " objective= 'binary:logistic', nthread=4, scale_pos_weight=1,seed=27), \n",
    " param_grid = param_test2, scoring='roc_auc',n_jobs=4,iid=False, cv=5)\n",
    "gsearch2.fit(train[predictors],train[target])\n",
    "gsearch2.grid_scores_, gsearch2.best_params_, gsearch2.best_score_"
   ]
  },
  {
   "cell_type": "markdown",
   "metadata": {},
   "source": [
    "The optimum values for **max_depth is 8** and **min_child_weight is 0**. Also we can see that there is no increase in CV score. **Note** that as the model performance increases, it becomes exponentially difficult to achieve even marginal gains in performance.\n",
    "\n",
    "Next, we will try other value to ensure that those two values really are the most optimum."
   ]
  },
  {
   "cell_type": "code",
   "execution_count": 6,
   "metadata": {},
   "outputs": [
    {
     "name": "stdout",
     "output_type": "stream",
     "text": [
      "\n",
      "Model Report\n",
      "Accuracy : 0.9088\n",
      "AUC Score (Train): 0.980339\n"
     ]
    },
    {
     "data": {
      "text/plain": [
       "([mean: 0.76945, std: 0.03780, params: {'min_child_weight': 3},\n",
       "  mean: 0.76144, std: 0.04397, params: {'min_child_weight': 4},\n",
       "  mean: 0.75091, std: 0.04028, params: {'min_child_weight': 5},\n",
       "  mean: 0.74973, std: 0.04554, params: {'min_child_weight': 6},\n",
       "  mean: 0.75156, std: 0.04325, params: {'min_child_weight': 7},\n",
       "  mean: 0.74644, std: 0.04391, params: {'min_child_weight': 8},\n",
       "  mean: 0.74554, std: 0.04075, params: {'min_child_weight': 9},\n",
       "  mean: 0.75244, std: 0.03734, params: {'min_child_weight': 10},\n",
       "  mean: 0.75599, std: 0.03470, params: {'min_child_weight': 11},\n",
       "  mean: 0.75343, std: 0.03140, params: {'min_child_weight': 12}],\n",
       " {'min_child_weight': 3},\n",
       " 0.7694466369543769)"
      ]
     },
     "execution_count": 6,
     "metadata": {},
     "output_type": "execute_result"
    },
    {
     "data": {
      "image/png": "[encoded data removed]",
      "text/plain": [
       "<matplotlib.figure.Figure at 0x1a4b6006c18>"
      ]
     },
     "metadata": {},
     "output_type": "display_data"
    }
   ],
   "source": [
    "param_test2b = {\n",
    " 'min_child_weight':[3,4,5,6,7,8,9,10,11,12]\n",
    "}\n",
    "gsearch2b = GridSearchCV(estimator = XGBClassifier( learning_rate=0.1, n_estimators=63, max_depth=8, gamma=0, subsample=0.8, colsample_bytree=0.8,\n",
    " objective= 'binary:logistic', nthread=4, scale_pos_weight=1,seed=27), \n",
    " param_grid = param_test2b, scoring='roc_auc',n_jobs=4,iid=False, cv=5)\n",
    "gsearch2b.fit(train[predictors],train[target])\n",
    "modelfit(gsearch2b.best_estimator_, train, predictors)\n",
    "gsearch2b.grid_scores_, gsearch2b.best_params_, gsearch2b.best_score_"
   ]
  },
  {
   "cell_type": "code",
   "execution_count": 7,
   "metadata": {},
   "outputs": [
    {
     "name": "stdout",
     "output_type": "stream",
     "text": [
      "\n",
      "Model Report\n",
      "Accuracy : 0.8876\n",
      "AUC Score (Train): 0.978599\n"
     ]
    },
    {
     "data": {
      "text/plain": [
       "([mean: 0.76618, std: 0.02176, params: {'max_depth': 3},\n",
       "  mean: 0.76843, std: 0.03322, params: {'max_depth': 4},\n",
       "  mean: 0.76864, std: 0.03644, params: {'max_depth': 5},\n",
       "  mean: 0.77982, std: 0.03420, params: {'max_depth': 6},\n",
       "  mean: 0.78050, std: 0.03443, params: {'max_depth': 7},\n",
       "  mean: 0.78382, std: 0.02953, params: {'max_depth': 8},\n",
       "  mean: 0.78156, std: 0.03127, params: {'max_depth': 9},\n",
       "  mean: 0.78138, std: 0.03114, params: {'max_depth': 10},\n",
       "  mean: 0.78353, std: 0.02565, params: {'max_depth': 11},\n",
       "  mean: 0.78323, std: 0.02701, params: {'max_depth': 12}],\n",
       " {'max_depth': 8},\n",
       " 0.7838157044194196)"
      ]
     },
     "execution_count": 7,
     "metadata": {},
     "output_type": "execute_result"
    },
    {
     "data": {
      "image/png": "[encoded data removed]",
      "text/plain": [
       "<matplotlib.figure.Figure at 0x1a4b14a1710>"
      ]
     },
     "metadata": {},
     "output_type": "display_data"
    }
   ],
   "source": [
    "param_test2c = {\n",
    " 'max_depth':[3,4,5,6,7,8,9,10,11,12]\n",
    "}\n",
    "gsearch2c = GridSearchCV(estimator = XGBClassifier( learning_rate=0.1, n_estimators=63, min_child_weight=0, gamma=0, subsample=0.8, colsample_bytree=0.8,\n",
    " objective= 'binary:logistic', nthread=4, scale_pos_weight=1,seed=27), \n",
    " param_grid = param_test2c, scoring='roc_auc',n_jobs=4,iid=False, cv=5)\n",
    "gsearch2c.fit(train[predictors],train[target])\n",
    "modelfit(gsearch2c.best_estimator_, train, predictors)\n",
    "gsearch2c.grid_scores_, gsearch2c.best_params_, gsearch2c.best_score_"
   ]
  },
  {
   "cell_type": "markdown",
   "metadata": {},
   "source": [
    "Above, we see that **8 for max_depth** and **0 for min_child_weight** is the optimal value. Next, we will tune the gamma.\n",
    "\n",
    "### 6.3 Tune Gamma"
   ]
  },
  {
   "cell_type": "code",
   "execution_count": 8,
   "metadata": {},
   "outputs": [
    {
     "data": {
      "text/plain": [
       "([mean: 0.78382, std: 0.02953, params: {'gamma': 0.0},\n",
       "  mean: 0.78331, std: 0.02764, params: {'gamma': 0.1},\n",
       "  mean: 0.78429, std: 0.02780, params: {'gamma': 0.2},\n",
       "  mean: 0.78128, std: 0.03728, params: {'gamma': 0.3},\n",
       "  mean: 0.78636, std: 0.03137, params: {'gamma': 0.4},\n",
       "  mean: 0.78034, std: 0.03015, params: {'gamma': 0.5},\n",
       "  mean: 0.78031, std: 0.03001, params: {'gamma': 0.6},\n",
       "  mean: 0.77846, std: 0.02968, params: {'gamma': 0.7},\n",
       "  mean: 0.77828, std: 0.03507, params: {'gamma': 0.8},\n",
       "  mean: 0.78076, std: 0.03460, params: {'gamma': 0.9}],\n",
       " {'gamma': 0.4},\n",
       " 0.7863589403372686)"
      ]
     },
     "execution_count": 8,
     "metadata": {},
     "output_type": "execute_result"
    }
   ],
   "source": [
    "param_test3 = {\n",
    " 'gamma':[i/10.0 for i in range(0,10)]\n",
    "}\n",
    "gsearch3 = GridSearchCV(estimator = XGBClassifier( learning_rate =0.1, n_estimators=63, max_depth=8,\n",
    " min_child_weight=0, gamma=0, subsample=0.8, colsample_bytree=0.8,\n",
    " objective= 'binary:logistic', nthread=4, scale_pos_weight=1,seed=27), \n",
    " param_grid = param_test3, scoring='roc_auc',n_jobs=4,iid=False, cv=5)\n",
    "gsearch3.fit(train[predictors],train[target])\n",
    "gsearch3.grid_scores_, gsearch3.best_params_, gsearch3.best_score_"
   ]
  },
  {
   "cell_type": "markdown",
   "metadata": {},
   "source": [
    "This shows that **0.4 is the optimum one**. Before proceeding, a good idea would be to re-calibrate the number of boosting rounds for the updated parameters."
   ]
  },
  {
   "cell_type": "code",
   "execution_count": 9,
   "metadata": {},
   "outputs": [
    {
     "name": "stdout",
     "output_type": "stream",
     "text": [
      "\n",
      "Model Report\n",
      "Accuracy : 0.8844\n",
      "AUC Score (Train): 0.976772\n"
     ]
    },
    {
     "data": {
      "image/png": "[encoded data removed]",
      "text/plain": [
       "<matplotlib.figure.Figure at 0x1a4b60c39e8>"
      ]
     },
     "metadata": {},
     "output_type": "display_data"
    }
   ],
   "source": [
    "xgb2 = XGBClassifier(\n",
    " learning_rate =0.1,\n",
    " n_estimators=63,\n",
    " max_depth=8,\n",
    " min_child_weight=0,\n",
    " gamma=0.4,\n",
    " subsample=0.8,\n",
    " colsample_bytree=0.8,\n",
    " objective= 'binary:logistic',\n",
    " nthread=4,\n",
    " scale_pos_weight=1,\n",
    " seed=27)\n",
    "modelfit(xgb2, train, predictors)"
   ]
  },
  {
   "cell_type": "markdown",
   "metadata": {},
   "source": [
    "### 6.4 Tune subsample and colsample_bytree\n",
    "\n",
    "The next step is try different subsample and colsample_bytree values. Let's start by taking values 0.6, 0.7, 0.75, 0.8, 0.9"
   ]
  },
  {
   "cell_type": "code",
   "execution_count": 10,
   "metadata": {},
   "outputs": [
    {
     "data": {
      "text/plain": [
       "([mean: 0.77653, std: 0.03043, params: {'colsample_bytree': 0.6, 'subsample': 0.6},\n",
       "  mean: 0.76344, std: 0.04063, params: {'colsample_bytree': 0.6, 'subsample': 0.7},\n",
       "  mean: 0.76626, std: 0.02786, params: {'colsample_bytree': 0.6, 'subsample': 0.8},\n",
       "  mean: 0.76658, std: 0.03362, params: {'colsample_bytree': 0.6, 'subsample': 0.9},\n",
       "  mean: 0.77927, std: 0.02509, params: {'colsample_bytree': 0.7, 'subsample': 0.6},\n",
       "  mean: 0.77340, std: 0.03752, params: {'colsample_bytree': 0.7, 'subsample': 0.7},\n",
       "  mean: 0.77741, std: 0.03052, params: {'colsample_bytree': 0.7, 'subsample': 0.8},\n",
       "  mean: 0.77186, std: 0.03117, params: {'colsample_bytree': 0.7, 'subsample': 0.9},\n",
       "  mean: 0.76811, std: 0.03662, params: {'colsample_bytree': 0.8, 'subsample': 0.6},\n",
       "  mean: 0.77572, std: 0.03953, params: {'colsample_bytree': 0.8, 'subsample': 0.7},\n",
       "  mean: 0.78636, std: 0.03137, params: {'colsample_bytree': 0.8, 'subsample': 0.8},\n",
       "  mean: 0.75989, std: 0.03831, params: {'colsample_bytree': 0.8, 'subsample': 0.9},\n",
       "  mean: 0.78104, std: 0.03524, params: {'colsample_bytree': 0.9, 'subsample': 0.6},\n",
       "  mean: 0.76676, std: 0.04530, params: {'colsample_bytree': 0.9, 'subsample': 0.7},\n",
       "  mean: 0.77830, std: 0.03191, params: {'colsample_bytree': 0.9, 'subsample': 0.8},\n",
       "  mean: 0.77253, std: 0.03384, params: {'colsample_bytree': 0.9, 'subsample': 0.9}],\n",
       " {'colsample_bytree': 0.8, 'subsample': 0.8},\n",
       " 0.7863589403372686)"
      ]
     },
     "execution_count": 10,
     "metadata": {},
     "output_type": "execute_result"
    }
   ],
   "source": [
    "param_test4 = {\n",
    " 'subsample':[i/10.0 for i in range(6,10)],\n",
    " 'colsample_bytree':[i/10.0 for i in range(6,10)]\n",
    "}\n",
    "gsearch4 = GridSearchCV(estimator = XGBClassifier( learning_rate =0.1, n_estimators=63, max_depth=8,\n",
    " min_child_weight=0, gamma=0.4, subsample=0.8, colsample_bytree=0.8,\n",
    " objective= 'binary:logistic', nthread=4, scale_pos_weight=1,seed=27), \n",
    " param_grid = param_test4, scoring='roc_auc',n_jobs=4,iid=False, cv=5)\n",
    "gsearch4.fit(train[predictors],train[target])\n",
    "gsearch4.grid_scores_, gsearch4.best_params_, gsearch4.best_score_"
   ]
  },
  {
   "cell_type": "markdown",
   "metadata": {},
   "source": [
    "Now we should try values in 0.05 interval around these."
   ]
  },
  {
   "cell_type": "code",
   "execution_count": 11,
   "metadata": {},
   "outputs": [
    {
     "data": {
      "text/plain": [
       "([mean: 0.77716, std: 0.03249, params: {'colsample_bytree': 0.75, 'subsample': 0.75},\n",
       "  mean: 0.78844, std: 0.02852, params: {'colsample_bytree': 0.75, 'subsample': 0.8},\n",
       "  mean: 0.77214, std: 0.04156, params: {'colsample_bytree': 0.75, 'subsample': 0.85},\n",
       "  mean: 0.77396, std: 0.03903, params: {'colsample_bytree': 0.8, 'subsample': 0.75},\n",
       "  mean: 0.78636, std: 0.03137, params: {'colsample_bytree': 0.8, 'subsample': 0.8},\n",
       "  mean: 0.77731, std: 0.03238, params: {'colsample_bytree': 0.8, 'subsample': 0.85},\n",
       "  mean: 0.77396, std: 0.03903, params: {'colsample_bytree': 0.85, 'subsample': 0.75},\n",
       "  mean: 0.78636, std: 0.03137, params: {'colsample_bytree': 0.85, 'subsample': 0.8},\n",
       "  mean: 0.77731, std: 0.03238, params: {'colsample_bytree': 0.85, 'subsample': 0.85}],\n",
       " {'colsample_bytree': 0.75, 'subsample': 0.8},\n",
       " 0.7884405584095987)"
      ]
     },
     "execution_count": 11,
     "metadata": {},
     "output_type": "execute_result"
    }
   ],
   "source": [
    "param_test5 = {\n",
    " 'subsample':[i/100.0 for i in range(75,90,5)],\n",
    " 'colsample_bytree':[i/100.0 for i in range(75,90,5)]\n",
    "}\n",
    "gsearch5 = GridSearchCV(estimator = XGBClassifier( learning_rate =0.1, n_estimators=63, max_depth=8,\n",
    " min_child_weight=0, gamma=0.4, subsample=0.8, colsample_bytree=0.8,\n",
    " objective= 'binary:logistic', nthread=4, scale_pos_weight=1,seed=27), \n",
    " param_grid = param_test5, scoring='roc_auc',n_jobs=4,iid=False, cv=5)\n",
    "gsearch5.fit(train[predictors],train[target])\n",
    "gsearch5.grid_scores_, gsearch5.best_params_, gsearch5.best_score_"
   ]
  },
  {
   "cell_type": "code",
   "execution_count": 12,
   "metadata": {},
   "outputs": [
    {
     "data": {
      "text/plain": [
       "([mean: 0.78592, std: 0.03416, params: {'colsample_bytree': 0.75, 'subsample': 0.65},\n",
       "  mean: 0.77578, std: 0.03378, params: {'colsample_bytree': 0.75, 'subsample': 0.7},\n",
       "  mean: 0.77716, std: 0.03249, params: {'colsample_bytree': 0.75, 'subsample': 0.75},\n",
       "  mean: 0.78262, std: 0.03800, params: {'colsample_bytree': 0.8, 'subsample': 0.65},\n",
       "  mean: 0.77572, std: 0.03953, params: {'colsample_bytree': 0.8, 'subsample': 0.7},\n",
       "  mean: 0.77396, std: 0.03903, params: {'colsample_bytree': 0.8, 'subsample': 0.75},\n",
       "  mean: 0.78262, std: 0.03800, params: {'colsample_bytree': 0.85, 'subsample': 0.65},\n",
       "  mean: 0.77572, std: 0.03953, params: {'colsample_bytree': 0.85, 'subsample': 0.7},\n",
       "  mean: 0.77396, std: 0.03903, params: {'colsample_bytree': 0.85, 'subsample': 0.75}],\n",
       " {'colsample_bytree': 0.75, 'subsample': 0.8},\n",
       " 0.7884405584095987)"
      ]
     },
     "execution_count": 12,
     "metadata": {},
     "output_type": "execute_result"
    }
   ],
   "source": [
    "#colsample_bytree goes down to 0.75, expand the search range\n",
    "param_test5b = {\n",
    " 'subsample':[i/100.0 for i in range(65,80,5)],\n",
    " 'colsample_bytree':[i/100.0 for i in range(75,90,5)]\n",
    "}\n",
    "gsearch5b = GridSearchCV(estimator = XGBClassifier( learning_rate =0.1, n_estimators=63, max_depth=8,\n",
    " min_child_weight=0, gamma=0.4, subsample=0.8, colsample_bytree=0.8,\n",
    " objective= 'binary:logistic', nthread=4, scale_pos_weight=1,seed=27), \n",
    " param_grid = param_test5b, scoring='roc_auc',n_jobs=4,iid=False, cv=5)\n",
    "gsearch5b.fit(train[predictors],train[target])\n",
    "gsearch5b.grid_scores_, gsearch5.best_params_, gsearch5.best_score_"
   ]
  },
  {
   "cell_type": "markdown",
   "metadata": {},
   "source": [
    "Thus, the optimum values are:\n",
    "- subsample: 0.8\n",
    "- colsample_bytree: 0.75\n",
    "\n",
    "### 6.5 Tuning Regularization Parameters\n",
    "\n",
    "Next step is to apply regularization to reduce overfitting. Though many people don't use this parameters much as gamma provides a substantial way of controlling complexity."
   ]
  },
  {
   "cell_type": "code",
   "execution_count": 13,
   "metadata": {},
   "outputs": [
    {
     "data": {
      "text/plain": [
       "([mean: 0.78085, std: 0.03237, params: {'reg_alpha': 1e-05},\n",
       "  mean: 0.78209, std: 0.03542, params: {'reg_alpha': 0.01},\n",
       "  mean: 0.77747, std: 0.03496, params: {'reg_alpha': 0.1},\n",
       "  mean: 0.77642, std: 0.03783, params: {'reg_alpha': 1},\n",
       "  mean: 0.56845, std: 0.08774, params: {'reg_alpha': 100}],\n",
       " {'reg_alpha': 0.01},\n",
       " 0.7820917678812416)"
      ]
     },
     "execution_count": 13,
     "metadata": {},
     "output_type": "execute_result"
    }
   ],
   "source": [
    "param_test6 = {\n",
    " 'reg_alpha':[1e-5, 1e-2, 0.1, 1, 100]\n",
    "}\n",
    "gsearch6 = GridSearchCV(estimator = XGBClassifier( learning_rate =0.1, n_estimators=63, max_depth=8,\n",
    " min_child_weight=0, gamma=0.4, subsample=0.8, colsample_bytree=0.75,\n",
    " objective= 'binary:logistic', nthread=4, scale_pos_weight=1,seed=27), \n",
    " param_grid = param_test6, scoring='roc_auc',n_jobs=4,iid=False, cv=5)\n",
    "gsearch6.fit(train[predictors],train[target])\n",
    "gsearch6.grid_scores_, gsearch6.best_params_, gsearch6.best_score_"
   ]
  },
  {
   "cell_type": "markdown",
   "metadata": {},
   "source": [
    "Next, we will try value around the optimum (0.01) to see if we get something better."
   ]
  },
  {
   "cell_type": "code",
   "execution_count": 14,
   "metadata": {},
   "outputs": [
    {
     "data": {
      "text/plain": [
       "([mean: 0.78360, std: 0.03255, params: {'reg_alpha': 0.008},\n",
       "  mean: 0.78215, std: 0.03258, params: {'reg_alpha': 0.009},\n",
       "  mean: 0.78209, std: 0.03542, params: {'reg_alpha': 0.01},\n",
       "  mean: 0.78459, std: 0.03758, params: {'reg_alpha': 0.02},\n",
       "  mean: 0.78308, std: 0.03315, params: {'reg_alpha': 0.03}],\n",
       " {'reg_alpha': 0.02},\n",
       " 0.7845909456900169)"
      ]
     },
     "execution_count": 14,
     "metadata": {},
     "output_type": "execute_result"
    }
   ],
   "source": [
    "param_test6b = {\n",
    " 'reg_alpha':[0.008,0.009,0.01,0.02,0.03]\n",
    "}\n",
    "gsearch6b = GridSearchCV(estimator = XGBClassifier( learning_rate =0.1, n_estimators=63, max_depth=8,\n",
    " min_child_weight=0, gamma=0.4, subsample=0.8, colsample_bytree=0.75,\n",
    " objective= 'binary:logistic', nthread=4, scale_pos_weight=1,seed=27), \n",
    " param_grid = param_test6b, scoring='roc_auc',n_jobs=4,iid=False, cv=5)\n",
    "gsearch6b.fit(train[predictors],train[target])\n",
    "gsearch6b.grid_scores_, gsearch6b.best_params_, gsearch6b.best_score_"
   ]
  },
  {
   "cell_type": "markdown",
   "metadata": {},
   "source": [
    "Next, we will try value around the optimum (0.02) to see if we get something better."
   ]
  },
  {
   "cell_type": "code",
   "execution_count": 15,
   "metadata": {},
   "outputs": [
    {
     "data": {
      "text/plain": [
       "([mean: 0.77896, std: 0.03360, params: {'reg_alpha': 0.015},\n",
       "  mean: 0.78480, std: 0.03287, params: {'reg_alpha': 0.018},\n",
       "  mean: 0.78574, std: 0.03284, params: {'reg_alpha': 0.019},\n",
       "  mean: 0.78459, std: 0.03758, params: {'reg_alpha': 0.02},\n",
       "  mean: 0.78715, std: 0.03597, params: {'reg_alpha': 0.021},\n",
       "  mean: 0.78737, std: 0.03151, params: {'reg_alpha': 0.022},\n",
       "  mean: 0.78399, std: 0.03676, params: {'reg_alpha': 0.025}],\n",
       " {'reg_alpha': 0.022},\n",
       " 0.787370859274884)"
      ]
     },
     "execution_count": 15,
     "metadata": {},
     "output_type": "execute_result"
    }
   ],
   "source": [
    "param_test6c = {\n",
    " 'reg_alpha':[0.015,0.018,0.019,0.02,0.021,0.022,0.025]\n",
    "}\n",
    "gsearch6c = GridSearchCV(estimator = XGBClassifier( learning_rate =0.1, n_estimators=63, max_depth=8,\n",
    " min_child_weight=0, gamma=0.4, subsample=0.8, colsample_bytree=0.75,\n",
    " objective= 'binary:logistic', nthread=4, scale_pos_weight=1,seed=27), \n",
    " param_grid = param_test6c, scoring='roc_auc',n_jobs=4,iid=False, cv=5)\n",
    "gsearch6c.fit(train[predictors],train[target])\n",
    "gsearch6c.grid_scores_, gsearch6c.best_params_, gsearch6c.best_score_"
   ]
  },
  {
   "cell_type": "markdown",
   "metadata": {},
   "source": [
    "Expand searching region to around 0.022"
   ]
  },
  {
   "cell_type": "code",
   "execution_count": 16,
   "metadata": {},
   "outputs": [
    {
     "data": {
      "text/plain": [
       "([mean: 0.78737, std: 0.03151, params: {'reg_alpha': 0.022},\n",
       "  mean: 0.78477, std: 0.03732, params: {'reg_alpha': 0.023},\n",
       "  mean: 0.78246, std: 0.03667, params: {'reg_alpha': 0.024}],\n",
       " {'reg_alpha': 0.022},\n",
       " 0.787370859274884)"
      ]
     },
     "execution_count": 16,
     "metadata": {},
     "output_type": "execute_result"
    }
   ],
   "source": [
    "param_test6d = {\n",
    " 'reg_alpha':[0.022,0.023,0.024]\n",
    "}\n",
    "gsearch6d = GridSearchCV(estimator = XGBClassifier( learning_rate =0.1, n_estimators=63, max_depth=8,\n",
    " min_child_weight=0, gamma=0.4, subsample=0.8, colsample_bytree=0.75,\n",
    " objective= 'binary:logistic', nthread=4, scale_pos_weight=1,seed=27), \n",
    " param_grid = param_test6d, scoring='roc_auc',n_jobs=4,iid=False, cv=5)\n",
    "gsearch6d.fit(train[predictors],train[target])\n",
    "gsearch6d.grid_scores_, gsearch6d.best_params_, gsearch6d.best_score_"
   ]
  },
  {
   "cell_type": "markdown",
   "metadata": {},
   "source": [
    "The most optimum reg_alpha is 0.022"
   ]
  },
  {
   "cell_type": "code",
   "execution_count": 17,
   "metadata": {},
   "outputs": [
    {
     "name": "stdout",
     "output_type": "stream",
     "text": [
      "\n",
      "Model Report\n",
      "Accuracy : 0.8844\n",
      "AUC Score (Train): 0.967868\n"
     ]
    },
    {
     "data": {
      "image/png": "[encoded data removed]",
      "text/plain": [
       "<matplotlib.figure.Figure at 0x1a4b60c1a90>"
      ]
     },
     "metadata": {},
     "output_type": "display_data"
    }
   ],
   "source": [
    "xgb3 = XGBClassifier(\n",
    " learning_rate =0.1,\n",
    " n_estimators=63,\n",
    " max_depth=8,\n",
    " min_child_weight=0,\n",
    " gamma=0.4,\n",
    " subsample=0.8,\n",
    " colsample_bytree=0.75,\n",
    " reg_alpha=0.022,\n",
    " objective= 'binary:logistic',\n",
    " nthread=4,\n",
    " scale_pos_weight=1,\n",
    " seed=27)\n",
    "modelfit(xgb3, train, predictors)"
   ]
  },
  {
   "cell_type": "markdown",
   "metadata": {},
   "source": [
    "### 6.6 Reducing Learning Rate\n",
    "\n",
    "Lastly, we should lower the learning rate and add more trees. Let's use the cv function of XGBoost to do the job again."
   ]
  },
  {
   "cell_type": "code",
   "execution_count": 18,
   "metadata": {},
   "outputs": [
    {
     "name": "stdout",
     "output_type": "stream",
     "text": [
      "\n",
      "Model Report\n",
      "Accuracy : 0.9886\n",
      "AUC Score (Train): 0.999654\n"
     ]
    },
    {
     "data": {
      "image/png": "[encoded data removed]",
      "text/plain": [
       "<matplotlib.figure.Figure at 0x1a4b60d5240>"
      ]
     },
     "metadata": {},
     "output_type": "display_data"
    }
   ],
   "source": [
    "xgb4 = XGBClassifier(\n",
    " learning_rate =0.09,\n",
    " n_estimators=63,\n",
    " max_depth=8,\n",
    " min_child_weight=0,\n",
    " gamma=0.4,\n",
    " subsample=0.8,\n",
    " colsample_bytree=0.75,\n",
    " reg_alpha=0.022,\n",
    " objective= 'binary:logistic',\n",
    " nthread=4,\n",
    " scale_pos_weight=1,\n",
    " seed=27)\n",
    "modelfit(xgb4, train, predictors)"
   ]
  },
  {
   "cell_type": "code",
   "execution_count": null,
   "metadata": {
    "collapsed": true
   },
   "outputs": [],
   "source": []
  }
 ],
 "metadata": {
  "kernelspec": {
   "display_name": "Python 3",
   "language": "python",
   "name": "python3"
  },
  "language_info": {
   "codemirror_mode": {
    "name": "ipython",
    "version": 3
   },
   "file_extension": ".py",
   "mimetype": "text/x-python",
   "name": "python",
   "nbconvert_exporter": "python",
   "pygments_lexer": "ipython3",
   "version": "3.6.1"
  }
 },
 "nbformat": 4,
 "nbformat_minor": 2
}
