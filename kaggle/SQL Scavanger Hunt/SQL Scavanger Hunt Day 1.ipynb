{
  "cells": [
    {
      "metadata": {
        "_uuid": "56f92656487e77f60088d9afe9969a878ac1ead5",
        "_cell_guid": "aac1eb7a-6eb0-4239-bf0c-7edf5dd242a1"
      },
      "cell_type": "markdown",
      "source": "<table>\n    <tr>\n        <td>\n        <center>\n        <font size=\"+1\">If you haven't used BigQuery datasets on Kaggle previously, check out the <a href = \"https://www.kaggle.com/rtatman/sql-scavenger-hunt-handbook/\">Scavenger Hunt Handbook</a> kernel to get started.</font>\n        </center>\n        </td>\n    </tr>\n</table>"
    },
    {
      "metadata": {
        "_uuid": "8710f8a626efbd27c8e53b723e97813fdd388822",
        "_cell_guid": "2fc58cbb-15ec-42e5-8f81-ca4cba5db07c"
      },
      "cell_type": "markdown",
      "source": "# SELECT, FROM & WHERE\n\nToday, we're going to learn how to use SELECT, FROM and WHERE to get data from a specific column based on the value of another column. For the purposes of this explanation, we'll be using this imaginary database, `pet_records` which has just one table in it, called `pets`, which looks like this:\n\n![](https://i.imgur.com/Ef4Puo3.png)\n\n### SELECT ... FROM\n___\n\nThe most basic SQL query is to select a single column from a specific table. To do this, you need to tell SELECT which column to select and then specify what table that column is from using from. \n\n> **Do you need to capitalize SELECT and FROM?** No, SQL doesn't care about capitalization. However, it's customary to capitalize your SQL commands and it makes your queries a bit easier to read.\n\nSo, if we wanted to select the \"Name\" column from the pets table of the pet_records database (if that database were accessible as a BigQuery dataset on Kaggle , which it is not, because I made it up), we would do this:\n\n    SELECT Name\n    FROM `bigquery-public-data.pet_records.pets`\n\nWhich would return the highlighted data from this figure.\n\n![](https://i.imgur.com/8FdVyFP.png)\n\n### WHERE ...\n___\n\nWhen you're working with BigQuery datasets, you're almost always going to want to return only certain rows, usually based on the value of a different column. You can do this using the WHERE clause, which will only return the rows where the WHERE clause evaluates to true.\n\nLet's look at an example:\n\n    SELECT Name\n    FROM `bigquery-public-data.pet_records.pets`\n    WHERE Animal = \"Cat\"\n\nThis query will only return the entries from the \"Name\" column that are in rows where the \"Animal\" column has the text \"Cat\" in it. Those are the cells highlighted in blue in this figure:\n\n![](https://i.imgur.com/Va52Qdl.png)\n"
    },
    {
      "metadata": {
        "_uuid": "0482e52934a735a43d562fe7beeabb85fe70e338",
        "_cell_guid": "2e2563a2-5b9d-42a4-8fa3-da4d4150b24d"
      },
      "cell_type": "markdown",
      "source": "## Example: What are all the U.S. cities in the OpenAQ dataset?\n___\n\nNow that you've got the basics down, let's work through an example with a real dataset. Today we're going to be working with the OpenAQ dataset, which has information on air quality around the world. (The data in it should be current: it's updated weekly.)\n\nTo help get you situated, I'm going to run through a complete query first. Then it will be your turn to get started running your queries!\n\nFirst, I'm going to set up everything we need to run queries and take a quick peek at what tables are in our database."
    },
    {
      "metadata": {
        "_uuid": "ab40ebc98c64c78df9a11d922bbc23573a43aefe",
        "_cell_guid": "9a26e7db-812d-4fbb-b457-e09d323af127",
        "trusted": true
      },
      "cell_type": "code",
      "source": "# import package with helper functions \nimport bq_helper\n\n# create a helper object for this dataset\nopen_aq = bq_helper.BigQueryHelper(active_project=\"bigquery-public-data\",\n                                   dataset_name=\"openaq\")\n\n# print all the tables in this dataset (there's only one!)\nopen_aq.list_tables()",
      "execution_count": 1,
      "outputs": [
        {
          "output_type": "execute_result",
          "execution_count": 1,
          "data": {
            "text/plain": "['global_air_quality']"
          },
          "metadata": {}
        }
      ]
    },
    {
      "metadata": {
        "_uuid": "0f5207bb8a05b44d1af2e002fde6260fb01baa1d",
        "_cell_guid": "cf3f3bd4-ef30-45d1-bdb3-5c8e7d3ec194"
      },
      "cell_type": "markdown",
      "source": "I'm going to take a peek at the first couple of rows to help me see what sort of data is in this dataset."
    },
    {
      "metadata": {
        "_uuid": "dad17f046aac83f2c219452e032fd72227ea3e7a",
        "_cell_guid": "d85ed84b-58b3-48c1-8ea6-4c89ad254bd8",
        "trusted": true
      },
      "cell_type": "code",
      "source": "# print the first couple rows of the \"global_air_quality\" dataset\nopen_aq.head(\"global_air_quality\")",
      "execution_count": 2,
      "outputs": [
        {
          "output_type": "execute_result",
          "execution_count": 2,
          "data": {
            "text/plain": "             location city country pollutant  value                 timestamp  \\\n0     Mobile_Cle Elum  037      US      pm25   0.00 2017-09-26 20:00:00+00:00   \n1  Mobile_WhiteSalmon  039      US      pm25   0.00 2017-09-26 20:00:00+00:00   \n2      Mobile_Newport  051      US      pm25   0.00 2017-09-21 18:00:00+00:00   \n3             FR20047  Ain      FR        o3   2.13 2018-02-13 07:00:00+00:00   \n4             FR20047  Ain      FR       no2  45.40 2018-02-13 07:00:00+00:00   \n\n    unit source_name   latitude   longitude  averaged_over_in_hours  \n0  µg/m³      AirNow  47.197630 -120.958230                     1.0  \n1  µg/m³      AirNow  45.732414 -121.492330                     1.0  \n2  µg/m³      AirNow  48.186485 -117.049160                     1.0  \n3  µg/m³  EEA France  45.823223    4.953958                     1.0  \n4  µg/m³  EEA France  45.823223    4.953958                     1.0  ",
            "text/html": "<div>\n<style>\n    .dataframe thead tr:only-child th {\n        text-align: right;\n    }\n\n    .dataframe thead th {\n        text-align: left;\n    }\n\n    .dataframe tbody tr th {\n        vertical-align: top;\n    }\n</style>\n<table border=\"1\" class=\"dataframe\">\n  <thead>\n    <tr style=\"text-align: right;\">\n      <th></th>\n      <th>location</th>\n      <th>city</th>\n      <th>country</th>\n      <th>pollutant</th>\n      <th>value</th>\n      <th>timestamp</th>\n      <th>unit</th>\n      <th>source_name</th>\n      <th>latitude</th>\n      <th>longitude</th>\n      <th>averaged_over_in_hours</th>\n    </tr>\n  </thead>\n  <tbody>\n    <tr>\n      <th>0</th>\n      <td>Mobile_Cle Elum</td>\n      <td>037</td>\n      <td>US</td>\n      <td>pm25</td>\n      <td>0.00</td>\n      <td>2017-09-26 20:00:00+00:00</td>\n      <td>µg/m³</td>\n      <td>AirNow</td>\n      <td>47.197630</td>\n      <td>-120.958230</td>\n      <td>1.0</td>\n    </tr>\n    <tr>\n      <th>1</th>\n      <td>Mobile_WhiteSalmon</td>\n      <td>039</td>\n      <td>US</td>\n      <td>pm25</td>\n      <td>0.00</td>\n      <td>2017-09-26 20:00:00+00:00</td>\n      <td>µg/m³</td>\n      <td>AirNow</td>\n      <td>45.732414</td>\n      <td>-121.492330</td>\n      <td>1.0</td>\n    </tr>\n    <tr>\n      <th>2</th>\n      <td>Mobile_Newport</td>\n      <td>051</td>\n      <td>US</td>\n      <td>pm25</td>\n      <td>0.00</td>\n      <td>2017-09-21 18:00:00+00:00</td>\n      <td>µg/m³</td>\n      <td>AirNow</td>\n      <td>48.186485</td>\n      <td>-117.049160</td>\n      <td>1.0</td>\n    </tr>\n    <tr>\n      <th>3</th>\n      <td>FR20047</td>\n      <td>Ain</td>\n      <td>FR</td>\n      <td>o3</td>\n      <td>2.13</td>\n      <td>2018-02-13 07:00:00+00:00</td>\n      <td>µg/m³</td>\n      <td>EEA France</td>\n      <td>45.823223</td>\n      <td>4.953958</td>\n      <td>1.0</td>\n    </tr>\n    <tr>\n      <th>4</th>\n      <td>FR20047</td>\n      <td>Ain</td>\n      <td>FR</td>\n      <td>no2</td>\n      <td>45.40</td>\n      <td>2018-02-13 07:00:00+00:00</td>\n      <td>µg/m³</td>\n      <td>EEA France</td>\n      <td>45.823223</td>\n      <td>4.953958</td>\n      <td>1.0</td>\n    </tr>\n  </tbody>\n</table>\n</div>"
          },
          "metadata": {}
        }
      ]
    },
    {
      "metadata": {
        "_uuid": "e70b02fc205ca45859a8520c211e11e3f46a3811",
        "_cell_guid": "c4cf499d-a495-4717-a390-523107b3e1b2"
      },
      "cell_type": "markdown",
      "source": "Great, everything looks good! Now that I'm set up, I'm going to put together a query. I want to select all the values from the \"city\" column for the rows there the \"country\" column is \"us\" (for \"United States\"). \n\n> **What's up with the triple quotation marks (\"\"\")?** These tell Python that everything inside them is a single string, even though we have line breaks in it. The line breaks aren't necessary, but they do make it much easier to read your query."
    },
    {
      "metadata": {
        "collapsed": true,
        "_uuid": "42f5bfb36cba82ccf9250a9c71077ce4154b4a32",
        "_cell_guid": "787efd2f-8f1e-4804-982c-4cd86888c56f",
        "trusted": true
      },
      "cell_type": "code",
      "source": "# query to select all the items from the \"city\" column where the\n# \"country\" column is \"us\"\nquery = \"\"\"SELECT city\n            FROM `bigquery-public-data.openaq.global_air_quality`\n            WHERE country = 'US'\n        \"\"\"",
      "execution_count": 3,
      "outputs": []
    },
    {
      "metadata": {
        "_uuid": "b16b54b3e2d1b478f9179d6e73f0660c6aa973d4",
        "_cell_guid": "baf936ce-7334-4038-9c6a-d2a8d2d4d8e4"
      },
      "cell_type": "markdown",
      "source": "> **Important:**  Note that the argument we pass to FROM is *not* in single or double quotation marks (' or \"). It is in backticks (\\`). If you use quotation marks instead of backticks, you'll get this error when you try to run the query: `Syntax error: Unexpected string literal` \n\nNow I can use this query to get information from our open_aq dataset. I'm using the `BigQueryHelper.query_to_pandas_safe()` method here because it won't run a query if it's larger than 1 gigabyte, which helps me avoid accidentally running a very large query. See the [Scavenger Hunt Handbook ](https://www.kaggle.com/rtatman/sql-scavenger-hunt-handbook/)for more details. "
    },
    {
      "metadata": {
        "collapsed": true,
        "_uuid": "ecde0a65fad06ef5d22d896484d8cbe05f874e12",
        "_cell_guid": "b37cf4b8-1d54-456b-9e52-8e139b166a6e",
        "trusted": true
      },
      "cell_type": "code",
      "source": "# the query_to_pandas_safe will only return a result if it's less\n# than one gigabyte (by default)\nus_cities = open_aq.query_to_pandas_safe(query)",
      "execution_count": 4,
      "outputs": []
    },
    {
      "metadata": {
        "_uuid": "5f3ff35c822b8809cf07180d15ad651bcad4eb46",
        "_cell_guid": "9f642ae3-1b06-479a-9e31-a0f21423ecaf"
      },
      "cell_type": "markdown",
      "source": "Now I've got a dataframe called us_cities, which I can use like I would any other dataframe:"
    },
    {
      "metadata": {
        "_uuid": "2d6b6cca96280cd1a4c4568c723fd35edff7fffa",
        "_cell_guid": "3bc9736e-9b18-44c2-9444-e0946cad8b79",
        "trusted": true
      },
      "cell_type": "code",
      "source": "# What five cities have the most measurements taken there?\nus_cities.city.value_counts().head()",
      "execution_count": 5,
      "outputs": [
        {
          "output_type": "execute_result",
          "execution_count": 5,
          "data": {
            "text/plain": "Phoenix-Mesa-Scottsdale                     85\nHouston                                     83\nLos Angeles-Long Beach-Santa Ana            60\nNew York-Northern New Jersey-Long Island    57\nRiverside-San Bernardino-Ontario            56\nName: city, dtype: int64"
          },
          "metadata": {}
        }
      ]
    },
    {
      "metadata": {
        "_uuid": "654d2baeecb8757e10d02a63ec6cc63fe2df2339",
        "_cell_guid": "fda0a223-5fd5-4524-a402-ecaef2905fa0",
        "_kg_hide-output": true
      },
      "cell_type": "markdown",
      "source": "# Scavenger hunt\n___\n\nNow it's your turn! Here's the questions I would like you to get the data to answer:\n\n* Which countries use a unit other than ppm to measure any type of pollution? (Hint: to get rows where the value *isn't* something, use \"!=\")\n* Which pollutants have a value of exactly 0?\n\nIn order to answer these questions, you can fork this notebook by hitting the blue \"Fork Notebook\" at the very top of this page (you may have to scroll up).  \"Forking\" something is making a copy of it that you can edit on your own without changing the original."
    },
    {
      "metadata": {
        "_uuid": "c346ce030dd69d682f91756fc9185ae7845066fb",
        "_cell_guid": "a4f6aab8-ae9b-4123-87e9-94aadf6a757c",
        "trusted": true
      },
      "cell_type": "code",
      "source": "\"\"\"\nQ1. Which countries use a unit other than ppm to measure any type of pollution? \n(Hint: to get rows where the value *isn't* something, use \"!=\")\n\"\"\"\nq = \"\"\"SELECT DISTINCT country, unit\nFROM `bigquery-public-data.openaq.global_air_quality`\nWHERE unit != 'ppm'\n\"\"\"\n\n# estimate query\nopen_aq.estimate_query_size(q)",
      "execution_count": 9,
      "outputs": [
        {
          "output_type": "execute_result",
          "execution_count": 9,
          "data": {
            "text/plain": "0.0001951036974787712"
          },
          "metadata": {}
        }
      ]
    },
    {
      "metadata": {
        "trusted": true,
        "_uuid": "a081b9b677e3229ac9ce76786265b9a6a6179985"
      },
      "cell_type": "code",
      "source": "# Since teh query is not big around 1.9 mb, let's display the query\nlist_of_countries = open_aq.query_to_pandas_safe(q) #1GB by default\ndisplay(list_of_countries)",
      "execution_count": 8,
      "outputs": [
        {
          "output_type": "display_data",
          "data": {
            "text/plain": "   country   unit\n0       MT  µg/m³\n1       KW  µg/m³\n2       FI  µg/m³\n3       CL  µg/m³\n4       UG  µg/m³\n5       MN  µg/m³\n6       DK  µg/m³\n7       SE  µg/m³\n8       ET  µg/m³\n9       PE  µg/m³\n10      RU  µg/m³\n11      SG  µg/m³\n12      AU  µg/m³\n13      ZA  µg/m³\n14      MX  µg/m³\n15      BH  µg/m³\n16      XK  µg/m³\n17      BA  µg/m³\n18      SK  µg/m³\n19      CA  µg/m³\n20      HR  µg/m³\n21      NO  µg/m³\n22      SI  µg/m³\n23      IN  µg/m³\n24      ES  µg/m³\n25      GB  µg/m³\n26      LT  µg/m³\n27      AE  µg/m³\n28      HK  µg/m³\n29      RS  µg/m³\n..     ...    ...\n34      IE  µg/m³\n35      LV  µg/m³\n36      MK  µg/m³\n37      CH  µg/m³\n38      AD  µg/m³\n39      IL  µg/m³\n40      BR  µg/m³\n41      LU  µg/m³\n42      AR  µg/m³\n43      CO  µg/m³\n44      ID  µg/m³\n45      GI  µg/m³\n46      PH  µg/m³\n47      US  µg/m³\n48      IT  µg/m³\n49      VN  µg/m³\n50      PL  µg/m³\n51      BE  µg/m³\n52      TW  µg/m³\n53      LK  µg/m³\n54      TH  µg/m³\n55      NG  µg/m³\n56      BD  µg/m³\n57      NP  µg/m³\n58      CN  µg/m³\n59      NL  µg/m³\n60      PT  µg/m³\n61      TR  µg/m³\n62      CZ  µg/m³\n63      AT  µg/m³\n\n[64 rows x 2 columns]",
            "text/html": "<div>\n<style>\n    .dataframe thead tr:only-child th {\n        text-align: right;\n    }\n\n    .dataframe thead th {\n        text-align: left;\n    }\n\n    .dataframe tbody tr th {\n        vertical-align: top;\n    }\n</style>\n<table border=\"1\" class=\"dataframe\">\n  <thead>\n    <tr style=\"text-align: right;\">\n      <th></th>\n      <th>country</th>\n      <th>unit</th>\n    </tr>\n  </thead>\n  <tbody>\n    <tr>\n      <th>0</th>\n      <td>MT</td>\n      <td>µg/m³</td>\n    </tr>\n    <tr>\n      <th>1</th>\n      <td>KW</td>\n      <td>µg/m³</td>\n    </tr>\n    <tr>\n      <th>2</th>\n      <td>FI</td>\n      <td>µg/m³</td>\n    </tr>\n    <tr>\n      <th>3</th>\n      <td>CL</td>\n      <td>µg/m³</td>\n    </tr>\n    <tr>\n      <th>4</th>\n      <td>UG</td>\n      <td>µg/m³</td>\n    </tr>\n    <tr>\n      <th>5</th>\n      <td>MN</td>\n      <td>µg/m³</td>\n    </tr>\n    <tr>\n      <th>6</th>\n      <td>DK</td>\n      <td>µg/m³</td>\n    </tr>\n    <tr>\n      <th>7</th>\n      <td>SE</td>\n      <td>µg/m³</td>\n    </tr>\n    <tr>\n      <th>8</th>\n      <td>ET</td>\n      <td>µg/m³</td>\n    </tr>\n    <tr>\n      <th>9</th>\n      <td>PE</td>\n      <td>µg/m³</td>\n    </tr>\n    <tr>\n      <th>10</th>\n      <td>RU</td>\n      <td>µg/m³</td>\n    </tr>\n    <tr>\n      <th>11</th>\n      <td>SG</td>\n      <td>µg/m³</td>\n    </tr>\n    <tr>\n      <th>12</th>\n      <td>AU</td>\n      <td>µg/m³</td>\n    </tr>\n    <tr>\n      <th>13</th>\n      <td>ZA</td>\n      <td>µg/m³</td>\n    </tr>\n    <tr>\n      <th>14</th>\n      <td>MX</td>\n      <td>µg/m³</td>\n    </tr>\n    <tr>\n      <th>15</th>\n      <td>BH</td>\n      <td>µg/m³</td>\n    </tr>\n    <tr>\n      <th>16</th>\n      <td>XK</td>\n      <td>µg/m³</td>\n    </tr>\n    <tr>\n      <th>17</th>\n      <td>BA</td>\n      <td>µg/m³</td>\n    </tr>\n    <tr>\n      <th>18</th>\n      <td>SK</td>\n      <td>µg/m³</td>\n    </tr>\n    <tr>\n      <th>19</th>\n      <td>CA</td>\n      <td>µg/m³</td>\n    </tr>\n    <tr>\n      <th>20</th>\n      <td>HR</td>\n      <td>µg/m³</td>\n    </tr>\n    <tr>\n      <th>21</th>\n      <td>NO</td>\n      <td>µg/m³</td>\n    </tr>\n    <tr>\n      <th>22</th>\n      <td>SI</td>\n      <td>µg/m³</td>\n    </tr>\n    <tr>\n      <th>23</th>\n      <td>IN</td>\n      <td>µg/m³</td>\n    </tr>\n    <tr>\n      <th>24</th>\n      <td>ES</td>\n      <td>µg/m³</td>\n    </tr>\n    <tr>\n      <th>25</th>\n      <td>GB</td>\n      <td>µg/m³</td>\n    </tr>\n    <tr>\n      <th>26</th>\n      <td>LT</td>\n      <td>µg/m³</td>\n    </tr>\n    <tr>\n      <th>27</th>\n      <td>AE</td>\n      <td>µg/m³</td>\n    </tr>\n    <tr>\n      <th>28</th>\n      <td>HK</td>\n      <td>µg/m³</td>\n    </tr>\n    <tr>\n      <th>29</th>\n      <td>RS</td>\n      <td>µg/m³</td>\n    </tr>\n    <tr>\n      <th>...</th>\n      <td>...</td>\n      <td>...</td>\n    </tr>\n    <tr>\n      <th>34</th>\n      <td>IE</td>\n      <td>µg/m³</td>\n    </tr>\n    <tr>\n      <th>35</th>\n      <td>LV</td>\n      <td>µg/m³</td>\n    </tr>\n    <tr>\n      <th>36</th>\n      <td>MK</td>\n      <td>µg/m³</td>\n    </tr>\n    <tr>\n      <th>37</th>\n      <td>CH</td>\n      <td>µg/m³</td>\n    </tr>\n    <tr>\n      <th>38</th>\n      <td>AD</td>\n      <td>µg/m³</td>\n    </tr>\n    <tr>\n      <th>39</th>\n      <td>IL</td>\n      <td>µg/m³</td>\n    </tr>\n    <tr>\n      <th>40</th>\n      <td>BR</td>\n      <td>µg/m³</td>\n    </tr>\n    <tr>\n      <th>41</th>\n      <td>LU</td>\n      <td>µg/m³</td>\n    </tr>\n    <tr>\n      <th>42</th>\n      <td>AR</td>\n      <td>µg/m³</td>\n    </tr>\n    <tr>\n      <th>43</th>\n      <td>CO</td>\n      <td>µg/m³</td>\n    </tr>\n    <tr>\n      <th>44</th>\n      <td>ID</td>\n      <td>µg/m³</td>\n    </tr>\n    <tr>\n      <th>45</th>\n      <td>GI</td>\n      <td>µg/m³</td>\n    </tr>\n    <tr>\n      <th>46</th>\n      <td>PH</td>\n      <td>µg/m³</td>\n    </tr>\n    <tr>\n      <th>47</th>\n      <td>US</td>\n      <td>µg/m³</td>\n    </tr>\n    <tr>\n      <th>48</th>\n      <td>IT</td>\n      <td>µg/m³</td>\n    </tr>\n    <tr>\n      <th>49</th>\n      <td>VN</td>\n      <td>µg/m³</td>\n    </tr>\n    <tr>\n      <th>50</th>\n      <td>PL</td>\n      <td>µg/m³</td>\n    </tr>\n    <tr>\n      <th>51</th>\n      <td>BE</td>\n      <td>µg/m³</td>\n    </tr>\n    <tr>\n      <th>52</th>\n      <td>TW</td>\n      <td>µg/m³</td>\n    </tr>\n    <tr>\n      <th>53</th>\n      <td>LK</td>\n      <td>µg/m³</td>\n    </tr>\n    <tr>\n      <th>54</th>\n      <td>TH</td>\n      <td>µg/m³</td>\n    </tr>\n    <tr>\n      <th>55</th>\n      <td>NG</td>\n      <td>µg/m³</td>\n    </tr>\n    <tr>\n      <th>56</th>\n      <td>BD</td>\n      <td>µg/m³</td>\n    </tr>\n    <tr>\n      <th>57</th>\n      <td>NP</td>\n      <td>µg/m³</td>\n    </tr>\n    <tr>\n      <th>58</th>\n      <td>CN</td>\n      <td>µg/m³</td>\n    </tr>\n    <tr>\n      <th>59</th>\n      <td>NL</td>\n      <td>µg/m³</td>\n    </tr>\n    <tr>\n      <th>60</th>\n      <td>PT</td>\n      <td>µg/m³</td>\n    </tr>\n    <tr>\n      <th>61</th>\n      <td>TR</td>\n      <td>µg/m³</td>\n    </tr>\n    <tr>\n      <th>62</th>\n      <td>CZ</td>\n      <td>µg/m³</td>\n    </tr>\n    <tr>\n      <th>63</th>\n      <td>AT</td>\n      <td>µg/m³</td>\n    </tr>\n  </tbody>\n</table>\n<p>64 rows × 2 columns</p>\n</div>"
          },
          "metadata": {}
        }
      ]
    },
    {
      "metadata": {
        "trusted": true,
        "_uuid": "d9fc1d03dac8e2e78096d93f2ff206151f4fd1f0"
      },
      "cell_type": "code",
      "source": "\"\"\"\nQ2. Which pollutants have a value of exactly 0?\n\"\"\"\nq = \"\"\"SELECT DISTINCT pollutant\nFROM `bigquery-public-data.openaq.global_air_quality`\nWHERE value = 0\n\"\"\"\n# estimate query size run only if query size less than 100MB\nopen_aq.query_to_pandas_safe(q, max_gb_scanned=0.1)",
      "execution_count": 18,
      "outputs": [
        {
          "output_type": "execute_result",
          "execution_count": 18,
          "data": {
            "text/plain": "  pollutant\n0      pm25\n1       no2\n2       so2\n3      pm10\n4        o3\n5        co\n6        bc",
            "text/html": "<div>\n<style>\n    .dataframe thead tr:only-child th {\n        text-align: right;\n    }\n\n    .dataframe thead th {\n        text-align: left;\n    }\n\n    .dataframe tbody tr th {\n        vertical-align: top;\n    }\n</style>\n<table border=\"1\" class=\"dataframe\">\n  <thead>\n    <tr style=\"text-align: right;\">\n      <th></th>\n      <th>pollutant</th>\n    </tr>\n  </thead>\n  <tbody>\n    <tr>\n      <th>0</th>\n      <td>pm25</td>\n    </tr>\n    <tr>\n      <th>1</th>\n      <td>no2</td>\n    </tr>\n    <tr>\n      <th>2</th>\n      <td>so2</td>\n    </tr>\n    <tr>\n      <th>3</th>\n      <td>pm10</td>\n    </tr>\n    <tr>\n      <th>4</th>\n      <td>o3</td>\n    </tr>\n    <tr>\n      <th>5</th>\n      <td>co</td>\n    </tr>\n    <tr>\n      <th>6</th>\n      <td>bc</td>\n    </tr>\n  </tbody>\n</table>\n</div>"
          },
          "metadata": {}
        }
      ]
    },
    {
      "metadata": {
        "trusted": true,
        "collapsed": true,
        "_uuid": "e06184ad6aedf13736fcd743a186e351b01a9842"
      },
      "cell_type": "code",
      "source": "",
      "execution_count": null,
      "outputs": []
    }
  ],
  "metadata": {
    "language_info": {
      "name": "python",
      "version": "3.6.4",
      "mimetype": "text/x-python",
      "codemirror_mode": {
        "name": "ipython",
        "version": 3
      },
      "pygments_lexer": "ipython3",
      "nbconvert_exporter": "python",
      "file_extension": ".py"
    },
    "kernelspec": {
      "display_name": "Python 3",
      "language": "python",
      "name": "python3"
    }
  },
  "nbformat": 4,
  "nbformat_minor": 1
}