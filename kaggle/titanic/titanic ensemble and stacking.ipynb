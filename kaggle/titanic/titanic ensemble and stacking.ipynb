{
 "cells": [
  {
   "cell_type": "markdown",
   "metadata": {},
   "source": [
    "In this notebook, we will introduce a basic and simple method of ensembling (combining) base learning models, in particular the variant of ensembling known as Stacking. In nutshell stacking uses as a first-level (base), the predictions of a few basic classifiers and then uses another model at the second-level to predict the output from the earlier first level predictions.\n",
    "\n",
    "# 1. Loading the libraries and data sets"
   ]
  },
  {
   "cell_type": "code",
   "execution_count": 1,
   "metadata": {},
   "outputs": [
    {
     "name": "stderr",
     "output_type": "stream",
     "text": [
      "C:\\Users\\LW130003\\Anaconda3\\lib\\site-packages\\sklearn\\cross_validation.py:41: DeprecationWarning: This module was deprecated in version 0.18 in favor of the model_selection module into which all the refactored classes and functions are moved. Also note that the interface of the new CV iterators are different from that of this module. This module will be removed in 0.20.\n",
      "  \"This module will be removed in 0.20.\", DeprecationWarning)\n"
     ]
    },
    {
     "data": {
      "text/html": [
       "<script>requirejs.config({paths: { 'plotly': ['https://cdn.plot.ly/plotly-latest.min']},});if(!window.Plotly) {{require(['plotly'],function(plotly) {window.Plotly=plotly;});}}</script>"
      ],
      "text/vnd.plotly.v1+html": [
       "<script>requirejs.config({paths: { 'plotly': ['https://cdn.plot.ly/plotly-latest.min']},});if(!window.Plotly) {{require(['plotly'],function(plotly) {window.Plotly=plotly;});}}</script>"
      ]
     },
     "metadata": {},
     "output_type": "display_data"
    },
    {
     "data": {
      "text/html": [
       "<div>\n",
       "<style>\n",
       "    .dataframe thead tr:only-child th {\n",
       "        text-align: right;\n",
       "    }\n",
       "\n",
       "    .dataframe thead th {\n",
       "        text-align: left;\n",
       "    }\n",
       "\n",
       "    .dataframe tbody tr th {\n",
       "        vertical-align: top;\n",
       "    }\n",
       "</style>\n",
       "<table border=\"1\" class=\"dataframe\">\n",
       "  <thead>\n",
       "    <tr style=\"text-align: right;\">\n",
       "      <th></th>\n",
       "      <th>Pclass</th>\n",
       "      <th>Survived</th>\n",
       "      <th>IsAlone</th>\n",
       "      <th>Embarked_C</th>\n",
       "      <th>Embarked_Q</th>\n",
       "      <th>Embarked_S</th>\n",
       "      <th>Sex_female</th>\n",
       "      <th>Sex_male</th>\n",
       "      <th>AgeBand_(-0.08, 16.0]</th>\n",
       "      <th>AgeBand_(16.0, 32.0]</th>\n",
       "      <th>...</th>\n",
       "      <th>FareBand_(-0.512, 102.4]</th>\n",
       "      <th>FareBand_(102.4, 204.8]</th>\n",
       "      <th>FareBand_(204.8, 307.2]</th>\n",
       "      <th>FareBand_(307.2, 409.6]</th>\n",
       "      <th>FareBand_(409.6, 512.0]</th>\n",
       "      <th>Title_Master</th>\n",
       "      <th>Title_Miss</th>\n",
       "      <th>Title_Mr</th>\n",
       "      <th>Title_Mrs</th>\n",
       "      <th>Title_Rare</th>\n",
       "    </tr>\n",
       "  </thead>\n",
       "  <tbody>\n",
       "    <tr>\n",
       "      <th>0</th>\n",
       "      <td>3</td>\n",
       "      <td>0.0</td>\n",
       "      <td>0</td>\n",
       "      <td>0</td>\n",
       "      <td>0</td>\n",
       "      <td>1</td>\n",
       "      <td>0</td>\n",
       "      <td>1</td>\n",
       "      <td>0</td>\n",
       "      <td>1</td>\n",
       "      <td>...</td>\n",
       "      <td>1</td>\n",
       "      <td>0</td>\n",
       "      <td>0</td>\n",
       "      <td>0</td>\n",
       "      <td>0</td>\n",
       "      <td>0</td>\n",
       "      <td>0</td>\n",
       "      <td>1</td>\n",
       "      <td>0</td>\n",
       "      <td>0</td>\n",
       "    </tr>\n",
       "    <tr>\n",
       "      <th>1</th>\n",
       "      <td>1</td>\n",
       "      <td>1.0</td>\n",
       "      <td>0</td>\n",
       "      <td>1</td>\n",
       "      <td>0</td>\n",
       "      <td>0</td>\n",
       "      <td>1</td>\n",
       "      <td>0</td>\n",
       "      <td>0</td>\n",
       "      <td>0</td>\n",
       "      <td>...</td>\n",
       "      <td>1</td>\n",
       "      <td>0</td>\n",
       "      <td>0</td>\n",
       "      <td>0</td>\n",
       "      <td>0</td>\n",
       "      <td>0</td>\n",
       "      <td>0</td>\n",
       "      <td>0</td>\n",
       "      <td>1</td>\n",
       "      <td>0</td>\n",
       "    </tr>\n",
       "    <tr>\n",
       "      <th>2</th>\n",
       "      <td>3</td>\n",
       "      <td>1.0</td>\n",
       "      <td>1</td>\n",
       "      <td>0</td>\n",
       "      <td>0</td>\n",
       "      <td>1</td>\n",
       "      <td>1</td>\n",
       "      <td>0</td>\n",
       "      <td>0</td>\n",
       "      <td>1</td>\n",
       "      <td>...</td>\n",
       "      <td>1</td>\n",
       "      <td>0</td>\n",
       "      <td>0</td>\n",
       "      <td>0</td>\n",
       "      <td>0</td>\n",
       "      <td>0</td>\n",
       "      <td>1</td>\n",
       "      <td>0</td>\n",
       "      <td>0</td>\n",
       "      <td>0</td>\n",
       "    </tr>\n",
       "    <tr>\n",
       "      <th>3</th>\n",
       "      <td>1</td>\n",
       "      <td>1.0</td>\n",
       "      <td>0</td>\n",
       "      <td>0</td>\n",
       "      <td>0</td>\n",
       "      <td>1</td>\n",
       "      <td>1</td>\n",
       "      <td>0</td>\n",
       "      <td>0</td>\n",
       "      <td>0</td>\n",
       "      <td>...</td>\n",
       "      <td>1</td>\n",
       "      <td>0</td>\n",
       "      <td>0</td>\n",
       "      <td>0</td>\n",
       "      <td>0</td>\n",
       "      <td>0</td>\n",
       "      <td>0</td>\n",
       "      <td>0</td>\n",
       "      <td>1</td>\n",
       "      <td>0</td>\n",
       "    </tr>\n",
       "    <tr>\n",
       "      <th>4</th>\n",
       "      <td>3</td>\n",
       "      <td>0.0</td>\n",
       "      <td>1</td>\n",
       "      <td>0</td>\n",
       "      <td>0</td>\n",
       "      <td>1</td>\n",
       "      <td>0</td>\n",
       "      <td>1</td>\n",
       "      <td>0</td>\n",
       "      <td>0</td>\n",
       "      <td>...</td>\n",
       "      <td>1</td>\n",
       "      <td>0</td>\n",
       "      <td>0</td>\n",
       "      <td>0</td>\n",
       "      <td>0</td>\n",
       "      <td>0</td>\n",
       "      <td>0</td>\n",
       "      <td>1</td>\n",
       "      <td>0</td>\n",
       "      <td>0</td>\n",
       "    </tr>\n",
       "  </tbody>\n",
       "</table>\n",
       "<p>5 rows × 23 columns</p>\n",
       "</div>"
      ],
      "text/plain": [
       "   Pclass  Survived  IsAlone  Embarked_C  Embarked_Q  Embarked_S  Sex_female  \\\n",
       "0       3       0.0        0           0           0           1           0   \n",
       "1       1       1.0        0           1           0           0           1   \n",
       "2       3       1.0        1           0           0           1           1   \n",
       "3       1       1.0        0           0           0           1           1   \n",
       "4       3       0.0        1           0           0           1           0   \n",
       "\n",
       "   Sex_male  AgeBand_(-0.08, 16.0]  AgeBand_(16.0, 32.0]     ...      \\\n",
       "0         1                      0                     1     ...       \n",
       "1         0                      0                     0     ...       \n",
       "2         0                      0                     1     ...       \n",
       "3         0                      0                     0     ...       \n",
       "4         1                      0                     0     ...       \n",
       "\n",
       "   FareBand_(-0.512, 102.4]  FareBand_(102.4, 204.8]  FareBand_(204.8, 307.2]  \\\n",
       "0                         1                        0                        0   \n",
       "1                         1                        0                        0   \n",
       "2                         1                        0                        0   \n",
       "3                         1                        0                        0   \n",
       "4                         1                        0                        0   \n",
       "\n",
       "   FareBand_(307.2, 409.6]  FareBand_(409.6, 512.0]  Title_Master  Title_Miss  \\\n",
       "0                        0                        0             0           0   \n",
       "1                        0                        0             0           0   \n",
       "2                        0                        0             0           1   \n",
       "3                        0                        0             0           0   \n",
       "4                        0                        0             0           0   \n",
       "\n",
       "   Title_Mr  Title_Mrs  Title_Rare  \n",
       "0         1          0           0  \n",
       "1         0          1           0  \n",
       "2         0          0           0  \n",
       "3         0          1           0  \n",
       "4         1          0           0  \n",
       "\n",
       "[5 rows x 23 columns]"
      ]
     },
     "execution_count": 1,
     "metadata": {},
     "output_type": "execute_result"
    }
   ],
   "source": [
    "#load libraries\n",
    "import pandas as pd\n",
    "import numpy as np\n",
    "import re\n",
    "import sklearn\n",
    "import xgboost as xgb\n",
    "import seaborn as sns\n",
    "import matplotlib.pyplot as plt\n",
    "%matplotlib inline\n",
    "\n",
    "import plotly.offline as py\n",
    "py.init_notebook_mode(connected=True)\n",
    "import plotly.graph_objs as go\n",
    "import plotly.tools as tls\n",
    "\n",
    "from sklearn.ensemble import RandomForestClassifier, AdaBoostClassifier, GradientBoostingClassifier, ExtraTreesClassifier\n",
    "from sklearn.svm import SVC\n",
    "from sklearn.cross_validation import KFold;\n",
    "\n",
    "#load dataset\n",
    "train = pd.read_csv(r'C:\\Users\\LW130003\\Documents\\GitHub\\titanic\\train_modified.csv')\n",
    "test = pd.read_csv(r'C:\\Users\\LW130003\\Documents\\GitHub\\titanic\\test_modified.csv')\n",
    "\n",
    "train.head()"
   ]
  },
  {
   "cell_type": "markdown",
   "metadata": {},
   "source": [
    "# 2. Ensemble and Stacking models\n",
    "\n",
    "Create a class to help us or make it more convenient to us.\n",
    "A class helps to extend some code/program for creating objects as well as to implement functions and methods specific to that class.\n",
    "\n",
    "Below we write a class SklearnHelper that allows one to extend the inbuilt methods (such as train, predict and fit) common to all the Sklearn Classifier. Therefor this cuts out redundancy as we don't need to write the same methods five times if we wanted to invoke five different classifiers."
   ]
  },
  {
   "cell_type": "code",
   "execution_count": 2,
   "metadata": {},
   "outputs": [],
   "source": [
    "#some useful parameters which will come in handy later on\n",
    "ntrain = train.shape[0]\n",
    "ntest = test.shape[0]\n",
    "SEED = 0 #for reproducibility\n",
    "NFOLDS = 5 #set folds for out of fold prediction\n",
    "kf = KFold(ntrain, n_folds=NFOLDS, random_state=SEED)\n",
    "\n",
    "#class to extend the Sklearn classifier\n",
    "class SklearnHelper(object):\n",
    "    def __init__(self, clf, seed=0, params=None):\n",
    "        params['random_state']=seed\n",
    "        self.clf = clf(**params)\n",
    "        \n",
    "    def train(self, x_train, y_train):\n",
    "        return(self.clf.fit(x_train, y_train))\n",
    "        \n",
    "    def predict(self,x):\n",
    "        return(self.clf.predict(x))\n",
    "    \n",
    "    def fit(self,x,y):\n",
    "        return(self.clf.fit(x,y))\n",
    "    \n",
    "    def feature_importances(self,x,y):\n",
    "        return(list(self.clf.fit(x,y).feature_importances_))    "
   ]
  },
  {
   "cell_type": "markdown",
   "metadata": {},
   "source": [
    "**def init**: Python standard for invoking the default constructor for the class. This means that when you want to create an object (classifier), you have to give it the parameters of clf (what sklearn classifier you want), seed (random seed) and params (parameters for the classifiers).\n",
    "\n",
    "\n",
    "**Out-of-Fold predictions**\n",
    "Stacking uses predictions of base classifiers as input for training to a second-level modem. However one cannot simpy train the base models on the full training data, generate predictions on the full test set and then output these for the second-level training. This runs the risk of your base model predictions already having \"seen\" the test set and therefore overfitting when feeding these predicitons."
   ]
  },
  {
   "cell_type": "code",
   "execution_count": 3,
   "metadata": {
    "collapsed": true
   },
   "outputs": [],
   "source": [
    "def get_oof(clf, x_train, y_train, x_test):\n",
    "    oof_train = np.zeros((ntrain,))\n",
    "    oof_test = np.zeros((ntest,))\n",
    "    oof_test_skf = np.empty((NFOLDS, ntest))\n",
    "    \n",
    "    for i, (train_index, test_index) in enumerate(kf):\n",
    "        x_tr = x_train[train_index]\n",
    "        y_tr = y_train[train_index]\n",
    "        x_te = x_train[test_index]\n",
    "        \n",
    "        clf.train(x_tr, y_tr)\n",
    "        \n",
    "        oof_train[test_index] = clf.predict(x_te)\n",
    "        oof_test_skf[i,:] = clf.predict(x_test)\n",
    "        \n",
    "    oof_test[:] = oof_test_skf.mean(axis=0)\n",
    "    return oof_train.reshape(-1,1), oof_test.reshape(-1,1)"
   ]
  },
  {
   "cell_type": "markdown",
   "metadata": {},
   "source": [
    "# 3. First-Level Predictions\n",
    "\n",
    "**Generating our Base First-Level Models**\n",
    "Prepare 5 learning models as our first level classification:\n",
    "1. Random Forest Classifier\n",
    "2. Extra trees Classifier\n",
    "3. AdaBoost Classifier\n",
    "4. Gradient Boosting Classifier\n",
    "5. Support Vector Machine\n",
    "\n",
    "**Parameters**\n",
    "1. **n_jobs** = Number of cores used for the training process. If set to -1, all cores are used.\n",
    "2. **n_estimators** = Number of classification trees in your learning model (set to 10 per default).\n",
    "3. **max_depth** = Maximum depth of tree, or how much a node should be expanded. Beware if set to too high anumber would run the risk of overfitting as one would be growing the tree too deep.\n",
    "4. **verbose** = Controls whether you want to output any text during the learning process. A value of 0 suppresses all text while a value of 3 outputs the tree learning process at every iteration."
   ]
  },
  {
   "cell_type": "code",
   "execution_count": 4,
   "metadata": {},
   "outputs": [],
   "source": [
    "#put in our parameters for said classifiers\n",
    "\n",
    "#random forest parameters\n",
    "rf_params = {'n_jobs' : -1,\n",
    "             'n_estimators' : 500,\n",
    "             'warm_start' : True,\n",
    "             #'max_features' : 0.2,\n",
    "             'max_depth' : 6,\n",
    "             'min_samples_leaf' : 2,\n",
    "             'max_features' : 'sqrt',\n",
    "             'verbose' : 0\n",
    "}\n",
    "\n",
    "#extra trees parameters\n",
    "et_params = {'n_jobs' : -1,\n",
    "             'n_estimators' : 500,\n",
    "             #'max_features' : 0.5,\n",
    "             'max_depth' : 8,\n",
    "             'min_samples_leaf' : 2,\n",
    "             'verbose' : 0\n",
    "}\n",
    "\n",
    "#adaboost parameters\n",
    "ada_params = {'n_estimators' : 500,\n",
    "              'learning_rate' : 0.75\n",
    "}\n",
    "\n",
    "#gradient boosting parameters\n",
    "gb_params = {'n_estimators' : 500,\n",
    "             #'max_features' : 0.2,\n",
    "             'max_depth' : 5,\n",
    "             'min_samples_leaf' : 2,\n",
    "             'verbose' : 0    \n",
    "}\n",
    "\n",
    "#support vector classifier parameters\n",
    "svc_params = {'kernel' : 'linear',\n",
    "              'C' : 0.025\n",
    "}"
   ]
  },
  {
   "cell_type": "code",
   "execution_count": 5,
   "metadata": {
    "collapsed": true
   },
   "outputs": [],
   "source": [
    "#create 5 objects that represents our 5 models\n",
    "rf = SklearnHelper(clf=RandomForestClassifier, seed=SEED, params=rf_params)\n",
    "et = SklearnHelper(clf=ExtraTreesClassifier, seed=SEED, params=et_params)\n",
    "ada = SklearnHelper(clf=AdaBoostClassifier, seed=SEED, params=ada_params)\n",
    "gb = SklearnHelper(clf=GradientBoostingClassifier, seed=SEED, params=gb_params)\n",
    "svc = SklearnHelper(clf=SVC, seed=SEED, params=svc_params)"
   ]
  },
  {
   "cell_type": "markdown",
   "metadata": {},
   "source": [
    "**Create NumPy arrrays out of our train and test sets**"
   ]
  },
  {
   "cell_type": "code",
   "execution_count": 6,
   "metadata": {},
   "outputs": [],
   "source": [
    "#create NumPy arrrays out of train, test and target (Survived) dataframes to feed into our models\n",
    "y_train = train['Survived'].ravel()\n",
    "train = train.drop(['Survived'], axis=1)\n",
    "x_train = train.values #create an array of the train data\n",
    "x_test = test.values #create an array of the test data"
   ]
  },
  {
   "cell_type": "markdown",
   "metadata": {},
   "source": [
    "**Output of the First Level Predictions**"
   ]
  },
  {
   "cell_type": "code",
   "execution_count": 7,
   "metadata": {},
   "outputs": [
    {
     "name": "stderr",
     "output_type": "stream",
     "text": [
      "C:\\Users\\LW130003\\Anaconda3\\lib\\site-packages\\sklearn\\ensemble\\forest.py:305: UserWarning:\n",
      "\n",
      "Warm-start fitting without increasing n_estimators does not fit new trees.\n",
      "\n"
     ]
    },
    {
     "name": "stdout",
     "output_type": "stream",
     "text": [
      "Training is complete\n"
     ]
    }
   ],
   "source": [
    "#create our oof train and test predictions. Those base resutls will be used  as new features\n",
    "rf_oof_train, rf_oof_test = get_oof(rf, x_train, y_train, x_test) #random forest\n",
    "et_oof_train, et_oof_test = get_oof(et, x_train, y_train, x_test) #extra tree\n",
    "ada_oof_train, ada_oof_test = get_oof(ada, x_train, y_train, x_test) #adaboost\n",
    "gb_oof_train, gb_oof_test = get_oof(gb, x_train, y_train, x_test) #gradient boost\n",
    "svc_oof_train, svc_oof_test = get_oof(svc, x_train, y_train, x_test) #support vector classifier\n",
    "\n",
    "print('Training is complete')"
   ]
  },
  {
   "cell_type": "markdown",
   "metadata": {},
   "source": [
    "**Feature Importances generated from different classifiers**"
   ]
  },
  {
   "cell_type": "code",
   "execution_count": 30,
   "metadata": {},
   "outputs": [
    {
     "name": "stderr",
     "output_type": "stream",
     "text": [
      "C:\\Users\\LW130003\\Anaconda3\\lib\\site-packages\\sklearn\\ensemble\\forest.py:305: UserWarning:\n",
      "\n",
      "Warm-start fitting without increasing n_estimators does not fit new trees.\n",
      "\n"
     ]
    }
   ],
   "source": [
    "rf_feature = rf.feature_importances(x_train, y_train)\n",
    "et_feature = et.feature_importances(x_train, y_train)\n",
    "ada_feature = ada.feature_importances(x_train, y_train)\n",
    "gb_feature = gb.feature_importances(x_train, y_train)\n",
    "\n",
    "#create dataframe with features\n",
    "cols = train.columns.values\n",
    "feature_dataframe = pd.DataFrame({\n",
    "    'features' : cols,\n",
    "    'Random Forest feature importances' : rf_feature,\n",
    "    'Extra Trees feature importances' : et_feature,\n",
    "    'Adaboost feature importances' : ada_feature,\n",
    "    'Gradient Boost feature importances' : gb_feature\n",
    "})\n",
    "feature_dataframe =  feature_dataframe[['features', 'Random Forest feature importances',\n",
    "                                       'Extra Trees feature importances',\n",
    "                                       'Adaboost feature importances',\n",
    "                                       'Gradient Boost feature importances']]"
   ]
  },
  {
   "cell_type": "markdown",
   "metadata": {},
   "source": [
    "**Interactive feature importances via Plotly scatterplots**"
   ]
  },
  {
   "cell_type": "code",
   "execution_count": 60,
   "metadata": {},
   "outputs": [
    {
     "data": {
      "application/vnd.plotly.v1+json": {
       "data": [
        {
         "marker": {
          "color": [
           0.17665677872970276,
           0.02824791170961696,
           0.02738912042253468,
           0.00904101245350797,
           0.021150282497821582,
           0.15368164930794898,
           0.17650404517348958,
           0.017140436305434128,
           0.011115953152948903,
           0.009846139018921419,
           0.006764823426743236,
           0.0007963086762535484,
           0.014529244607272132,
           0.00863108250627566,
           0.002757002345226047,
           0,
           0.0031123553748320042,
           0.023977266176225764,
           0.04337749804581321,
           0.20510227422511204,
           0.050664217061584846,
           0.009514598782734918
          ],
          "colorscale": "Portland",
          "showscale": true,
          "size": 25,
          "sizemode": "diameter",
          "sizeref": 1
         },
         "mode": "markers",
         "text": [
          "Pclass",
          "IsAlone",
          "Embarked_C",
          "Embarked_Q",
          "Embarked_S",
          "Sex_female",
          "Sex_male",
          "AgeBand_(-0.08, 16.0]",
          "AgeBand_(16.0, 32.0]",
          "AgeBand_(32.0, 48.0]",
          "AgeBand_(48.0, 64.0]",
          "AgeBand_(64.0, 80.0]",
          "FareBand_(-0.512, 102.4]",
          "FareBand_(102.4, 204.8]",
          "FareBand_(204.8, 307.2]",
          "FareBand_(307.2, 409.6]",
          "FareBand_(409.6, 512.0]",
          "Title_Master",
          "Title_Miss",
          "Title_Mr",
          "Title_Mrs",
          "Title_Rare"
         ],
         "type": "scatter",
         "x": [
          "Pclass",
          "IsAlone",
          "Embarked_C",
          "Embarked_Q",
          "Embarked_S",
          "Sex_female",
          "Sex_male",
          "AgeBand_(-0.08, 16.0]",
          "AgeBand_(16.0, 32.0]",
          "AgeBand_(32.0, 48.0]",
          "AgeBand_(48.0, 64.0]",
          "AgeBand_(64.0, 80.0]",
          "FareBand_(-0.512, 102.4]",
          "FareBand_(102.4, 204.8]",
          "FareBand_(204.8, 307.2]",
          "FareBand_(307.2, 409.6]",
          "FareBand_(409.6, 512.0]",
          "Title_Master",
          "Title_Miss",
          "Title_Mr",
          "Title_Mrs",
          "Title_Rare"
         ],
         "y": [
          0.17665677872970276,
          0.02824791170961696,
          0.02738912042253468,
          0.00904101245350797,
          0.021150282497821582,
          0.15368164930794898,
          0.17650404517348958,
          0.017140436305434128,
          0.011115953152948903,
          0.009846139018921419,
          0.006764823426743236,
          0.0007963086762535484,
          0.014529244607272132,
          0.00863108250627566,
          0.002757002345226047,
          0,
          0.0031123553748320042,
          0.023977266176225764,
          0.04337749804581321,
          0.20510227422511204,
          0.050664217061584846,
          0.009514598782734918
         ]
        }
       ],
       "layout": {
        "autosize": true,
        "title": "Random Forest feature importances"
       }
      },
      "text/html": [
       "<div id=\"ae230b8c-76db-41ce-aeff-ad3c7cb66f80\" style=\"height: 525px; width: 100%;\" class=\"plotly-graph-div\"></div><script type=\"text/javascript\">require([\"plotly\"], function(Plotly) { window.PLOTLYENV=window.PLOTLYENV || {};window.PLOTLYENV.BASE_URL=\"https://plot.ly\";Plotly.newPlot(\"ae230b8c-76db-41ce-aeff-ad3c7cb66f80\", [{\"type\": \"scatter\", \"x\": [\"Pclass\", \"IsAlone\", \"Embarked_C\", \"Embarked_Q\", \"Embarked_S\", \"Sex_female\", \"Sex_male\", \"AgeBand_(-0.08, 16.0]\", \"AgeBand_(16.0, 32.0]\", \"AgeBand_(32.0, 48.0]\", \"AgeBand_(48.0, 64.0]\", \"AgeBand_(64.0, 80.0]\", \"FareBand_(-0.512, 102.4]\", \"FareBand_(102.4, 204.8]\", \"FareBand_(204.8, 307.2]\", \"FareBand_(307.2, 409.6]\", \"FareBand_(409.6, 512.0]\", \"Title_Master\", \"Title_Miss\", \"Title_Mr\", \"Title_Mrs\", \"Title_Rare\"], \"y\": [0.17665677872970276, 0.02824791170961696, 0.02738912042253468, 0.00904101245350797, 0.021150282497821582, 0.15368164930794898, 0.17650404517348958, 0.017140436305434128, 0.011115953152948903, 0.009846139018921419, 0.006764823426743236, 0.0007963086762535484, 0.014529244607272132, 0.00863108250627566, 0.002757002345226047, 0.0, 0.0031123553748320042, 0.023977266176225764, 0.04337749804581321, 0.20510227422511204, 0.050664217061584846, 0.009514598782734918], \"mode\": \"markers\", \"marker\": {\"sizemode\": \"diameter\", \"sizeref\": 1, \"size\": 25, \"color\": [0.17665677872970276, 0.02824791170961696, 0.02738912042253468, 0.00904101245350797, 0.021150282497821582, 0.15368164930794898, 0.17650404517348958, 0.017140436305434128, 0.011115953152948903, 0.009846139018921419, 0.006764823426743236, 0.0007963086762535484, 0.014529244607272132, 0.00863108250627566, 0.002757002345226047, 0.0, 0.0031123553748320042, 0.023977266176225764, 0.04337749804581321, 0.20510227422511204, 0.050664217061584846, 0.009514598782734918], \"colorscale\": \"Portland\", \"showscale\": true}, \"text\": [\"Pclass\", \"IsAlone\", \"Embarked_C\", \"Embarked_Q\", \"Embarked_S\", \"Sex_female\", \"Sex_male\", \"AgeBand_(-0.08, 16.0]\", \"AgeBand_(16.0, 32.0]\", \"AgeBand_(32.0, 48.0]\", \"AgeBand_(48.0, 64.0]\", \"AgeBand_(64.0, 80.0]\", \"FareBand_(-0.512, 102.4]\", \"FareBand_(102.4, 204.8]\", \"FareBand_(204.8, 307.2]\", \"FareBand_(307.2, 409.6]\", \"FareBand_(409.6, 512.0]\", \"Title_Master\", \"Title_Miss\", \"Title_Mr\", \"Title_Mrs\", \"Title_Rare\"]}], {\"autosize\": true, \"title\": \"Random Forest feature importances\"}, {\"showLink\": true, \"linkText\": \"Export to plot.ly\"})});</script>"
      ],
      "text/vnd.plotly.v1+html": [
       "<div id=\"ae230b8c-76db-41ce-aeff-ad3c7cb66f80\" style=\"height: 525px; width: 100%;\" class=\"plotly-graph-div\"></div><script type=\"text/javascript\">require([\"plotly\"], function(Plotly) { window.PLOTLYENV=window.PLOTLYENV || {};window.PLOTLYENV.BASE_URL=\"https://plot.ly\";Plotly.newPlot(\"ae230b8c-76db-41ce-aeff-ad3c7cb66f80\", [{\"type\": \"scatter\", \"x\": [\"Pclass\", \"IsAlone\", \"Embarked_C\", \"Embarked_Q\", \"Embarked_S\", \"Sex_female\", \"Sex_male\", \"AgeBand_(-0.08, 16.0]\", \"AgeBand_(16.0, 32.0]\", \"AgeBand_(32.0, 48.0]\", \"AgeBand_(48.0, 64.0]\", \"AgeBand_(64.0, 80.0]\", \"FareBand_(-0.512, 102.4]\", \"FareBand_(102.4, 204.8]\", \"FareBand_(204.8, 307.2]\", \"FareBand_(307.2, 409.6]\", \"FareBand_(409.6, 512.0]\", \"Title_Master\", \"Title_Miss\", \"Title_Mr\", \"Title_Mrs\", \"Title_Rare\"], \"y\": [0.17665677872970276, 0.02824791170961696, 0.02738912042253468, 0.00904101245350797, 0.021150282497821582, 0.15368164930794898, 0.17650404517348958, 0.017140436305434128, 0.011115953152948903, 0.009846139018921419, 0.006764823426743236, 0.0007963086762535484, 0.014529244607272132, 0.00863108250627566, 0.002757002345226047, 0.0, 0.0031123553748320042, 0.023977266176225764, 0.04337749804581321, 0.20510227422511204, 0.050664217061584846, 0.009514598782734918], \"mode\": \"markers\", \"marker\": {\"sizemode\": \"diameter\", \"sizeref\": 1, \"size\": 25, \"color\": [0.17665677872970276, 0.02824791170961696, 0.02738912042253468, 0.00904101245350797, 0.021150282497821582, 0.15368164930794898, 0.17650404517348958, 0.017140436305434128, 0.011115953152948903, 0.009846139018921419, 0.006764823426743236, 0.0007963086762535484, 0.014529244607272132, 0.00863108250627566, 0.002757002345226047, 0.0, 0.0031123553748320042, 0.023977266176225764, 0.04337749804581321, 0.20510227422511204, 0.050664217061584846, 0.009514598782734918], \"colorscale\": \"Portland\", \"showscale\": true}, \"text\": [\"Pclass\", \"IsAlone\", \"Embarked_C\", \"Embarked_Q\", \"Embarked_S\", \"Sex_female\", \"Sex_male\", \"AgeBand_(-0.08, 16.0]\", \"AgeBand_(16.0, 32.0]\", \"AgeBand_(32.0, 48.0]\", \"AgeBand_(48.0, 64.0]\", \"AgeBand_(64.0, 80.0]\", \"FareBand_(-0.512, 102.4]\", \"FareBand_(102.4, 204.8]\", \"FareBand_(204.8, 307.2]\", \"FareBand_(307.2, 409.6]\", \"FareBand_(409.6, 512.0]\", \"Title_Master\", \"Title_Miss\", \"Title_Mr\", \"Title_Mrs\", \"Title_Rare\"]}], {\"autosize\": true, \"title\": \"Random Forest feature importances\"}, {\"showLink\": true, \"linkText\": \"Export to plot.ly\"})});</script>"
      ]
     },
     "metadata": {},
     "output_type": "display_data"
    },
    {
     "data": {
      "application/vnd.plotly.v1+json": {
       "data": [
        {
         "marker": {
          "color": [
           0.16253105381997604,
           0.025395292864422485,
           0.02414223266733737,
           0.0147888600696071,
           0.020661239359614666,
           0.18039911732100775,
           0.18298654135837322,
           0.01598576124109907,
           0.008252877865636173,
           0.007993621850745605,
           0.007545288045972899,
           0.0013005157967502597,
           0.01345082710829686,
           0.007817657797646291,
           0.0038811066445753476,
           0,
           0.004824622719167589,
           0.022842780703057418,
           0.05209919174228393,
           0.18257122631696593,
           0.053447064200713046,
           0.007083120506750899
          ],
          "colorscale": "Portland",
          "showscale": true,
          "size": 25,
          "sizemode": "diameter",
          "sizeref": 1
         },
         "mode": "markers",
         "text": [
          "Pclass",
          "IsAlone",
          "Embarked_C",
          "Embarked_Q",
          "Embarked_S",
          "Sex_female",
          "Sex_male",
          "AgeBand_(-0.08, 16.0]",
          "AgeBand_(16.0, 32.0]",
          "AgeBand_(32.0, 48.0]",
          "AgeBand_(48.0, 64.0]",
          "AgeBand_(64.0, 80.0]",
          "FareBand_(-0.512, 102.4]",
          "FareBand_(102.4, 204.8]",
          "FareBand_(204.8, 307.2]",
          "FareBand_(307.2, 409.6]",
          "FareBand_(409.6, 512.0]",
          "Title_Master",
          "Title_Miss",
          "Title_Mr",
          "Title_Mrs",
          "Title_Rare"
         ],
         "type": "scatter",
         "x": [
          "Pclass",
          "IsAlone",
          "Embarked_C",
          "Embarked_Q",
          "Embarked_S",
          "Sex_female",
          "Sex_male",
          "AgeBand_(-0.08, 16.0]",
          "AgeBand_(16.0, 32.0]",
          "AgeBand_(32.0, 48.0]",
          "AgeBand_(48.0, 64.0]",
          "AgeBand_(64.0, 80.0]",
          "FareBand_(-0.512, 102.4]",
          "FareBand_(102.4, 204.8]",
          "FareBand_(204.8, 307.2]",
          "FareBand_(307.2, 409.6]",
          "FareBand_(409.6, 512.0]",
          "Title_Master",
          "Title_Miss",
          "Title_Mr",
          "Title_Mrs",
          "Title_Rare"
         ],
         "y": [
          0.16253105381997604,
          0.025395292864422485,
          0.02414223266733737,
          0.0147888600696071,
          0.020661239359614666,
          0.18039911732100775,
          0.18298654135837322,
          0.01598576124109907,
          0.008252877865636173,
          0.007993621850745605,
          0.007545288045972899,
          0.0013005157967502597,
          0.01345082710829686,
          0.007817657797646291,
          0.0038811066445753476,
          0,
          0.004824622719167589,
          0.022842780703057418,
          0.05209919174228393,
          0.18257122631696593,
          0.053447064200713046,
          0.007083120506750899
         ]
        }
       ],
       "layout": {
        "autosize": true,
        "title": "Extra Trees feature importances"
       }
      },
      "text/html": [
       "<div id=\"8ba8044a-572a-4e57-83ad-11f875531839\" style=\"height: 525px; width: 100%;\" class=\"plotly-graph-div\"></div><script type=\"text/javascript\">require([\"plotly\"], function(Plotly) { window.PLOTLYENV=window.PLOTLYENV || {};window.PLOTLYENV.BASE_URL=\"https://plot.ly\";Plotly.newPlot(\"8ba8044a-572a-4e57-83ad-11f875531839\", [{\"type\": \"scatter\", \"x\": [\"Pclass\", \"IsAlone\", \"Embarked_C\", \"Embarked_Q\", \"Embarked_S\", \"Sex_female\", \"Sex_male\", \"AgeBand_(-0.08, 16.0]\", \"AgeBand_(16.0, 32.0]\", \"AgeBand_(32.0, 48.0]\", \"AgeBand_(48.0, 64.0]\", \"AgeBand_(64.0, 80.0]\", \"FareBand_(-0.512, 102.4]\", \"FareBand_(102.4, 204.8]\", \"FareBand_(204.8, 307.2]\", \"FareBand_(307.2, 409.6]\", \"FareBand_(409.6, 512.0]\", \"Title_Master\", \"Title_Miss\", \"Title_Mr\", \"Title_Mrs\", \"Title_Rare\"], \"y\": [0.16253105381997604, 0.025395292864422485, 0.02414223266733737, 0.0147888600696071, 0.020661239359614666, 0.18039911732100775, 0.18298654135837322, 0.01598576124109907, 0.008252877865636173, 0.007993621850745605, 0.007545288045972899, 0.0013005157967502597, 0.01345082710829686, 0.007817657797646291, 0.0038811066445753476, 0.0, 0.004824622719167589, 0.022842780703057418, 0.05209919174228393, 0.18257122631696593, 0.053447064200713046, 0.007083120506750899], \"mode\": \"markers\", \"marker\": {\"sizemode\": \"diameter\", \"sizeref\": 1, \"size\": 25, \"color\": [0.16253105381997604, 0.025395292864422485, 0.02414223266733737, 0.0147888600696071, 0.020661239359614666, 0.18039911732100775, 0.18298654135837322, 0.01598576124109907, 0.008252877865636173, 0.007993621850745605, 0.007545288045972899, 0.0013005157967502597, 0.01345082710829686, 0.007817657797646291, 0.0038811066445753476, 0.0, 0.004824622719167589, 0.022842780703057418, 0.05209919174228393, 0.18257122631696593, 0.053447064200713046, 0.007083120506750899], \"colorscale\": \"Portland\", \"showscale\": true}, \"text\": [\"Pclass\", \"IsAlone\", \"Embarked_C\", \"Embarked_Q\", \"Embarked_S\", \"Sex_female\", \"Sex_male\", \"AgeBand_(-0.08, 16.0]\", \"AgeBand_(16.0, 32.0]\", \"AgeBand_(32.0, 48.0]\", \"AgeBand_(48.0, 64.0]\", \"AgeBand_(64.0, 80.0]\", \"FareBand_(-0.512, 102.4]\", \"FareBand_(102.4, 204.8]\", \"FareBand_(204.8, 307.2]\", \"FareBand_(307.2, 409.6]\", \"FareBand_(409.6, 512.0]\", \"Title_Master\", \"Title_Miss\", \"Title_Mr\", \"Title_Mrs\", \"Title_Rare\"]}], {\"autosize\": true, \"title\": \"Extra Trees feature importances\"}, {\"showLink\": true, \"linkText\": \"Export to plot.ly\"})});</script>"
      ],
      "text/vnd.plotly.v1+html": [
       "<div id=\"8ba8044a-572a-4e57-83ad-11f875531839\" style=\"height: 525px; width: 100%;\" class=\"plotly-graph-div\"></div><script type=\"text/javascript\">require([\"plotly\"], function(Plotly) { window.PLOTLYENV=window.PLOTLYENV || {};window.PLOTLYENV.BASE_URL=\"https://plot.ly\";Plotly.newPlot(\"8ba8044a-572a-4e57-83ad-11f875531839\", [{\"type\": \"scatter\", \"x\": [\"Pclass\", \"IsAlone\", \"Embarked_C\", \"Embarked_Q\", \"Embarked_S\", \"Sex_female\", \"Sex_male\", \"AgeBand_(-0.08, 16.0]\", \"AgeBand_(16.0, 32.0]\", \"AgeBand_(32.0, 48.0]\", \"AgeBand_(48.0, 64.0]\", \"AgeBand_(64.0, 80.0]\", \"FareBand_(-0.512, 102.4]\", \"FareBand_(102.4, 204.8]\", \"FareBand_(204.8, 307.2]\", \"FareBand_(307.2, 409.6]\", \"FareBand_(409.6, 512.0]\", \"Title_Master\", \"Title_Miss\", \"Title_Mr\", \"Title_Mrs\", \"Title_Rare\"], \"y\": [0.16253105381997604, 0.025395292864422485, 0.02414223266733737, 0.0147888600696071, 0.020661239359614666, 0.18039911732100775, 0.18298654135837322, 0.01598576124109907, 0.008252877865636173, 0.007993621850745605, 0.007545288045972899, 0.0013005157967502597, 0.01345082710829686, 0.007817657797646291, 0.0038811066445753476, 0.0, 0.004824622719167589, 0.022842780703057418, 0.05209919174228393, 0.18257122631696593, 0.053447064200713046, 0.007083120506750899], \"mode\": \"markers\", \"marker\": {\"sizemode\": \"diameter\", \"sizeref\": 1, \"size\": 25, \"color\": [0.16253105381997604, 0.025395292864422485, 0.02414223266733737, 0.0147888600696071, 0.020661239359614666, 0.18039911732100775, 0.18298654135837322, 0.01598576124109907, 0.008252877865636173, 0.007993621850745605, 0.007545288045972899, 0.0013005157967502597, 0.01345082710829686, 0.007817657797646291, 0.0038811066445753476, 0.0, 0.004824622719167589, 0.022842780703057418, 0.05209919174228393, 0.18257122631696593, 0.053447064200713046, 0.007083120506750899], \"colorscale\": \"Portland\", \"showscale\": true}, \"text\": [\"Pclass\", \"IsAlone\", \"Embarked_C\", \"Embarked_Q\", \"Embarked_S\", \"Sex_female\", \"Sex_male\", \"AgeBand_(-0.08, 16.0]\", \"AgeBand_(16.0, 32.0]\", \"AgeBand_(32.0, 48.0]\", \"AgeBand_(48.0, 64.0]\", \"AgeBand_(64.0, 80.0]\", \"FareBand_(-0.512, 102.4]\", \"FareBand_(102.4, 204.8]\", \"FareBand_(204.8, 307.2]\", \"FareBand_(307.2, 409.6]\", \"FareBand_(409.6, 512.0]\", \"Title_Master\", \"Title_Miss\", \"Title_Mr\", \"Title_Mrs\", \"Title_Rare\"]}], {\"autosize\": true, \"title\": \"Extra Trees feature importances\"}, {\"showLink\": true, \"linkText\": \"Export to plot.ly\"})});</script>"
      ]
     },
     "metadata": {},
     "output_type": "display_data"
    },
    {
     "data": {
      "application/vnd.plotly.v1+json": {
       "data": [
        {
         "marker": {
          "color": [
           0.028,
           0.018,
           0.002,
           0.006,
           0.004,
           0.16,
           0.16,
           0.014,
           0.006,
           0.008,
           0.008,
           0.008,
           0.006,
           0,
           0.004,
           0,
           0.002,
           0.024,
           0.276,
           0.04,
           0.22,
           0.006
          ],
          "colorscale": "Portland",
          "showscale": true,
          "size": 25,
          "sizemode": "diameter",
          "sizeref": 1
         },
         "mode": "markers",
         "text": [
          "Pclass",
          "IsAlone",
          "Embarked_C",
          "Embarked_Q",
          "Embarked_S",
          "Sex_female",
          "Sex_male",
          "AgeBand_(-0.08, 16.0]",
          "AgeBand_(16.0, 32.0]",
          "AgeBand_(32.0, 48.0]",
          "AgeBand_(48.0, 64.0]",
          "AgeBand_(64.0, 80.0]",
          "FareBand_(-0.512, 102.4]",
          "FareBand_(102.4, 204.8]",
          "FareBand_(204.8, 307.2]",
          "FareBand_(307.2, 409.6]",
          "FareBand_(409.6, 512.0]",
          "Title_Master",
          "Title_Miss",
          "Title_Mr",
          "Title_Mrs",
          "Title_Rare"
         ],
         "type": "scatter",
         "x": [
          "Pclass",
          "IsAlone",
          "Embarked_C",
          "Embarked_Q",
          "Embarked_S",
          "Sex_female",
          "Sex_male",
          "AgeBand_(-0.08, 16.0]",
          "AgeBand_(16.0, 32.0]",
          "AgeBand_(32.0, 48.0]",
          "AgeBand_(48.0, 64.0]",
          "AgeBand_(64.0, 80.0]",
          "FareBand_(-0.512, 102.4]",
          "FareBand_(102.4, 204.8]",
          "FareBand_(204.8, 307.2]",
          "FareBand_(307.2, 409.6]",
          "FareBand_(409.6, 512.0]",
          "Title_Master",
          "Title_Miss",
          "Title_Mr",
          "Title_Mrs",
          "Title_Rare"
         ],
         "y": [
          0.028,
          0.018,
          0.002,
          0.006,
          0.004,
          0.16,
          0.16,
          0.014,
          0.006,
          0.008,
          0.008,
          0.008,
          0.006,
          0,
          0.004,
          0,
          0.002,
          0.024,
          0.276,
          0.04,
          0.22,
          0.006
         ]
        }
       ],
       "layout": {
        "autosize": true,
        "title": "Adaboost feature importances"
       }
      },
      "text/html": [
       "<div id=\"1791a758-94c7-4973-89b1-9414d630bd09\" style=\"height: 525px; width: 100%;\" class=\"plotly-graph-div\"></div><script type=\"text/javascript\">require([\"plotly\"], function(Plotly) { window.PLOTLYENV=window.PLOTLYENV || {};window.PLOTLYENV.BASE_URL=\"https://plot.ly\";Plotly.newPlot(\"1791a758-94c7-4973-89b1-9414d630bd09\", [{\"type\": \"scatter\", \"x\": [\"Pclass\", \"IsAlone\", \"Embarked_C\", \"Embarked_Q\", \"Embarked_S\", \"Sex_female\", \"Sex_male\", \"AgeBand_(-0.08, 16.0]\", \"AgeBand_(16.0, 32.0]\", \"AgeBand_(32.0, 48.0]\", \"AgeBand_(48.0, 64.0]\", \"AgeBand_(64.0, 80.0]\", \"FareBand_(-0.512, 102.4]\", \"FareBand_(102.4, 204.8]\", \"FareBand_(204.8, 307.2]\", \"FareBand_(307.2, 409.6]\", \"FareBand_(409.6, 512.0]\", \"Title_Master\", \"Title_Miss\", \"Title_Mr\", \"Title_Mrs\", \"Title_Rare\"], \"y\": [0.028, 0.018, 0.002, 0.006, 0.004, 0.16, 0.16, 0.014, 0.006, 0.008, 0.008, 0.008, 0.006, 0.0, 0.004, 0.0, 0.002, 0.024, 0.276, 0.04, 0.22, 0.006], \"mode\": \"markers\", \"marker\": {\"sizemode\": \"diameter\", \"sizeref\": 1, \"size\": 25, \"color\": [0.028, 0.018, 0.002, 0.006, 0.004, 0.16, 0.16, 0.014, 0.006, 0.008, 0.008, 0.008, 0.006, 0.0, 0.004, 0.0, 0.002, 0.024, 0.276, 0.04, 0.22, 0.006], \"colorscale\": \"Portland\", \"showscale\": true}, \"text\": [\"Pclass\", \"IsAlone\", \"Embarked_C\", \"Embarked_Q\", \"Embarked_S\", \"Sex_female\", \"Sex_male\", \"AgeBand_(-0.08, 16.0]\", \"AgeBand_(16.0, 32.0]\", \"AgeBand_(32.0, 48.0]\", \"AgeBand_(48.0, 64.0]\", \"AgeBand_(64.0, 80.0]\", \"FareBand_(-0.512, 102.4]\", \"FareBand_(102.4, 204.8]\", \"FareBand_(204.8, 307.2]\", \"FareBand_(307.2, 409.6]\", \"FareBand_(409.6, 512.0]\", \"Title_Master\", \"Title_Miss\", \"Title_Mr\", \"Title_Mrs\", \"Title_Rare\"]}], {\"autosize\": true, \"title\": \"Adaboost feature importances\"}, {\"showLink\": true, \"linkText\": \"Export to plot.ly\"})});</script>"
      ],
      "text/vnd.plotly.v1+html": [
       "<div id=\"1791a758-94c7-4973-89b1-9414d630bd09\" style=\"height: 525px; width: 100%;\" class=\"plotly-graph-div\"></div><script type=\"text/javascript\">require([\"plotly\"], function(Plotly) { window.PLOTLYENV=window.PLOTLYENV || {};window.PLOTLYENV.BASE_URL=\"https://plot.ly\";Plotly.newPlot(\"1791a758-94c7-4973-89b1-9414d630bd09\", [{\"type\": \"scatter\", \"x\": [\"Pclass\", \"IsAlone\", \"Embarked_C\", \"Embarked_Q\", \"Embarked_S\", \"Sex_female\", \"Sex_male\", \"AgeBand_(-0.08, 16.0]\", \"AgeBand_(16.0, 32.0]\", \"AgeBand_(32.0, 48.0]\", \"AgeBand_(48.0, 64.0]\", \"AgeBand_(64.0, 80.0]\", \"FareBand_(-0.512, 102.4]\", \"FareBand_(102.4, 204.8]\", \"FareBand_(204.8, 307.2]\", \"FareBand_(307.2, 409.6]\", \"FareBand_(409.6, 512.0]\", \"Title_Master\", \"Title_Miss\", \"Title_Mr\", \"Title_Mrs\", \"Title_Rare\"], \"y\": [0.028, 0.018, 0.002, 0.006, 0.004, 0.16, 0.16, 0.014, 0.006, 0.008, 0.008, 0.008, 0.006, 0.0, 0.004, 0.0, 0.002, 0.024, 0.276, 0.04, 0.22, 0.006], \"mode\": \"markers\", \"marker\": {\"sizemode\": \"diameter\", \"sizeref\": 1, \"size\": 25, \"color\": [0.028, 0.018, 0.002, 0.006, 0.004, 0.16, 0.16, 0.014, 0.006, 0.008, 0.008, 0.008, 0.006, 0.0, 0.004, 0.0, 0.002, 0.024, 0.276, 0.04, 0.22, 0.006], \"colorscale\": \"Portland\", \"showscale\": true}, \"text\": [\"Pclass\", \"IsAlone\", \"Embarked_C\", \"Embarked_Q\", \"Embarked_S\", \"Sex_female\", \"Sex_male\", \"AgeBand_(-0.08, 16.0]\", \"AgeBand_(16.0, 32.0]\", \"AgeBand_(32.0, 48.0]\", \"AgeBand_(48.0, 64.0]\", \"AgeBand_(64.0, 80.0]\", \"FareBand_(-0.512, 102.4]\", \"FareBand_(102.4, 204.8]\", \"FareBand_(204.8, 307.2]\", \"FareBand_(307.2, 409.6]\", \"FareBand_(409.6, 512.0]\", \"Title_Master\", \"Title_Miss\", \"Title_Mr\", \"Title_Mrs\", \"Title_Rare\"]}], {\"autosize\": true, \"title\": \"Adaboost feature importances\"}, {\"showLink\": true, \"linkText\": \"Export to plot.ly\"})});</script>"
      ]
     },
     "metadata": {},
     "output_type": "display_data"
    },
    {
     "data": {
      "application/vnd.plotly.v1+json": {
       "data": [
        {
         "marker": {
          "color": [
           0.20179096323077378,
           0.1943217485690911,
           0.1198964406311926,
           0.01065001869139314,
           0.07340893222607459,
           0.015223941420229092,
           0.013737709232170868,
           0.01788126947339467,
           0.04565230563724699,
           0.0645528467423914,
           0.05145761134012247,
           0.009284877397865644,
           0.006030535225118096,
           0.018642537929167455,
           0.0025165464132842538,
           0,
           0.0020368589157747983,
           0.0054828705598780995,
           0.04842873033084317,
           0.055045542602187025,
           0.029827253624293965,
           0.014130459807506827
          ],
          "colorscale": "Portland",
          "showscale": true,
          "size": 25,
          "sizemode": "diameter",
          "sizeref": 1
         },
         "mode": "markers",
         "text": [
          "Pclass",
          "IsAlone",
          "Embarked_C",
          "Embarked_Q",
          "Embarked_S",
          "Sex_female",
          "Sex_male",
          "AgeBand_(-0.08, 16.0]",
          "AgeBand_(16.0, 32.0]",
          "AgeBand_(32.0, 48.0]",
          "AgeBand_(48.0, 64.0]",
          "AgeBand_(64.0, 80.0]",
          "FareBand_(-0.512, 102.4]",
          "FareBand_(102.4, 204.8]",
          "FareBand_(204.8, 307.2]",
          "FareBand_(307.2, 409.6]",
          "FareBand_(409.6, 512.0]",
          "Title_Master",
          "Title_Miss",
          "Title_Mr",
          "Title_Mrs",
          "Title_Rare"
         ],
         "type": "scatter",
         "x": [
          "Pclass",
          "IsAlone",
          "Embarked_C",
          "Embarked_Q",
          "Embarked_S",
          "Sex_female",
          "Sex_male",
          "AgeBand_(-0.08, 16.0]",
          "AgeBand_(16.0, 32.0]",
          "AgeBand_(32.0, 48.0]",
          "AgeBand_(48.0, 64.0]",
          "AgeBand_(64.0, 80.0]",
          "FareBand_(-0.512, 102.4]",
          "FareBand_(102.4, 204.8]",
          "FareBand_(204.8, 307.2]",
          "FareBand_(307.2, 409.6]",
          "FareBand_(409.6, 512.0]",
          "Title_Master",
          "Title_Miss",
          "Title_Mr",
          "Title_Mrs",
          "Title_Rare"
         ],
         "y": [
          0.20179096323077378,
          0.1943217485690911,
          0.1198964406311926,
          0.01065001869139314,
          0.07340893222607459,
          0.015223941420229092,
          0.013737709232170868,
          0.01788126947339467,
          0.04565230563724699,
          0.0645528467423914,
          0.05145761134012247,
          0.009284877397865644,
          0.006030535225118096,
          0.018642537929167455,
          0.0025165464132842538,
          0,
          0.0020368589157747983,
          0.0054828705598780995,
          0.04842873033084317,
          0.055045542602187025,
          0.029827253624293965,
          0.014130459807506827
         ]
        }
       ],
       "layout": {
        "autosize": true,
        "title": "Gradient Boost feature importances"
       }
      },
      "text/html": [
       "<div id=\"dd3aa2bc-c484-41f8-8a52-99b423dc9b1f\" style=\"height: 525px; width: 100%;\" class=\"plotly-graph-div\"></div><script type=\"text/javascript\">require([\"plotly\"], function(Plotly) { window.PLOTLYENV=window.PLOTLYENV || {};window.PLOTLYENV.BASE_URL=\"https://plot.ly\";Plotly.newPlot(\"dd3aa2bc-c484-41f8-8a52-99b423dc9b1f\", [{\"type\": \"scatter\", \"x\": [\"Pclass\", \"IsAlone\", \"Embarked_C\", \"Embarked_Q\", \"Embarked_S\", \"Sex_female\", \"Sex_male\", \"AgeBand_(-0.08, 16.0]\", \"AgeBand_(16.0, 32.0]\", \"AgeBand_(32.0, 48.0]\", \"AgeBand_(48.0, 64.0]\", \"AgeBand_(64.0, 80.0]\", \"FareBand_(-0.512, 102.4]\", \"FareBand_(102.4, 204.8]\", \"FareBand_(204.8, 307.2]\", \"FareBand_(307.2, 409.6]\", \"FareBand_(409.6, 512.0]\", \"Title_Master\", \"Title_Miss\", \"Title_Mr\", \"Title_Mrs\", \"Title_Rare\"], \"y\": [0.20179096323077378, 0.1943217485690911, 0.1198964406311926, 0.01065001869139314, 0.07340893222607459, 0.015223941420229092, 0.013737709232170868, 0.01788126947339467, 0.04565230563724699, 0.0645528467423914, 0.05145761134012247, 0.009284877397865644, 0.006030535225118096, 0.018642537929167455, 0.0025165464132842538, 0.0, 0.0020368589157747983, 0.0054828705598780995, 0.04842873033084317, 0.055045542602187025, 0.029827253624293965, 0.014130459807506827], \"mode\": \"markers\", \"marker\": {\"sizemode\": \"diameter\", \"sizeref\": 1, \"size\": 25, \"color\": [0.20179096323077378, 0.1943217485690911, 0.1198964406311926, 0.01065001869139314, 0.07340893222607459, 0.015223941420229092, 0.013737709232170868, 0.01788126947339467, 0.04565230563724699, 0.0645528467423914, 0.05145761134012247, 0.009284877397865644, 0.006030535225118096, 0.018642537929167455, 0.0025165464132842538, 0.0, 0.0020368589157747983, 0.0054828705598780995, 0.04842873033084317, 0.055045542602187025, 0.029827253624293965, 0.014130459807506827], \"colorscale\": \"Portland\", \"showscale\": true}, \"text\": [\"Pclass\", \"IsAlone\", \"Embarked_C\", \"Embarked_Q\", \"Embarked_S\", \"Sex_female\", \"Sex_male\", \"AgeBand_(-0.08, 16.0]\", \"AgeBand_(16.0, 32.0]\", \"AgeBand_(32.0, 48.0]\", \"AgeBand_(48.0, 64.0]\", \"AgeBand_(64.0, 80.0]\", \"FareBand_(-0.512, 102.4]\", \"FareBand_(102.4, 204.8]\", \"FareBand_(204.8, 307.2]\", \"FareBand_(307.2, 409.6]\", \"FareBand_(409.6, 512.0]\", \"Title_Master\", \"Title_Miss\", \"Title_Mr\", \"Title_Mrs\", \"Title_Rare\"]}], {\"autosize\": true, \"title\": \"Gradient Boost feature importances\"}, {\"showLink\": true, \"linkText\": \"Export to plot.ly\"})});</script>"
      ],
      "text/vnd.plotly.v1+html": [
       "<div id=\"dd3aa2bc-c484-41f8-8a52-99b423dc9b1f\" style=\"height: 525px; width: 100%;\" class=\"plotly-graph-div\"></div><script type=\"text/javascript\">require([\"plotly\"], function(Plotly) { window.PLOTLYENV=window.PLOTLYENV || {};window.PLOTLYENV.BASE_URL=\"https://plot.ly\";Plotly.newPlot(\"dd3aa2bc-c484-41f8-8a52-99b423dc9b1f\", [{\"type\": \"scatter\", \"x\": [\"Pclass\", \"IsAlone\", \"Embarked_C\", \"Embarked_Q\", \"Embarked_S\", \"Sex_female\", \"Sex_male\", \"AgeBand_(-0.08, 16.0]\", \"AgeBand_(16.0, 32.0]\", \"AgeBand_(32.0, 48.0]\", \"AgeBand_(48.0, 64.0]\", \"AgeBand_(64.0, 80.0]\", \"FareBand_(-0.512, 102.4]\", \"FareBand_(102.4, 204.8]\", \"FareBand_(204.8, 307.2]\", \"FareBand_(307.2, 409.6]\", \"FareBand_(409.6, 512.0]\", \"Title_Master\", \"Title_Miss\", \"Title_Mr\", \"Title_Mrs\", \"Title_Rare\"], \"y\": [0.20179096323077378, 0.1943217485690911, 0.1198964406311926, 0.01065001869139314, 0.07340893222607459, 0.015223941420229092, 0.013737709232170868, 0.01788126947339467, 0.04565230563724699, 0.0645528467423914, 0.05145761134012247, 0.009284877397865644, 0.006030535225118096, 0.018642537929167455, 0.0025165464132842538, 0.0, 0.0020368589157747983, 0.0054828705598780995, 0.04842873033084317, 0.055045542602187025, 0.029827253624293965, 0.014130459807506827], \"mode\": \"markers\", \"marker\": {\"sizemode\": \"diameter\", \"sizeref\": 1, \"size\": 25, \"color\": [0.20179096323077378, 0.1943217485690911, 0.1198964406311926, 0.01065001869139314, 0.07340893222607459, 0.015223941420229092, 0.013737709232170868, 0.01788126947339467, 0.04565230563724699, 0.0645528467423914, 0.05145761134012247, 0.009284877397865644, 0.006030535225118096, 0.018642537929167455, 0.0025165464132842538, 0.0, 0.0020368589157747983, 0.0054828705598780995, 0.04842873033084317, 0.055045542602187025, 0.029827253624293965, 0.014130459807506827], \"colorscale\": \"Portland\", \"showscale\": true}, \"text\": [\"Pclass\", \"IsAlone\", \"Embarked_C\", \"Embarked_Q\", \"Embarked_S\", \"Sex_female\", \"Sex_male\", \"AgeBand_(-0.08, 16.0]\", \"AgeBand_(16.0, 32.0]\", \"AgeBand_(32.0, 48.0]\", \"AgeBand_(48.0, 64.0]\", \"AgeBand_(64.0, 80.0]\", \"FareBand_(-0.512, 102.4]\", \"FareBand_(102.4, 204.8]\", \"FareBand_(204.8, 307.2]\", \"FareBand_(307.2, 409.6]\", \"FareBand_(409.6, 512.0]\", \"Title_Master\", \"Title_Miss\", \"Title_Mr\", \"Title_Mrs\", \"Title_Rare\"]}], {\"autosize\": true, \"title\": \"Gradient Boost feature importances\"}, {\"showLink\": true, \"linkText\": \"Export to plot.ly\"})});</script>"
      ]
     },
     "metadata": {},
     "output_type": "display_data"
    }
   ],
   "source": [
    "#scatter plot\n",
    "for i in list(range(1,5)):\n",
    "    trace = go.Scatter(\n",
    "        x = feature_dataframe['features'].values,\n",
    "        y = feature_dataframe[feature_dataframe.columns[i]].values,\n",
    "        mode = 'markers',\n",
    "        marker = dict(\n",
    "            sizemode = 'diameter',\n",
    "            sizeref = 1,\n",
    "            size = 25,\n",
    "            #size = feature_dataframe['AdaBoost feature importances'].values,\n",
    "            #color = np.random.randn(500) #set color equal to a variable\n",
    "            color = feature_dataframe[feature_dataframe.columns[i]].values,\n",
    "            colorscale='Portland',\n",
    "            showscale = True\n",
    "        ),\n",
    "        text = feature_dataframe['features'].values\n",
    "    )\n",
    "    data = [trace]\n",
    "    \n",
    "    layout = go.Layout(\n",
    "        autosize=True,\n",
    "        title=feature_dataframe.columns[i]\n",
    "        #hovermode='closest',\n",
    "        #xaxis = dict(\n",
    "        #    title = 'Pop',\n",
    "        #    ticklen = 5,\n",
    "        #    zeroline = False,\n",
    "        #    gridwidth = 2,\n",
    "        #),\n",
    "        #yaxis = dict(\n",
    "        #    title = 'Feature Importance',\n",
    "        #   ticklen = 5,\n",
    "        #    gridwidth = 2,\n",
    "        #),\n",
    "        #showlegend = False\n",
    "    )\n",
    "    fig = go.Figure(data=data, layout=layout)\n",
    "    py.iplot(fig, filename='scatter2010')"
   ]
  },
  {
   "cell_type": "code",
   "execution_count": 61,
   "metadata": {},
   "outputs": [
    {
     "data": {
      "text/html": [
       "<div>\n",
       "<style>\n",
       "    .dataframe thead tr:only-child th {\n",
       "        text-align: right;\n",
       "    }\n",
       "\n",
       "    .dataframe thead th {\n",
       "        text-align: left;\n",
       "    }\n",
       "\n",
       "    .dataframe tbody tr th {\n",
       "        vertical-align: top;\n",
       "    }\n",
       "</style>\n",
       "<table border=\"1\" class=\"dataframe\">\n",
       "  <thead>\n",
       "    <tr style=\"text-align: right;\">\n",
       "      <th></th>\n",
       "      <th>features</th>\n",
       "      <th>Random Forest feature importances</th>\n",
       "      <th>Extra Trees feature importances</th>\n",
       "      <th>Adaboost feature importances</th>\n",
       "      <th>Gradient Boost feature importances</th>\n",
       "      <th>mean</th>\n",
       "    </tr>\n",
       "  </thead>\n",
       "  <tbody>\n",
       "    <tr>\n",
       "      <th>0</th>\n",
       "      <td>Pclass</td>\n",
       "      <td>0.176657</td>\n",
       "      <td>0.162531</td>\n",
       "      <td>0.028</td>\n",
       "      <td>0.201791</td>\n",
       "      <td>0.142245</td>\n",
       "    </tr>\n",
       "    <tr>\n",
       "      <th>1</th>\n",
       "      <td>IsAlone</td>\n",
       "      <td>0.028248</td>\n",
       "      <td>0.025395</td>\n",
       "      <td>0.018</td>\n",
       "      <td>0.194322</td>\n",
       "      <td>0.066491</td>\n",
       "    </tr>\n",
       "    <tr>\n",
       "      <th>2</th>\n",
       "      <td>Embarked_C</td>\n",
       "      <td>0.027389</td>\n",
       "      <td>0.024142</td>\n",
       "      <td>0.002</td>\n",
       "      <td>0.119896</td>\n",
       "      <td>0.043357</td>\n",
       "    </tr>\n",
       "  </tbody>\n",
       "</table>\n",
       "</div>"
      ],
      "text/plain": [
       "     features  Random Forest feature importances  \\\n",
       "0      Pclass                           0.176657   \n",
       "1     IsAlone                           0.028248   \n",
       "2  Embarked_C                           0.027389   \n",
       "\n",
       "   Extra Trees feature importances  Adaboost feature importances  \\\n",
       "0                         0.162531                         0.028   \n",
       "1                         0.025395                         0.018   \n",
       "2                         0.024142                         0.002   \n",
       "\n",
       "   Gradient Boost feature importances      mean  \n",
       "0                            0.201791  0.142245  \n",
       "1                            0.194322  0.066491  \n",
       "2                            0.119896  0.043357  "
      ]
     },
     "execution_count": 61,
     "metadata": {},
     "output_type": "execute_result"
    }
   ],
   "source": [
    "#create new column containing the average of values\n",
    "feature_dataframe['mean'] = feature_dataframe.mean(axis=1) #axis = 1 computes the mean row wise\n",
    "feature_dataframe.head(3)"
   ]
  },
  {
   "cell_type": "markdown",
   "metadata": {},
   "source": [
    "**Plotly Barplot of Average  Feature Importance**"
   ]
  },
  {
   "cell_type": "code",
   "execution_count": 76,
   "metadata": {},
   "outputs": [
    {
     "data": {
      "application/vnd.plotly.v1+json": {
       "data": [
        {
         "marker": {
          "color": [
           0.14224469894511316,
           0.06649123828578263,
           0.04335694843026616,
           0.010119972803627053,
           0.02980511352087771,
           0.12732617701229645,
           0.13330707394100844,
           0.016251866754981966,
           0.017755284163958017,
           0.022598151903014604,
           0.018441930703209652,
           0.0048454254677173635,
           0.010002651735171772,
           0.008772819558272353,
           0.003288663850771412,
           0,
           0.002993459252443598,
           0.01907572935979032,
           0.10497635502973508,
           0.12067976078606624,
           0.08848463372164796,
           0.009182044774248162
          ],
          "colorscale": "Portland",
          "reversescale": false,
          "showscale": true
         },
         "opacity": 0.6,
         "type": "bar",
         "width": 0.5,
         "x": [
          "Pclass",
          "Sex_male",
          "Sex_female",
          "Title_Mr",
          "Title_Miss",
          "Title_Mrs",
          "IsAlone",
          "Embarked_C",
          "Embarked_S",
          "AgeBand_(32.0, 48.0]",
          "Title_Master",
          "AgeBand_(48.0, 64.0]",
          "AgeBand_(16.0, 32.0]",
          "AgeBand_(-0.08, 16.0]",
          "Embarked_Q",
          "FareBand_(-0.512, 102.4]",
          "Title_Rare",
          "FareBand_(102.4, 204.8]",
          "AgeBand_(64.0, 80.0]",
          "FareBand_(204.8, 307.2]",
          "FareBand_(409.6, 512.0]",
          "FareBand_(307.2, 409.6]"
         ],
         "y": [
          0.14224469894511316,
          0.13330707394100844,
          0.12732617701229645,
          0.12067976078606624,
          0.10497635502973508,
          0.08848463372164796,
          0.06649123828578263,
          0.04335694843026616,
          0.02980511352087771,
          0.022598151903014604,
          0.01907572935979032,
          0.018441930703209652,
          0.017755284163958017,
          0.016251866754981966,
          0.010119972803627053,
          0.010002651735171772,
          0.009182044774248162,
          0.008772819558272353,
          0.0048454254677173635,
          0.003288663850771412,
          0.002993459252443598,
          0
         ]
        }
       ],
       "layout": {
        "autosize": true,
        "title": "Barplot of Mean Feature Importance"
       }
      },
      "text/html": [
       "<div id=\"48f2863c-8034-4dd3-b896-29a021bbe298\" style=\"height: 525px; width: 100%;\" class=\"plotly-graph-div\"></div><script type=\"text/javascript\">require([\"plotly\"], function(Plotly) { window.PLOTLYENV=window.PLOTLYENV || {};window.PLOTLYENV.BASE_URL=\"https://plot.ly\";Plotly.newPlot(\"48f2863c-8034-4dd3-b896-29a021bbe298\", [{\"type\": \"bar\", \"x\": [\"Pclass\", \"Sex_male\", \"Sex_female\", \"Title_Mr\", \"Title_Miss\", \"Title_Mrs\", \"IsAlone\", \"Embarked_C\", \"Embarked_S\", \"AgeBand_(32.0, 48.0]\", \"Title_Master\", \"AgeBand_(48.0, 64.0]\", \"AgeBand_(16.0, 32.0]\", \"AgeBand_(-0.08, 16.0]\", \"Embarked_Q\", \"FareBand_(-0.512, 102.4]\", \"Title_Rare\", \"FareBand_(102.4, 204.8]\", \"AgeBand_(64.0, 80.0]\", \"FareBand_(204.8, 307.2]\", \"FareBand_(409.6, 512.0]\", \"FareBand_(307.2, 409.6]\"], \"y\": [0.14224469894511316, 0.13330707394100844, 0.12732617701229645, 0.12067976078606624, 0.10497635502973508, 0.08848463372164796, 0.06649123828578263, 0.04335694843026616, 0.02980511352087771, 0.022598151903014604, 0.01907572935979032, 0.018441930703209652, 0.017755284163958017, 0.016251866754981966, 0.010119972803627053, 0.010002651735171772, 0.009182044774248162, 0.008772819558272353, 0.0048454254677173635, 0.003288663850771412, 0.002993459252443598, 0.0], \"width\": 0.5, \"marker\": {\"color\": [0.14224469894511316, 0.06649123828578263, 0.04335694843026616, 0.010119972803627053, 0.02980511352087771, 0.12732617701229645, 0.13330707394100844, 0.016251866754981966, 0.017755284163958017, 0.022598151903014604, 0.018441930703209652, 0.0048454254677173635, 0.010002651735171772, 0.008772819558272353, 0.003288663850771412, 0.0, 0.002993459252443598, 0.01907572935979032, 0.10497635502973508, 0.12067976078606624, 0.08848463372164796, 0.009182044774248162], \"colorscale\": \"Portland\", \"showscale\": true, \"reversescale\": false}, \"opacity\": 0.6}], {\"autosize\": true, \"title\": \"Barplot of Mean Feature Importance\"}, {\"showLink\": true, \"linkText\": \"Export to plot.ly\"})});</script>"
      ],
      "text/vnd.plotly.v1+html": [
       "<div id=\"48f2863c-8034-4dd3-b896-29a021bbe298\" style=\"height: 525px; width: 100%;\" class=\"plotly-graph-div\"></div><script type=\"text/javascript\">require([\"plotly\"], function(Plotly) { window.PLOTLYENV=window.PLOTLYENV || {};window.PLOTLYENV.BASE_URL=\"https://plot.ly\";Plotly.newPlot(\"48f2863c-8034-4dd3-b896-29a021bbe298\", [{\"type\": \"bar\", \"x\": [\"Pclass\", \"Sex_male\", \"Sex_female\", \"Title_Mr\", \"Title_Miss\", \"Title_Mrs\", \"IsAlone\", \"Embarked_C\", \"Embarked_S\", \"AgeBand_(32.0, 48.0]\", \"Title_Master\", \"AgeBand_(48.0, 64.0]\", \"AgeBand_(16.0, 32.0]\", \"AgeBand_(-0.08, 16.0]\", \"Embarked_Q\", \"FareBand_(-0.512, 102.4]\", \"Title_Rare\", \"FareBand_(102.4, 204.8]\", \"AgeBand_(64.0, 80.0]\", \"FareBand_(204.8, 307.2]\", \"FareBand_(409.6, 512.0]\", \"FareBand_(307.2, 409.6]\"], \"y\": [0.14224469894511316, 0.13330707394100844, 0.12732617701229645, 0.12067976078606624, 0.10497635502973508, 0.08848463372164796, 0.06649123828578263, 0.04335694843026616, 0.02980511352087771, 0.022598151903014604, 0.01907572935979032, 0.018441930703209652, 0.017755284163958017, 0.016251866754981966, 0.010119972803627053, 0.010002651735171772, 0.009182044774248162, 0.008772819558272353, 0.0048454254677173635, 0.003288663850771412, 0.002993459252443598, 0.0], \"width\": 0.5, \"marker\": {\"color\": [0.14224469894511316, 0.06649123828578263, 0.04335694843026616, 0.010119972803627053, 0.02980511352087771, 0.12732617701229645, 0.13330707394100844, 0.016251866754981966, 0.017755284163958017, 0.022598151903014604, 0.018441930703209652, 0.0048454254677173635, 0.010002651735171772, 0.008772819558272353, 0.003288663850771412, 0.0, 0.002993459252443598, 0.01907572935979032, 0.10497635502973508, 0.12067976078606624, 0.08848463372164796, 0.009182044774248162], \"colorscale\": \"Portland\", \"showscale\": true, \"reversescale\": false}, \"opacity\": 0.6}], {\"autosize\": true, \"title\": \"Barplot of Mean Feature Importance\"}, {\"showLink\": true, \"linkText\": \"Export to plot.ly\"})});</script>"
      ]
     },
     "metadata": {},
     "output_type": "display_data"
    }
   ],
   "source": [
    "y = feature_dataframe.sort_values(by='mean', ascending=False)['mean'].values\n",
    "x = feature_dataframe.sort_values(by='mean', ascending=False)['features'].values\n",
    "data = [go.Bar(\n",
    "    x=x,\n",
    "    y=y,\n",
    "    width=0.5,\n",
    "    marker=dict(\n",
    "        color = feature_dataframe['mean'].values,\n",
    "        colorscale='Portland',\n",
    "        showscale=True,\n",
    "        reversescale=False\n",
    "    ),\n",
    "    opacity=0.6    \n",
    ")]\n",
    "\n",
    "layout = go.Layout(\n",
    "    autosize=True,\n",
    "    title='Barplot of Mean Feature Importance',\n",
    "        #hovermode='closest',\n",
    "        #xaxis = dict(\n",
    "        #    title = 'Pop',\n",
    "        #    ticklen = 5,\n",
    "        #    zeroline = False,\n",
    "        #    gridwidth = 2,\n",
    "        #),\n",
    "        #yaxis = dict(\n",
    "        #    title = 'Feature Importance',\n",
    "        #   ticklen = 5,\n",
    "        #    gridwidth = 2,\n",
    "        #),\n",
    "        #showlegend = False\n",
    ")\n",
    "fig = go.Figure(data=data, layout=layout)\n",
    "py.iplot(fig, filename='bar-direct-labels')"
   ]
  },
  {
   "cell_type": "markdown",
   "metadata": {},
   "source": [
    "# 4. Second-Level Predictions from the First-Level Output\n",
    "\n",
    "**First-level output as new fieatures**"
   ]
  },
  {
   "cell_type": "code",
   "execution_count": 78,
   "metadata": {},
   "outputs": [
    {
     "data": {
      "text/html": [
       "<div>\n",
       "<style>\n",
       "    .dataframe thead tr:only-child th {\n",
       "        text-align: right;\n",
       "    }\n",
       "\n",
       "    .dataframe thead th {\n",
       "        text-align: left;\n",
       "    }\n",
       "\n",
       "    .dataframe tbody tr th {\n",
       "        vertical-align: top;\n",
       "    }\n",
       "</style>\n",
       "<table border=\"1\" class=\"dataframe\">\n",
       "  <thead>\n",
       "    <tr style=\"text-align: right;\">\n",
       "      <th></th>\n",
       "      <th>AdaBoost</th>\n",
       "      <th>ExtraTrees</th>\n",
       "      <th>GradientBoost</th>\n",
       "      <th>RandomForest</th>\n",
       "    </tr>\n",
       "  </thead>\n",
       "  <tbody>\n",
       "    <tr>\n",
       "      <th>0</th>\n",
       "      <td>0.0</td>\n",
       "      <td>0.0</td>\n",
       "      <td>0.0</td>\n",
       "      <td>0.0</td>\n",
       "    </tr>\n",
       "    <tr>\n",
       "      <th>1</th>\n",
       "      <td>1.0</td>\n",
       "      <td>1.0</td>\n",
       "      <td>1.0</td>\n",
       "      <td>1.0</td>\n",
       "    </tr>\n",
       "    <tr>\n",
       "      <th>2</th>\n",
       "      <td>1.0</td>\n",
       "      <td>0.0</td>\n",
       "      <td>0.0</td>\n",
       "      <td>0.0</td>\n",
       "    </tr>\n",
       "    <tr>\n",
       "      <th>3</th>\n",
       "      <td>1.0</td>\n",
       "      <td>1.0</td>\n",
       "      <td>1.0</td>\n",
       "      <td>1.0</td>\n",
       "    </tr>\n",
       "    <tr>\n",
       "      <th>4</th>\n",
       "      <td>0.0</td>\n",
       "      <td>0.0</td>\n",
       "      <td>0.0</td>\n",
       "      <td>0.0</td>\n",
       "    </tr>\n",
       "  </tbody>\n",
       "</table>\n",
       "</div>"
      ],
      "text/plain": [
       "   AdaBoost  ExtraTrees  GradientBoost  RandomForest\n",
       "0       0.0         0.0            0.0           0.0\n",
       "1       1.0         1.0            1.0           1.0\n",
       "2       1.0         0.0            0.0           0.0\n",
       "3       1.0         1.0            1.0           1.0\n",
       "4       0.0         0.0            0.0           0.0"
      ]
     },
     "execution_count": 78,
     "metadata": {},
     "output_type": "execute_result"
    }
   ],
   "source": [
    "base_predictions_train = pd.DataFrame({\n",
    "    'RandomForest' : rf_oof_train.ravel(),\n",
    "    'ExtraTrees' : et_oof_train.ravel(),\n",
    "    'AdaBoost' : ada_oof_train.ravel(),\n",
    "    'GradientBoost' : gb_oof_train.ravel(),\n",
    "})\n",
    "base_predictions_train.head()"
   ]
  },
  {
   "cell_type": "markdown",
   "metadata": {},
   "source": [
    "**Correlation Heatmap as the Second Level Training Set**"
   ]
  },
  {
   "cell_type": "code",
   "execution_count": 79,
   "metadata": {},
   "outputs": [
    {
     "data": {
      "application/vnd.plotly.v1+json": {
       "data": [
        {
         "colorscale": "Portland",
         "reversescale": true,
         "showscale": true,
         "type": "heatmap",
         "x": [
          "AdaBoost",
          "ExtraTrees",
          "GradientBoost",
          "RandomForest"
         ],
         "y": [
          "AdaBoost",
          "ExtraTrees",
          "GradientBoost",
          "RandomForest"
         ],
         "z": [
          [
           1,
           0.8199933090272268,
           0.7051781037698546,
           0.7404898465529991
          ],
          [
           0.8199933090272268,
           1,
           0.8295519827375373,
           0.884322443078406
          ],
          [
           0.7051781037698546,
           0.8295519827375373,
           1,
           0.7946254248860524
          ],
          [
           0.7404898465529991,
           0.884322443078406,
           0.7946254248860524,
           1
          ]
         ]
        }
       ],
       "layout": {}
      },
      "text/html": [
       "<div id=\"ffc05175-de55-4cd4-9722-c366be0615c7\" style=\"height: 525px; width: 100%;\" class=\"plotly-graph-div\"></div><script type=\"text/javascript\">require([\"plotly\"], function(Plotly) { window.PLOTLYENV=window.PLOTLYENV || {};window.PLOTLYENV.BASE_URL=\"https://plot.ly\";Plotly.newPlot(\"ffc05175-de55-4cd4-9722-c366be0615c7\", [{\"type\": \"heatmap\", \"z\": [[1.0, 0.8199933090272268, 0.7051781037698546, 0.7404898465529991], [0.8199933090272268, 1.0, 0.8295519827375373, 0.884322443078406], [0.7051781037698546, 0.8295519827375373, 1.0, 0.7946254248860524], [0.7404898465529991, 0.884322443078406, 0.7946254248860524, 1.0]], \"x\": [\"AdaBoost\", \"ExtraTrees\", \"GradientBoost\", \"RandomForest\"], \"y\": [\"AdaBoost\", \"ExtraTrees\", \"GradientBoost\", \"RandomForest\"], \"colorscale\": \"Portland\", \"showscale\": true, \"reversescale\": true}], {}, {\"showLink\": true, \"linkText\": \"Export to plot.ly\"})});</script>"
      ],
      "text/vnd.plotly.v1+html": [
       "<div id=\"ffc05175-de55-4cd4-9722-c366be0615c7\" style=\"height: 525px; width: 100%;\" class=\"plotly-graph-div\"></div><script type=\"text/javascript\">require([\"plotly\"], function(Plotly) { window.PLOTLYENV=window.PLOTLYENV || {};window.PLOTLYENV.BASE_URL=\"https://plot.ly\";Plotly.newPlot(\"ffc05175-de55-4cd4-9722-c366be0615c7\", [{\"type\": \"heatmap\", \"z\": [[1.0, 0.8199933090272268, 0.7051781037698546, 0.7404898465529991], [0.8199933090272268, 1.0, 0.8295519827375373, 0.884322443078406], [0.7051781037698546, 0.8295519827375373, 1.0, 0.7946254248860524], [0.7404898465529991, 0.884322443078406, 0.7946254248860524, 1.0]], \"x\": [\"AdaBoost\", \"ExtraTrees\", \"GradientBoost\", \"RandomForest\"], \"y\": [\"AdaBoost\", \"ExtraTrees\", \"GradientBoost\", \"RandomForest\"], \"colorscale\": \"Portland\", \"showscale\": true, \"reversescale\": true}], {}, {\"showLink\": true, \"linkText\": \"Export to plot.ly\"})});</script>"
      ]
     },
     "metadata": {},
     "output_type": "display_data"
    }
   ],
   "source": [
    "data = [go.Heatmap(\n",
    "    z = base_predictions_train.astype(float).corr().values,\n",
    "    x = base_predictions_train.columns.values,\n",
    "    y = base_predictions_train.columns.values,\n",
    "    colorscale='Portland',\n",
    "    showscale=True,\n",
    "    reversescale=True\n",
    ")]\n",
    "py.iplot(data,filename='labelled-heatmap')"
   ]
  },
  {
   "cell_type": "code",
   "execution_count": 80,
   "metadata": {
    "collapsed": true
   },
   "outputs": [],
   "source": [
    "x_train = np.concatenate((et_oof_train, rf_oof_train, ada_oof_train, gb_oof_train, svc_oof_train), axis=1)\n",
    "x_test = np.concatenate((et_oof_test, rf_oof_test, ada_oof_test, gb_oof_test, svc_oof_test), axis=1)"
   ]
  },
  {
   "cell_type": "markdown",
   "metadata": {},
   "source": [
    "**Second level learning model via XGBoost**\n",
    "\n",
    "I'll not go in detail or tune the XGBoost. How to tune XGBoost can be read from my other exercise [loan_prediction_iii](https://github.com/LW130003/loan-prediction-iii)."
   ]
  },
  {
   "cell_type": "code",
   "execution_count": 82,
   "metadata": {},
   "outputs": [],
   "source": [
    "gbm = xgb.XGBClassifier(\n",
    "    #learning_rate = 0.02,\n",
    "    n_estimators = 2000,\n",
    "    max_depth = 4,\n",
    "    min_child_weight = 2,\n",
    "    #gamma =1,\n",
    "    gamma = 0.9,\n",
    "    subsample=0.8,\n",
    "    colsample_bytree=0.8,\n",
    "    objective='binary:logistic',\n",
    "    nthread=-1,\n",
    "    scale_pos_weight=1)\n",
    "model = gbm.fit(x_train,y_train)\n",
    "predictions = model.predict(x_test)"
   ]
  }
 ],
 "metadata": {
  "kernelspec": {
   "display_name": "Python 3",
   "language": "python",
   "name": "python3"
  },
  "language_info": {
   "codemirror_mode": {
    "name": "ipython",
    "version": 3
   },
   "file_extension": ".py",
   "mimetype": "text/x-python",
   "name": "python",
   "nbconvert_exporter": "python",
   "pygments_lexer": "ipython3",
   "version": "3.6.1"
  }
 },
 "nbformat": 4,
 "nbformat_minor": 2
}
