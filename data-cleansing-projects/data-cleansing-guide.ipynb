{
 "cells": [
  {
   "cell_type": "markdown",
   "metadata": {},
   "source": [
    "**Data Cleansing** or **Data Cleaning** is the process of detecting and correcting (or removing) corrupt or inaccurate parts of data. Data cleansing may be performed interactively with data wrangling tools, or as batch processing through scripting.\n",
    "\n",
    "After cleansing, a data set should be consistent with other similar data sets in the system. The inconsistencies may have been caused by user entry errors, by corruption in transmission or storage, or by different data dictionary definitions of similar entities in different stores. \n",
    "\n",
    "Data cleansing differs from data validation in that validation almost invariably means of data is rejected from the system at entry and is performed at the time of entry, rather than on batches of data. The actual process of data cleansing may invovle removing typographical errors or validating and correcting values against a known list of entities. The validation may be strict (such as rejecting an address that does not have a valid postal code) or fuzzy (such as correcting records that partially match existing, known records). Some data cleansing solutions will clean data by cross checking with a validated data set. \n",
    "\n",
    "A common data cleansing practice is **data enhancement**, where data is made more complete by adding related information. For example, appending address with any phone numbers related to that address. Data cleansing may also involve activities like, **harmonization** of data, and **standardiation** of data. For example, harmonization of short codes (st, rd, etc.) to actual words (street, road, etcetera). Standaridazation of data is a means of changing a reference data set to a new standard, ex, use of standard codes.\n",
    "\n",
    "# Motivation\n",
    "Administratively, incorrect or inconsistent data can lead to false conclusions and misdirected investements on both public and private scales. \n",
    "- In government, unrealiable data may cause erroneous fiscal decisions\n",
    "- In business world, incorrect data can be costly.\n",
    "- In forensic accounting and fraud investigating, data cleansing is used in preparing data before further investigation.\n",
    "\n",
    "# Data quality\n",
    "High-quality data needs to pass a set of quality criteria. Those include: **Validity**, **Accuracy**, **Completeness**, **Consistency**, **Uniformity**.\n",
    "- **Validity**: The degree to which the measures conform to defined business rules or constraints. Data constraints fall into the following categories:\n",
    "    - **Data-Type Constraints** – e.g., values in a particular column must be of a particular datatype, e.g., Boolean, numeric (integer or real), date, etc.\n",
    "    - **Range Constraints**: typically, numbers or dates should fall within a certain range. That is, they have minimum and/or maximum permissible values.\n",
    "    - **Mandatory Constraints**: Certain columns cannot be empty.\n",
    "    - **Unique Constraints**: A field, or a combination of fields, must be unique across a dataset. For example, no two persons can have the same social security number.\n",
    "    - **Set-Membership constraints**: The values for a column come from a set of discrete values or codes. For example, a person's gender may be Female, Male or Unknown (not recorded).\n",
    "    - **Foreign-key constraints**: This is the more general case of set membership. The set of values in a column is defined in a column of another table that contains unique values. For example, in a US taxpayer database, the \"state\" column is required to belong to one of the US's defined states or territories: the set of permissible states/territories is recorded in a separate States table. The term foreign key is borrowed from relational database terminology.\n",
    "    - **Regular expression patterns**: Occasionally, text fields will have to be validated this way. For example, phone numbers may be required to have the pattern (999) 999-9999.\n",
    "    - **Cross-field validation**: Certain conditions that utilize multiple fields must hold. For example, in laboratory medicine, the sum of the components of the differential white blood cell count must be equal to 100 (since they are all percentages). In a hospital database, a patient's date of discharge from hospital cannot be earlier than the date of admission.\n",
    "\n",
    "- **Accuracy**: The degree of conformity of a measure to a standard or a true value. Accuracy is very hard to achieve through data-cleansing in the general case, because it requires accessing an external source of data that contains the true value: such \"gold standard\" data is often unavailable. Accuracy has been achieved in some cleansing contexts, notably customer contact data, by using external databases that match up zip codes to geographical locations (city and state), and also help verify that street addresses within these zip codes actually exist.\n",
    "- **Completeness**: The degree to which all required measures are known. Incompleteness is almost impossible to fix with data cleansing methodology: one cannot infer facts that were not captured when the data in question was initially recorded. (In some contexts, e.g., interview data, it may be possible to fix incompleteness by going back to the original source of data, i,e., re-interviewing the subject, but even this does not guarantee success because of problems of recall - e.g., in an interview to gather data on food consumption, no one is likely to remember exactly what one ate six months ago. In the case of systems that insist certain columns should not be empty, one may work around the problem by designating a value that indicates \"unknown\" or \"missing\", but supplying of default values does not imply that the data has been made complete.\n",
    "- **Consistency**: The degree to which a set of measures are equivalent in across systems. Inconsistency occurs when two data items in the data set contradict each other: e.g., a customer is recorded in two different systems as having two different current addresses, and only one of them can be correct. Fixing inconsistency is not always possible: it requires a variety of strategies - e.g., deciding which data were recorded more recently, which data source is likely to be most reliable (the latter knowledge may be specific to a given organization), or simply trying to find the truth by testing both data items (e.g., calling up the customer).\n",
    "- **Uniformity**: The degree to which a set data measures are specified using the same units of measure in all systems ( see also Unit of measure). In datasets pooled from different locales, weight may be recorded either in pounds or kilos, and must be converted to a single measure using an arithmetic transformation.\n",
    "\n",
    "# Data Cleansing Steps\n",
    "1. Data Exploring: \n",
    "    - Check if the data is up to date\n",
    "    - Creating hypotesis and finding related information to the data\n",
    "    - Calculating Summary Statistics, Frequency counts\n",
    "    - Visualization with Historgram, Boxplot, Scatter Plots\n",
    "    - Pivoting, Melting, Concatenating and Merging data \n",
    "2. Data Cleansing:\n",
    "    - Converting data types\n",
    "    - Check duplicates, missing values and id\n",
    "    - Remove outliers: define min and max to spot outliers (use boxplot for helps)\n",
    "    - Define valid outputs: valid data labels for categorical data and valid range for numerical data. Non-matching data is presumed to be wrong.\n",
    "    - Spellchecking, Fixing Dates and Times, Merging and Splitting columns: ex combine or split first and last names.\n",
    "    - Harmonizing and Standardizing data."
   ]
  },
  {
   "cell_type": "code",
   "execution_count": null,
   "metadata": {
    "collapsed": true
   },
   "outputs": [],
   "source": []
  }
 ],
 "metadata": {
  "kernelspec": {
   "display_name": "Python 3",
   "language": "python",
   "name": "python3"
  },
  "language_info": {
   "codemirror_mode": {
    "name": "ipython",
    "version": 3
   },
   "file_extension": ".py",
   "mimetype": "text/x-python",
   "name": "python",
   "nbconvert_exporter": "python",
   "pygments_lexer": "ipython3",
   "version": "3.6.1"
  }
 },
 "nbformat": 4,
 "nbformat_minor": 2
}
