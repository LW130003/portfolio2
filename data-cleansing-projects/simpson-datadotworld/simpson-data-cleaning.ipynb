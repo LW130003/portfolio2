{
 "cells": [
  {
   "cell_type": "markdown",
   "metadata": {},
   "source": [
    "**source**: data.world/data-society/the-simpsons-by-the-data\n",
    "\n",
    "**objective**: try datadotworld libraries (esp load_dataset and query), clean simpson dataset"
   ]
  },
  {
   "cell_type": "code",
   "execution_count": 1,
   "metadata": {
    "collapsed": true
   },
   "outputs": [],
   "source": [
    "# load libraries\n",
    "import datadotworld as dw\n",
    "import pprint as pp\n",
    "import pandas as pd\n",
    "import matplotlib as plt\n",
    "% matplotlib inline\n",
    "import string"
   ]
  },
  {
   "cell_type": "code",
   "execution_count": 2,
   "metadata": {},
   "outputs": [],
   "source": [
    "# load dataset\n",
    "lds = dw.load_dataset('data-society/the-simpsons-by-the-data')"
   ]
  },
  {
   "cell_type": "code",
   "execution_count": 3,
   "metadata": {},
   "outputs": [
    {
     "name": "stdout",
     "output_type": "stream",
     "text": [
      "{'description': 'Contains the characters, locations, episode details, and '\n",
      "                'script lines for approximately 600 Simpsons episodes.\\n'\n",
      "                '\\n'\n",
      "                'Originally, this dataset was scraped by Tod Schenider for his '\n",
      "                'post [The Simpsons by the '\n",
      "                'Data](http://toddwschneider.com/posts/the-simpsons-by-the-data/), '\n",
      "                'for which he made the scraper [available on '\n",
      "                'GitHub](https://github.com/toddwschneider/flim-springfield). '\n",
      "                '[Kaggle user William Cukierski used the scraper to upload the '\n",
      "                'data '\n",
      "                'set](https://www.kaggle.com/wcukierski/the-simpsons-by-the-data), '\n",
      "                'which has been rehosted here.\\n'\n",
      "                '\\n'\n",
      "                'An additional column, `chalkboard_gag`, has been added to the '\n",
      "                '`simpsons_episodes.csv` file, scraped from [Simpsons '\n",
      "                'Wiki](http://simpsons.wikia.com/wiki/List_of_chalkboard_gags).',\n",
      " 'homepage': 'https://data.world/data-society/the-simpsons-by-the-data',\n",
      " 'keywords': ['data society',\n",
      "              'simpsons',\n",
      "              'text mining',\n",
      "              'characters',\n",
      "              'script lines',\n",
      "              'regression',\n",
      "              'classification'],\n",
      " 'name': 'data-society_the-simpsons-by-the-data',\n",
      " 'resources': [{'format': 'csv',\n",
      "                'name': 'simpsons_characters',\n",
      "                'path': 'data/simpsons_characters.csv'},\n",
      "               {'format': 'csv',\n",
      "                'name': 'simpsons_episodes',\n",
      "                'path': 'data/simpsons_episodes.csv'},\n",
      "               {'format': 'csv',\n",
      "                'name': 'simpsons_locations',\n",
      "                'path': 'data/simpsons_locations.csv'},\n",
      "               {'format': 'csv',\n",
      "                'name': 'simpsons_script_lines',\n",
      "                'path': 'data/simpsons_script_lines.csv'},\n",
      "               {'bytes': 214869,\n",
      "                'format': 'csv',\n",
      "                'mediatype': 'text/csv',\n",
      "                'name': 'original/simpsons_characters.csv',\n",
      "                'path': 'original/simpsons_characters.csv'},\n",
      "               {'bytes': 125398,\n",
      "                'format': 'csv',\n",
      "                'mediatype': 'text/csv',\n",
      "                'name': 'original/simpsons_episodes.csv',\n",
      "                'path': 'original/simpsons_episodes.csv'},\n",
      "               {'bytes': 178199,\n",
      "                'format': 'csv',\n",
      "                'mediatype': 'text/csv',\n",
      "                'name': 'original/simpsons_locations.csv',\n",
      "                'path': 'original/simpsons_locations.csv'},\n",
      "               {'bytes': 35185146,\n",
      "                'format': 'csv',\n",
      "                'mediatype': 'text/csv',\n",
      "                'name': 'original/simpsons_script_lines.csv',\n",
      "                'path': 'original/simpsons_script_lines.csv'}],\n",
      " 'title': 'The Simpsons by the Data'}\n"
     ]
    }
   ],
   "source": [
    "# print with pprint as it makes our output easier to read\n",
    "pp.pprint(lds.describe())"
   ]
  },
  {
   "cell_type": "markdown",
   "metadata": {},
   "source": [
    "Our JSON object has three key/value pairs at the top level: homepage, name, and resources. resources is a list that contains information about each file in our data.world data set: its name, format, and path. In the example above we can see that all four resources in this data set are CSV files.\n",
    "\n",
    "Along with the LocalDataset.describe() function, there are three key attributes of our LocalDataset object which we can use to access the data itself: LocalDataset.dataframes, LocalDataset.tables, and LocalDataset.raw_data.\n",
    "\n",
    "Each of these attributes work the same way, but return the data in a different format."
   ]
  },
  {
   "cell_type": "code",
   "execution_count": 4,
   "metadata": {},
   "outputs": [
    {
     "name": "stdout",
     "output_type": "stream",
     "text": [
      "{'simpsons_characters': LazyLoadedValue(<pandas.DataFrame>), 'simpsons_episodes': LazyLoadedValue(<pandas.DataFrame>), 'simpsons_locations': LazyLoadedValue(<pandas.DataFrame>), 'simpsons_script_lines': LazyLoadedValue(<pandas.DataFrame>)} \n",
      "\n",
      "{'simpsons_characters': LazyLoadedValue(<list of rows>), 'simpsons_episodes': LazyLoadedValue(<list of rows>), 'simpsons_locations': LazyLoadedValue(<list of rows>), 'simpsons_script_lines': LazyLoadedValue(<list of rows>)} \n",
      "\n",
      "{'simpsons_characters': LazyLoadedValue(<bytes>), 'simpsons_episodes': LazyLoadedValue(<bytes>), 'simpsons_locations': LazyLoadedValue(<bytes>), 'simpsons_script_lines': LazyLoadedValue(<bytes>), 'original/simpsons_characters.csv': LazyLoadedValue(<bytes>), 'original/simpsons_episodes.csv': LazyLoadedValue(<bytes>), 'original/simpsons_locations.csv': LazyLoadedValue(<bytes>), 'original/simpsons_script_lines.csv': LazyLoadedValue(<bytes>)} \n",
      "\n"
     ]
    }
   ],
   "source": [
    "for i in [lds.dataframes, lds.tables, lds.raw_data]:\n",
    "    print(i,'\\n') # pprint does not workon lazy-loaded dicts"
   ]
  },
  {
   "cell_type": "markdown",
   "metadata": {},
   "source": [
    "LocalDataset.dataframes returns a dictionary of pandas DataFrame objects, where as LocalDataset.tables and LocalDataset.raw_data returns the data in dictionaries of Python lists and bytes format respectively. Lists can be useful if we don't want to use pandas, and bytes is great if we have binary data like images or database files."
   ]
  },
  {
   "cell_type": "code",
   "execution_count": 5,
   "metadata": {},
   "outputs": [
    {
     "name": "stdout",
     "output_type": "stream",
     "text": [
      "<class 'pandas.core.frame.DataFrame'>\n",
      "RangeIndex: 600 entries, 0 to 599\n",
      "Data columns (total 14 columns):\n",
      "id                        600 non-null int64\n",
      "image_url                 596 non-null object\n",
      "imdb_rating               597 non-null float64\n",
      "imdb_votes                597 non-null float64\n",
      "number_in_season          600 non-null int64\n",
      "number_in_series          600 non-null int64\n",
      "original_air_date         600 non-null datetime64[ns]\n",
      "original_air_year         600 non-null int64\n",
      "production_code           600 non-null object\n",
      "season                    600 non-null int64\n",
      "title                     600 non-null object\n",
      "us_viewers_in_millions    594 non-null float64\n",
      "video_url                 596 non-null object\n",
      "views                     596 non-null float64\n",
      "dtypes: datetime64[ns](1), float64(4), int64(5), object(4)\n",
      "memory usage: 65.7+ KB\n",
      "None\n"
     ]
    },
    {
     "data": {
      "text/html": [
       "<div>\n",
       "<style scoped>\n",
       "    .dataframe tbody tr th:only-of-type {\n",
       "        vertical-align: middle;\n",
       "    }\n",
       "\n",
       "    .dataframe tbody tr th {\n",
       "        vertical-align: top;\n",
       "    }\n",
       "\n",
       "    .dataframe thead th {\n",
       "        text-align: right;\n",
       "    }\n",
       "</style>\n",
       "<table border=\"1\" class=\"dataframe\">\n",
       "  <thead>\n",
       "    <tr style=\"text-align: right;\">\n",
       "      <th></th>\n",
       "      <th>id</th>\n",
       "      <th>image_url</th>\n",
       "      <th>imdb_rating</th>\n",
       "      <th>imdb_votes</th>\n",
       "      <th>number_in_season</th>\n",
       "      <th>number_in_series</th>\n",
       "      <th>original_air_date</th>\n",
       "      <th>original_air_year</th>\n",
       "      <th>production_code</th>\n",
       "      <th>season</th>\n",
       "      <th>title</th>\n",
       "      <th>us_viewers_in_millions</th>\n",
       "      <th>video_url</th>\n",
       "      <th>views</th>\n",
       "    </tr>\n",
       "  </thead>\n",
       "  <tbody>\n",
       "    <tr>\n",
       "      <th>0</th>\n",
       "      <td>10</td>\n",
       "      <td>http://static-media.fxx.com/img/FX_Networks_-_...</td>\n",
       "      <td>7.4</td>\n",
       "      <td>1511.0</td>\n",
       "      <td>10</td>\n",
       "      <td>10</td>\n",
       "      <td>1990-03-25</td>\n",
       "      <td>1990</td>\n",
       "      <td>7G10</td>\n",
       "      <td>1</td>\n",
       "      <td>Homer's Night Out</td>\n",
       "      <td>30.3</td>\n",
       "      <td>http://www.simpsonsworld.com/video/275197507879</td>\n",
       "      <td>50816.0</td>\n",
       "    </tr>\n",
       "    <tr>\n",
       "      <th>1</th>\n",
       "      <td>12</td>\n",
       "      <td>http://static-media.fxx.com/img/FX_Networks_-_...</td>\n",
       "      <td>8.3</td>\n",
       "      <td>1716.0</td>\n",
       "      <td>12</td>\n",
       "      <td>12</td>\n",
       "      <td>1990-04-29</td>\n",
       "      <td>1990</td>\n",
       "      <td>7G12</td>\n",
       "      <td>1</td>\n",
       "      <td>Krusty Gets Busted</td>\n",
       "      <td>30.4</td>\n",
       "      <td>http://www.simpsonsworld.com/video/288019523914</td>\n",
       "      <td>62561.0</td>\n",
       "    </tr>\n",
       "    <tr>\n",
       "      <th>2</th>\n",
       "      <td>14</td>\n",
       "      <td>http://static-media.fxx.com/img/FX_Networks_-_...</td>\n",
       "      <td>8.2</td>\n",
       "      <td>1638.0</td>\n",
       "      <td>1</td>\n",
       "      <td>14</td>\n",
       "      <td>1990-10-11</td>\n",
       "      <td>1990</td>\n",
       "      <td>7F03</td>\n",
       "      <td>2</td>\n",
       "      <td>Bart Gets an \"F\"</td>\n",
       "      <td>33.6</td>\n",
       "      <td>http://www.simpsonsworld.com/video/260539459671</td>\n",
       "      <td>59575.0</td>\n",
       "    </tr>\n",
       "    <tr>\n",
       "      <th>3</th>\n",
       "      <td>17</td>\n",
       "      <td>http://static-media.fxx.com/img/FX_Networks_-_...</td>\n",
       "      <td>8.1</td>\n",
       "      <td>1457.0</td>\n",
       "      <td>4</td>\n",
       "      <td>17</td>\n",
       "      <td>1990-11-01</td>\n",
       "      <td>1990</td>\n",
       "      <td>7F01</td>\n",
       "      <td>2</td>\n",
       "      <td>Two Cars in Every Garage and Three Eyes on Eve...</td>\n",
       "      <td>26.1</td>\n",
       "      <td>http://www.simpsonsworld.com/video/260537411822</td>\n",
       "      <td>64959.0</td>\n",
       "    </tr>\n",
       "    <tr>\n",
       "      <th>4</th>\n",
       "      <td>19</td>\n",
       "      <td>http://static-media.fxx.com/img/FX_Networks_-_...</td>\n",
       "      <td>8.0</td>\n",
       "      <td>1366.0</td>\n",
       "      <td>6</td>\n",
       "      <td>19</td>\n",
       "      <td>1990-11-15</td>\n",
       "      <td>1990</td>\n",
       "      <td>7F08</td>\n",
       "      <td>2</td>\n",
       "      <td>Dead Putting Society</td>\n",
       "      <td>25.4</td>\n",
       "      <td>http://www.simpsonsworld.com/video/260539459670</td>\n",
       "      <td>50691.0</td>\n",
       "    </tr>\n",
       "  </tbody>\n",
       "</table>\n",
       "</div>"
      ],
      "text/plain": [
       "   id                                          image_url  imdb_rating  \\\n",
       "0  10  http://static-media.fxx.com/img/FX_Networks_-_...          7.4   \n",
       "1  12  http://static-media.fxx.com/img/FX_Networks_-_...          8.3   \n",
       "2  14  http://static-media.fxx.com/img/FX_Networks_-_...          8.2   \n",
       "3  17  http://static-media.fxx.com/img/FX_Networks_-_...          8.1   \n",
       "4  19  http://static-media.fxx.com/img/FX_Networks_-_...          8.0   \n",
       "\n",
       "   imdb_votes  number_in_season  number_in_series original_air_date  \\\n",
       "0      1511.0                10                10        1990-03-25   \n",
       "1      1716.0                12                12        1990-04-29   \n",
       "2      1638.0                 1                14        1990-10-11   \n",
       "3      1457.0                 4                17        1990-11-01   \n",
       "4      1366.0                 6                19        1990-11-15   \n",
       "\n",
       "   original_air_year production_code  season  \\\n",
       "0               1990            7G10       1   \n",
       "1               1990            7G12       1   \n",
       "2               1990            7F03       2   \n",
       "3               1990            7F01       2   \n",
       "4               1990            7F08       2   \n",
       "\n",
       "                                               title  us_viewers_in_millions  \\\n",
       "0                                  Homer's Night Out                    30.3   \n",
       "1                                 Krusty Gets Busted                    30.4   \n",
       "2                                   Bart Gets an \"F\"                    33.6   \n",
       "3  Two Cars in Every Garage and Three Eyes on Eve...                    26.1   \n",
       "4                               Dead Putting Society                    25.4   \n",
       "\n",
       "                                         video_url    views  \n",
       "0  http://www.simpsonsworld.com/video/275197507879  50816.0  \n",
       "1  http://www.simpsonsworld.com/video/288019523914  62561.0  \n",
       "2  http://www.simpsonsworld.com/video/260539459671  59575.0  \n",
       "3  http://www.simpsonsworld.com/video/260537411822  64959.0  \n",
       "4  http://www.simpsonsworld.com/video/260539459670  50691.0  "
      ]
     },
     "execution_count": 5,
     "metadata": {},
     "output_type": "execute_result"
    }
   ],
   "source": [
    "simpsons_eps = lds.dataframes['simpsons_episodes']\n",
    "print(simpsons_eps.info())\n",
    "simpsons_eps.head()"
   ]
  },
  {
   "cell_type": "markdown",
   "metadata": {},
   "source": [
    "We can use the original_air_date column to look at how episodes have trended over time. First, let's extract the year from that column and then use pivot tables to visualize how IMDB ratings have trended over time:"
   ]
  },
  {
   "cell_type": "code",
   "execution_count": 6,
   "metadata": {},
   "outputs": [
    {
     "data": {
      "text/plain": [
       "<matplotlib.axes._subplots.AxesSubplot at 0x227e45d5d68>"
      ]
     },
     "execution_count": 6,
     "metadata": {},
     "output_type": "execute_result"
    },
    {
     "data": {
      "image/png": "[encoded data removed]",
      "text/plain": [
       "<matplotlib.figure.Figure at 0x227e456cc18>"
      ]
     },
     "metadata": {},
     "output_type": "display_data"
    }
   ],
   "source": [
    "simpsons_eps['original_air_date'] = pd.to_datetime(simpsons_eps['original_air_date'])\n",
    "simpsons_eps['original_air_year'] = simpsons_eps['original_air_date'].dt.year\n",
    "\n",
    "simpsons_eps.pivot_table(index='original_air_year',values='imdb_rating').plot()"
   ]
  },
  {
   "cell_type": "markdown",
   "metadata": {},
   "source": [
    "We can see here that according to IMDB raters, the quality of The Simpsons episodes were high in the first 6 years,and have been in a steady decline since then.\n",
    "\n",
    "## datadotworld .query() method\n",
    "\n",
    "Next, we will try data.world .query() function, which allows you to access data.world's query tool.\n",
    "\n",
    "The query() function returns a QueryResults object which has three attributes, similar to the attributes of the LocalDataset object: QueryResults.dataframe, QueryResults.table, and QueryResults.raw_data.\n",
    "\n",
    "The query tool uses dwSQL, data.world's own flavor of SQL which accepts most standard SQL functions and query types. If you pass the optional querytype='sparql' parameter to the function, it will also accept SPARQL queries.\n",
    "\n",
    "The query tool allows you to join data from multiple data sets together, as well as retrieve subsets of larger data so that you can transfer the burden of processing larger data away from your local system.\n",
    "\n",
    "Let's look at an example of this. simpsons_script_lines contains 158,000 lines from Simpsons episodes. Let's use the iPython magic command %timeit to time two different ways of plotting a simple analysis of which characters had the most script lines:\n",
    "\n",
    "Reading the data into pandas from a fresh LocalDataset object before processing the data in pandas.\n",
    "Using QueryResults.query() to get data.world's query tool to process the data and then return us the results."
   ]
  },
  {
   "cell_type": "code",
   "execution_count": 7,
   "metadata": {},
   "outputs": [
    {
     "name": "stderr",
     "output_type": "stream",
     "text": [
      "C:\\Users\\LW130003\\Anaconda3\\lib\\site-packages\\datadotworld\\models\\dataset.py:192: UserWarning: Unable to set data frame dtypes automatically using simpsons_script_lines schema. Data types may need to be adjusted manually. Error: Integer column has NA values in column 7\n",
      "  'Error: {}'.format(resource_name, e))\n",
      "C:\\Users\\LW130003\\Anaconda3\\lib\\site-packages\\datadotworld\\util.py:136: DtypeWarning: Columns (4,5,6) have mixed types. Specify dtype option on import or set low_memory=False.\n",
      "  return self._loader_func()\n"
     ]
    },
    {
     "name": "stdout",
     "output_type": "stream",
     "text": [
      "1 loop, best of 1: 5.15 s per loop\n"
     ]
    },
    {
     "data": {
      "image/png": "[encoded data removed]",
      "text/plain": [
       "<matplotlib.figure.Figure at 0x227ed0a7630>"
      ]
     },
     "metadata": {},
     "output_type": "display_data"
    }
   ],
   "source": [
    "def pandas_lines_by_characters():\n",
    "    simpsons_script = lds.dataframes['simpsons_script_lines']\n",
    "    simpsons_script = simpsons_script[simpsons_script['raw_character_text'] != '']\n",
    "    top_10 = simpsons_script['raw_character_text'].value_counts().head(10)\n",
    "    top_10.plot.barh()\n",
    "\n",
    "%timeit -n1 -r1 pandas_lines_by_characters()"
   ]
  },
  {
   "cell_type": "code",
   "execution_count": 9,
   "metadata": {},
   "outputs": [
    {
     "name": "stdout",
     "output_type": "stream",
     "text": [
      "1 loop, best of 1: 3min 18s per loop\n"
     ]
    },
    {
     "data": {
      "image/png": "[encoded data removed]",
      "text/plain": [
       "<matplotlib.figure.Figure at 0x227e77224e0>"
      ]
     },
     "metadata": {},
     "output_type": "display_data"
    }
   ],
   "source": [
    "def query_lines_by_characters():\n",
    "    lds = dw.load_dataset('data-society/the-simpsons-by-the-data',force_update=True)\n",
    "    q ='''\n",
    "    select\n",
    "        raw_character_text,\n",
    "        count(*) as num_lines\n",
    "    from simpsons_script_lines\n",
    "    where raw_character_text != ''\n",
    "    group by raw_character_text\n",
    "    order by num_lines desc;\n",
    "    '''\n",
    "    qr = dw.query('data-society/the-simpsons-by-the-data',q)\n",
    "    top_10 = qr.dataframe.set_index('raw_character_text').head(10)\n",
    "    top_10['num_lines'].plot.barh()\n",
    "\n",
    "%timeit -n1 -r1 query_lines_by_characters()"
   ]
  },
  {
   "cell_type": "markdown",
   "metadata": {},
   "source": [
    "For some reason, my computer is slower when using .query() method\n",
    "\n",
    "Query can also be used to join data across multiple tables in a single data set, or even across multiple data sets. Let's modify our characters query to compare character lines for our top characters across the first 5 seasons:"
   ]
  },
  {
   "cell_type": "code",
   "execution_count": 10,
   "metadata": {},
   "outputs": [
    {
     "data": {
      "text/plain": [
       "<matplotlib.axes._subplots.AxesSubplot at 0x227e9173198>"
      ]
     },
     "execution_count": 10,
     "metadata": {},
     "output_type": "execute_result"
    },
    {
     "data": {
      "image/png": "[encoded data removed]",
      "text/plain": [
       "<matplotlib.figure.Figure at 0x227e949fa90>"
      ]
     },
     "metadata": {},
     "output_type": "display_data"
    }
   ],
   "source": [
    "q ='''\n",
    "select\n",
    "    ssl.raw_character_text,\n",
    "    se.season, count(*)\n",
    "    as num_lines\n",
    "from simpsons_script_lines ssl\n",
    "inner join simpsons_episodes se\n",
    "    on se.id = ssl.episode_id\n",
    "where ssl.raw_character_text != ''\n",
    "    and se.season < 6\n",
    "group by\n",
    "    ssl.raw_character_text,\n",
    "    se.season\n",
    "order by num_lines desc;\n",
    "'''\n",
    "qr = dw.query('data-society/the-simpsons-by-the-data',q)\n",
    "df = qr.dataframe\n",
    "char_counts = df.pivot_table(index='raw_character_text',\n",
    "                              values='num_lines',aggfunc=sum)\n",
    "top_10_chars = char_counts.sort_values(by='num_lines', ascending=False).iloc[:10].index\n",
    "top_10 = df[df['raw_character_text'].isin(top_10_chars)]\n",
    "pivot = top_10.pivot_table(index='raw_character_text',\n",
    "                           columns='season',values='num_lines')\n",
    "pivot.plot.bar()"
   ]
  },
  {
   "cell_type": "markdown",
   "metadata": {},
   "source": [
    "## Using the data.world API\n",
    "In addition to load_dataset() and query(), the data.world library offers a wrapper around the full data.world API, which gives you access to a number of powerful functions that allow you to read, create and modify data sets on data.world.\n",
    "\n",
    "To demonstrate this, let's add the chalkboard gags from the start of each Simpsons episode to the simpsons_episodes file. Note that you would need to be a contributor or owner to the dataset to be able to make changes using the API.\n",
    "\n",
    "We're going to start by pulling down a list of chalkboard gags from the web, cleaning them to be ready to joined to the main table."
   ]
  },
  {
   "cell_type": "code",
   "execution_count": 11,
   "metadata": {},
   "outputs": [
    {
     "name": "stdout",
     "output_type": "stream",
     "text": [
      "(14, 4)\n"
     ]
    },
    {
     "data": {
      "text/html": [
       "<div>\n",
       "<style scoped>\n",
       "    .dataframe tbody tr th:only-of-type {\n",
       "        vertical-align: middle;\n",
       "    }\n",
       "\n",
       "    .dataframe tbody tr th {\n",
       "        vertical-align: top;\n",
       "    }\n",
       "\n",
       "    .dataframe thead th {\n",
       "        text-align: right;\n",
       "    }\n",
       "</style>\n",
       "<table border=\"1\" class=\"dataframe\">\n",
       "  <thead>\n",
       "    <tr style=\"text-align: right;\">\n",
       "      <th></th>\n",
       "      <th>0</th>\n",
       "      <th>1</th>\n",
       "      <th>2</th>\n",
       "      <th>3</th>\n",
       "    </tr>\n",
       "  </thead>\n",
       "  <tbody>\n",
       "    <tr>\n",
       "      <th>0</th>\n",
       "      <td>#</td>\n",
       "      <td>Airdate/Episode Title</td>\n",
       "      <td>Screenshot</td>\n",
       "      <td>Chalkboard Gag/Note</td>\n",
       "    </tr>\n",
       "    <tr>\n",
       "      <th>1</th>\n",
       "      <td>1</td>\n",
       "      <td>December 17, 1989\"Simpsons Roasting on an Open...</td>\n",
       "      <td>&lt;img src=\"https://vignette.wikia.nocookie.net/...</td>\n",
       "      <td>(no gag)</td>\n",
       "    </tr>\n",
       "    <tr>\n",
       "      <th>2</th>\n",
       "      <td>2</td>\n",
       "      <td>January 14, 1990\"Bart the Genius\"</td>\n",
       "      <td>&lt;img src=\"https://vignette.wikia.nocookie.net/...</td>\n",
       "      <td>I will not waste chalk.</td>\n",
       "    </tr>\n",
       "    <tr>\n",
       "      <th>3</th>\n",
       "      <td>3</td>\n",
       "      <td>January 21, 1990\"Homer's Odyssey\"</td>\n",
       "      <td>&lt;img src=\"https://vignette.wikia.nocookie.net/...</td>\n",
       "      <td>I will not skateboard in the halls.</td>\n",
       "    </tr>\n",
       "    <tr>\n",
       "      <th>4</th>\n",
       "      <td>4</td>\n",
       "      <td>January 28, 1990\"There's No Disgrace Like Home\"</td>\n",
       "      <td>&lt;img src=\"https://vignette.wikia.nocookie.net/...</td>\n",
       "      <td>I will not burp in class.</td>\n",
       "    </tr>\n",
       "  </tbody>\n",
       "</table>\n",
       "</div>"
      ],
      "text/plain": [
       "   0                                                  1  \\\n",
       "0  #                              Airdate/Episode Title   \n",
       "1  1  December 17, 1989\"Simpsons Roasting on an Open...   \n",
       "2  2                  January 14, 1990\"Bart the Genius\"   \n",
       "3  3                  January 21, 1990\"Homer's Odyssey\"   \n",
       "4  4    January 28, 1990\"There's No Disgrace Like Home\"   \n",
       "\n",
       "                                                   2  \\\n",
       "0                                         Screenshot   \n",
       "1  <img src=\"https://vignette.wikia.nocookie.net/...   \n",
       "2  <img src=\"https://vignette.wikia.nocookie.net/...   \n",
       "3  <img src=\"https://vignette.wikia.nocookie.net/...   \n",
       "4  <img src=\"https://vignette.wikia.nocookie.net/...   \n",
       "\n",
       "                                     3  \n",
       "0                  Chalkboard Gag/Note  \n",
       "1                             (no gag)  \n",
       "2              I will not waste chalk.  \n",
       "3  I will not skateboard in the halls.  \n",
       "4            I will not burp in class.  "
      ]
     },
     "execution_count": 11,
     "metadata": {},
     "output_type": "execute_result"
    }
   ],
   "source": [
    "# create a list of dataframes from the tables listed on simpsons.wikia.co,\n",
    "chalkboard_dfs = pd.read_html('http://simpsons.wikia.com/wiki/List_of_chalkboard_gags',match='Gag')\n",
    "# remove the simpsons movie from the list\n",
    "chalkboard_dfs = [i for i in chalkboard_dfs if i.shape[0] != 2]\n",
    "# inspect the format of our dataframes\n",
    "print(chalkboard_dfs[0].shape)\n",
    "chalkboard_dfs[0].head()"
   ]
  },
  {
   "cell_type": "code",
   "execution_count": 12,
   "metadata": {},
   "outputs": [
    {
     "name": "stdout",
     "output_type": "stream",
     "text": [
      "(631, 7)\n"
     ]
    },
    {
     "data": {
      "text/html": [
       "<div>\n",
       "<style scoped>\n",
       "    .dataframe tbody tr th:only-of-type {\n",
       "        vertical-align: middle;\n",
       "    }\n",
       "\n",
       "    .dataframe tbody tr th {\n",
       "        vertical-align: top;\n",
       "    }\n",
       "\n",
       "    .dataframe thead th {\n",
       "        text-align: right;\n",
       "    }\n",
       "</style>\n",
       "<table border=\"1\" class=\"dataframe\">\n",
       "  <thead>\n",
       "    <tr style=\"text-align: right;\">\n",
       "      <th></th>\n",
       "      <th>#</th>\n",
       "      <th>Airdate</th>\n",
       "      <th>Airdate/Episode Title</th>\n",
       "      <th>Chalkboard Gag/Note</th>\n",
       "      <th>Episode title</th>\n",
       "      <th>Gag</th>\n",
       "      <th>Screenshot</th>\n",
       "    </tr>\n",
       "  </thead>\n",
       "  <tbody>\n",
       "    <tr>\n",
       "      <th>0</th>\n",
       "      <td>1</td>\n",
       "      <td>NaN</td>\n",
       "      <td>December 17, 1989\"Simpsons Roasting on an Open...</td>\n",
       "      <td>(no gag)</td>\n",
       "      <td>NaN</td>\n",
       "      <td>NaN</td>\n",
       "      <td>&lt;img src=\"https://vignette.wikia.nocookie.net/...</td>\n",
       "    </tr>\n",
       "    <tr>\n",
       "      <th>1</th>\n",
       "      <td>2</td>\n",
       "      <td>NaN</td>\n",
       "      <td>January 14, 1990\"Bart the Genius\"</td>\n",
       "      <td>I will not waste chalk.</td>\n",
       "      <td>NaN</td>\n",
       "      <td>NaN</td>\n",
       "      <td>&lt;img src=\"https://vignette.wikia.nocookie.net/...</td>\n",
       "    </tr>\n",
       "    <tr>\n",
       "      <th>2</th>\n",
       "      <td>3</td>\n",
       "      <td>NaN</td>\n",
       "      <td>January 21, 1990\"Homer's Odyssey\"</td>\n",
       "      <td>I will not skateboard in the halls.</td>\n",
       "      <td>NaN</td>\n",
       "      <td>NaN</td>\n",
       "      <td>&lt;img src=\"https://vignette.wikia.nocookie.net/...</td>\n",
       "    </tr>\n",
       "    <tr>\n",
       "      <th>3</th>\n",
       "      <td>4</td>\n",
       "      <td>NaN</td>\n",
       "      <td>January 28, 1990\"There's No Disgrace Like Home\"</td>\n",
       "      <td>I will not burp in class.</td>\n",
       "      <td>NaN</td>\n",
       "      <td>NaN</td>\n",
       "      <td>&lt;img src=\"https://vignette.wikia.nocookie.net/...</td>\n",
       "    </tr>\n",
       "    <tr>\n",
       "      <th>4</th>\n",
       "      <td>5</td>\n",
       "      <td>NaN</td>\n",
       "      <td>February 4, 1990\"Bart the General\"</td>\n",
       "      <td>(no gag)Shortened opening</td>\n",
       "      <td>NaN</td>\n",
       "      <td>NaN</td>\n",
       "      <td>&lt;img src=\"https://vignette.wikia.nocookie.net/...</td>\n",
       "    </tr>\n",
       "  </tbody>\n",
       "</table>\n",
       "</div>"
      ],
      "text/plain": [
       "   # Airdate                              Airdate/Episode Title  \\\n",
       "0  1     NaN  December 17, 1989\"Simpsons Roasting on an Open...   \n",
       "1  2     NaN                  January 14, 1990\"Bart the Genius\"   \n",
       "2  3     NaN                  January 21, 1990\"Homer's Odyssey\"   \n",
       "3  4     NaN    January 28, 1990\"There's No Disgrace Like Home\"   \n",
       "4  5     NaN                 February 4, 1990\"Bart the General\"   \n",
       "\n",
       "                   Chalkboard Gag/Note Episode title  Gag  \\\n",
       "0                             (no gag)           NaN  NaN   \n",
       "1              I will not waste chalk.           NaN  NaN   \n",
       "2  I will not skateboard in the halls.           NaN  NaN   \n",
       "3            I will not burp in class.           NaN  NaN   \n",
       "4            (no gag)Shortened opening           NaN  NaN   \n",
       "\n",
       "                                          Screenshot  \n",
       "0  <img src=\"https://vignette.wikia.nocookie.net/...  \n",
       "1  <img src=\"https://vignette.wikia.nocookie.net/...  \n",
       "2  <img src=\"https://vignette.wikia.nocookie.net/...  \n",
       "3  <img src=\"https://vignette.wikia.nocookie.net/...  \n",
       "4  <img src=\"https://vignette.wikia.nocookie.net/...  "
      ]
     },
     "execution_count": 12,
     "metadata": {},
     "output_type": "execute_result"
    }
   ],
   "source": [
    "# the first row contains the column names, let's create a function to fix this\n",
    "def cb_cleanup(df):\n",
    "    df.columns = df.iloc[0]\n",
    "    df = df.iloc[1:]\n",
    "    return df\n",
    "# and then apply the function to the whole list\n",
    "chalkboard_dfs = [cb_cleanup(i) for i in chalkboard_dfs]\n",
    "# join the list of dataframes into one big dataframe\n",
    "chalkboards = pd.concat(chalkboard_dfs,ignore_index=True)\n",
    "# remove bad row without an id\n",
    "chalkboards = chalkboards[pd.notnull(chalkboards['#'])]\n",
    "print(chalkboards.shape)\n",
    "chalkboards.head()"
   ]
  },
  {
   "cell_type": "markdown",
   "metadata": {},
   "source": [
    "The reason why this messiness happen is because season 1-5 use different column names Airdate/Episode Title and Chalkboard Gag/Note. While the rest of the season use Episode title and Gag."
   ]
  },
  {
   "cell_type": "code",
   "execution_count": 14,
   "metadata": {},
   "outputs": [
    {
     "name": "stderr",
     "output_type": "stream",
     "text": [
      "C:\\Users\\LW130003\\Anaconda3\\lib\\site-packages\\pandas\\core\\indexing.py:194: SettingWithCopyWarning: \n",
      "A value is trying to be set on a copy of a slice from a DataFrame\n",
      "\n",
      "See the caveats in the documentation: http://pandas.pydata.org/pandas-docs/stable/indexing.html#indexing-view-versus-copy\n",
      "  self._setitem_with_indexer(indexer, value)\n",
      "C:\\Users\\LW130003\\Anaconda3\\lib\\site-packages\\ipykernel_launcher.py:11: SettingWithCopyWarning: \n",
      "A value is trying to be set on a copy of a slice from a DataFrame\n",
      "\n",
      "See the caveats in the documentation: http://pandas.pydata.org/pandas-docs/stable/indexing.html#indexing-view-versus-copy\n",
      "  # This is added back by InteractiveShellApp.init_path()\n",
      "C:\\Users\\LW130003\\Anaconda3\\lib\\site-packages\\ipykernel_launcher.py:12: SettingWithCopyWarning: \n",
      "A value is trying to be set on a copy of a slice from a DataFrame\n",
      "\n",
      "See the caveats in the documentation: http://pandas.pydata.org/pandas-docs/stable/indexing.html#indexing-view-versus-copy\n",
      "  if sys.path[0] == '':\n",
      "C:\\Users\\LW130003\\Anaconda3\\lib\\site-packages\\ipykernel_launcher.py:14: SettingWithCopyWarning: \n",
      "A value is trying to be set on a copy of a slice from a DataFrame.\n",
      "Try using .loc[row_indexer,col_indexer] = value instead\n",
      "\n",
      "See the caveats in the documentation: http://pandas.pydata.org/pandas-docs/stable/indexing.html#indexing-view-versus-copy\n",
      "  \n"
     ]
    },
    {
     "data": {
      "text/html": [
       "<div>\n",
       "<style scoped>\n",
       "    .dataframe tbody tr th:only-of-type {\n",
       "        vertical-align: middle;\n",
       "    }\n",
       "\n",
       "    .dataframe tbody tr th {\n",
       "        vertical-align: top;\n",
       "    }\n",
       "\n",
       "    .dataframe thead th {\n",
       "        text-align: right;\n",
       "    }\n",
       "</style>\n",
       "<table border=\"1\" class=\"dataframe\">\n",
       "  <thead>\n",
       "    <tr style=\"text-align: right;\">\n",
       "      <th></th>\n",
       "      <th>#</th>\n",
       "      <th>Airdate</th>\n",
       "      <th>Episode title</th>\n",
       "      <th>Gag</th>\n",
       "    </tr>\n",
       "  </thead>\n",
       "  <tbody>\n",
       "    <tr>\n",
       "      <th>0</th>\n",
       "      <td>1</td>\n",
       "      <td>December 17, 1989</td>\n",
       "      <td>\"Simpsons Roasting on an Open Fire\"</td>\n",
       "      <td>(no gag)</td>\n",
       "    </tr>\n",
       "    <tr>\n",
       "      <th>1</th>\n",
       "      <td>2</td>\n",
       "      <td>January 14, 1990</td>\n",
       "      <td>\"Bart the Genius\"</td>\n",
       "      <td>I will not waste chalk.</td>\n",
       "    </tr>\n",
       "    <tr>\n",
       "      <th>2</th>\n",
       "      <td>3</td>\n",
       "      <td>January 21, 1990</td>\n",
       "      <td>\"Homer's Odyssey\"</td>\n",
       "      <td>I will not skateboard in the halls.</td>\n",
       "    </tr>\n",
       "    <tr>\n",
       "      <th>3</th>\n",
       "      <td>4</td>\n",
       "      <td>January 28, 1990</td>\n",
       "      <td>\"There's No Disgrace Like Home\"</td>\n",
       "      <td>I will not burp in class.</td>\n",
       "    </tr>\n",
       "    <tr>\n",
       "      <th>4</th>\n",
       "      <td>5</td>\n",
       "      <td>February 4, 1990</td>\n",
       "      <td>\"Bart the General\"</td>\n",
       "      <td>(no gag)Shortened opening</td>\n",
       "    </tr>\n",
       "  </tbody>\n",
       "</table>\n",
       "</div>"
      ],
      "text/plain": [
       "   #            Airdate                        Episode title  \\\n",
       "0  1  December 17, 1989  \"Simpsons Roasting on an Open Fire\"   \n",
       "1  2   January 14, 1990                    \"Bart the Genius\"   \n",
       "2  3   January 21, 1990                    \"Homer's Odyssey\"   \n",
       "3  4   January 28, 1990      \"There's No Disgrace Like Home\"   \n",
       "4  5   February 4, 1990                   \"Bart the General\"   \n",
       "\n",
       "                                   Gag  \n",
       "0                             (no gag)  \n",
       "1              I will not waste chalk.  \n",
       "2  I will not skateboard in the halls.  \n",
       "3            I will not burp in class.  \n",
       "4            (no gag)Shortened opening  "
      ]
     },
     "execution_count": 14,
     "metadata": {},
     "output_type": "execute_result"
    }
   ],
   "source": [
    "temp = chalkboards.loc[chalkboards['Episode title'].isnull()]\n",
    "temp2 = chalkboards.loc[chalkboards['Episode title'].notnull()]\n",
    "def find_title(text):\n",
    "    title_no = text.find('\"')\n",
    "    airdate = text[0:title_no]\n",
    "    title = text[title_no:]\n",
    "    return airdate, title\n",
    "\n",
    "for i in range(temp.shape[0]):\n",
    "    air , title = find_title(temp.loc[i,'Airdate/Episode Title'])\n",
    "    temp.loc[i,'Airdate'] = air\n",
    "    temp.loc[i,'Episode title'] = title\n",
    "    \n",
    "temp['Gag'] = temp['Chalkboard Gag/Note']\n",
    "chalkboards = pd.concat([temp, temp2])\n",
    "chalkboards.drop(['Airdate/Episode Title','Chalkboard Gag/Note', 'Screenshot'], axis=1, inplace=True)\n",
    "chalkboards.head()"
   ]
  },
  {
   "cell_type": "code",
   "execution_count": 15,
   "metadata": {
    "collapsed": true
   },
   "outputs": [],
   "source": [
    "# remove extra columns and normalize column names\n",
    "chalkboards = chalkboards[['#','Gag']]\n",
    "chalkboards.columns = ['id','chalkboard_gag']"
   ]
  },
  {
   "cell_type": "code",
   "execution_count": 16,
   "metadata": {},
   "outputs": [
    {
     "data": {
      "text/plain": [
       "array(['1', '2', '3', '4', '5', '6', '7', '8', '9', '10', '11', '12', '13',\n",
       "       '14', '15', '16', '17', '18', '19', '20', '21', '22', '23', '24',\n",
       "       '25', '26', '27', '28', '29', '30', '31', '32', '33', '34', '35',\n",
       "       '36', '37', '38', '39',\n",
       "       '<img src=\"https://vignette.wikia.nocookie.net/simpsons/images/d/da/Bart_the_Murderer_47.JPG/revision/latest/scale-to-width-down/200?cb=20130612014818\" alt=\"Bart the Murderer 47\" class=\"\" data-image-key=\"Bart_the_Murderer_47.JPG\" data-image-name=\"Bart the Murderer 47.JPG\" width=\"200\" height=\"150\" >',\n",
       "       '40', '41', '42', '43', '44', '45', '46', '47', '48', '49', '50',\n",
       "       '51', '52', '53',\n",
       "       '<img src=\"https://vignette.wikia.nocookie.net/simpsons/images/b/bb/Separate_Vocations_119.JPG/revision/latest/scale-to-width-down/200?cb=20130620040941\" alt=\"Separate Vocations 119\" class=\"\" data-image-key=\"Separate_Vocations_119.JPG\" data-image-name=\"Separate Vocations 119.JPG\" width=\"200\" height=\"150\" >',\n",
       "       '54', '55', '56', '57', '58', '59', '60', '61', '62', '63', '64',\n",
       "       '65', '66', '67', '68', '69', '70', '71', '72', '73', '74', '75',\n",
       "       '76', '77', '78', '79', '80', '81', '82', '83', '84', '85', '86',\n",
       "       '87', '88', '89', '90', '91', '92', '93', '94', '95', '96', '97',\n",
       "       '98', '99', '100', '101', '102', '103', '104', '105', '106', '107',\n",
       "       '108', '109', '110', '111', '112', '113', '114', '115', '116',\n",
       "       '117', '118', '119', '120', '121', '122', '123', '124', '125',\n",
       "       '126', '127', '128', '129', '130', '131', '132', '133', '134',\n",
       "       '135', '136', '137', '138', '139', '140', '141', '142', '143',\n",
       "       '144', '145', '146', '147', '148', '149', '150', '151', '152',\n",
       "       '153', '154', '155', '156', '157', '158', '159', '160', '161',\n",
       "       '162', '163', '164', '165', '166', '167', '168', '169', '170',\n",
       "       '171', '172', '173', '174', '175', '176', '177', '178', '179',\n",
       "       '180', '181', '182', '183', '184', '185', '186', '187', '188',\n",
       "       '189', '190', '191', '192', '193', '194', '195', '196', '197',\n",
       "       '198', '199', '200', '201', '202', '203', '204', '205', '206',\n",
       "       '207', '208', '209', '210', '211', '212', '213', '214', '215',\n",
       "       '216', '217', '218', '219', '220', '221', '222', '223', '224',\n",
       "       '225', '226', '227', '228', '229', '230', '231', '232', '233',\n",
       "       '234', '235', '236', '237', '238', '239', '240', '241', '242',\n",
       "       '243', '244', '245', '246', '247', '248', '249', '250', '251',\n",
       "       '252', '253', '254', '255', '256', '257', '258', '259', '260',\n",
       "       '261', '262', '263', '264', '265', '266', '267', '268', '269',\n",
       "       '270', '271', '272', '273', '274', '275', '276', '277', '278',\n",
       "       '279', '280', '281', '282', '283', '284', '285', '286', '287',\n",
       "       '288', '289', '290', '291', '292', '293', '294', '295', '296',\n",
       "       '297', '298', '299', '300', '301', '302', '303', '304', '305',\n",
       "       '306', '307', '308', '309', '310', '311', '312', '313', '314',\n",
       "       '315', '316', '317', '318', '319', '320', '321', '322', '323',\n",
       "       '324', '325', '326', '327', '328', '329', '330', '331', '332',\n",
       "       '333', '334', '335', '336', '337', '338', '339', '340', '341',\n",
       "       '342', '343', '344', '345', '346', '347', '348', '349', '350',\n",
       "       '351', '352', '353', '354', '355', '356', '357', '358', '359',\n",
       "       '360', '361', '362', '363', '364', '365', '366', '367', '368',\n",
       "       '369', '370', '371', '372', '373', '374', '375', '376', '377',\n",
       "       '378', '379', '380', '381', '382', '383', '384', '385', '386',\n",
       "       '387', '388', '389', '390', '391', '392', '393', '394', '395',\n",
       "       '396', '397', '398', '399', '400', '401', '402', '403', '404',\n",
       "       '405', '406', '407', '408', '409', '410', '411', '412', '413',\n",
       "       '414', '415', '416', '417', '418', '419', '420', '421', '422',\n",
       "       '423', '424', '425', '426', '427', '428', '429', '430', '431',\n",
       "       '432', '433', '434', '435', '436', '437', '438', '439', '440',\n",
       "       '441', '442', '443', '444', '445', '446', '447', '448', '449',\n",
       "       '450', '451', '452', '453', '454', '455', '456', '457', '458',\n",
       "       '459', '460', '461', '462', '463', '464', '465', '466', '467',\n",
       "       '468', '469', '470', '471', '472', '473', '474', '475', '476',\n",
       "       '477', '478', '479', '480', '481', '482', '483', '484', '485',\n",
       "       '486', '487', '488', '489', '490', '491', '492', '493', '494',\n",
       "       '495', '496', '497', '498', '499', '500', '501', '502', '503',\n",
       "       '504', '505', '506', '507', '508', '509', '510', '511', '512',\n",
       "       '513', '514', '515', '516', '517', '518', '519', '520', '521',\n",
       "       '522', '523', '524', '525', '526', '527', '528', '529', '530',\n",
       "       '531', '532', '533', '534', '535', '536', '537', '538', '539',\n",
       "       '540', '541', '542', '543', '544', '545', '546', '547', '548',\n",
       "       '549', '550', '551', '552', '553', '554', '555', '556', '557',\n",
       "       '558', '559', '560', '561', '562', '563', '564', '565', '566',\n",
       "       '567', '568', '569', '570', '571', '572', '573', '574', '575',\n",
       "       '576', '577', '578', '579', '580', '581', '582', '583', '584',\n",
       "       '585', '586', '587', '588', '589', '590', '591', '592', '593',\n",
       "       '594', '595', '596', '597', '598', '599', '600', '601', '602',\n",
       "       '603', '604', '605', '606', '607', '608/609', '610', '611', '612',\n",
       "       '613', '614', '615', '616', '617', '618', '619', '620', '621',\n",
       "       '622', '623', '624', '625', '626', '627', '628', '629', '630'], dtype=object)"
      ]
     },
     "execution_count": 16,
     "metadata": {},
     "output_type": "execute_result"
    }
   ],
   "source": [
    "chalkboards['id'].values"
   ]
  },
  {
   "cell_type": "markdown",
   "metadata": {},
   "source": [
    "In order to turn 'id' into string there are 3 values that need to be dropped / replaced"
   ]
  },
  {
   "cell_type": "code",
   "execution_count": 17,
   "metadata": {},
   "outputs": [
    {
     "data": {
      "text/plain": [
       "'<img src=\"https://vignette.wikia.nocookie.net/simpsons/images/d/da/Bart_the_Murderer_47.JPG/revision/latest/scale-to-width-down/200?cb=20130612014818\" alt=\"Bart the Murderer 47\" class=\"\" data-image-key=\"Bart_the_Murderer_47.JPG\" data-image-name=\"Bart the Murderer 47.JPG\" width=\"200\" height=\"150\" >'"
      ]
     },
     "execution_count": 17,
     "metadata": {},
     "output_type": "execute_result"
    }
   ],
   "source": [
    "chalkboards['id'][39]"
   ]
  },
  {
   "cell_type": "code",
   "execution_count": 18,
   "metadata": {},
   "outputs": [
    {
     "data": {
      "text/plain": [
       "'<img src=\"https://vignette.wikia.nocookie.net/simpsons/images/b/bb/Separate_Vocations_119.JPG/revision/latest/scale-to-width-down/200?cb=20130620040941\" alt=\"Separate Vocations 119\" class=\"\" data-image-key=\"Separate_Vocations_119.JPG\" data-image-name=\"Separate Vocations 119.JPG\" width=\"200\" height=\"150\" >'"
      ]
     },
     "execution_count": 18,
     "metadata": {},
     "output_type": "execute_result"
    }
   ],
   "source": [
    "chalkboards['id'][54]"
   ]
  },
  {
   "cell_type": "code",
   "execution_count": 19,
   "metadata": {},
   "outputs": [
    {
     "data": {
      "text/plain": [
       "'608/609'"
      ]
     },
     "execution_count": 19,
     "metadata": {},
     "output_type": "execute_result"
    }
   ],
   "source": [
    "chalkboards['id'][609]"
   ]
  },
  {
   "cell_type": "code",
   "execution_count": 20,
   "metadata": {
    "collapsed": true
   },
   "outputs": [],
   "source": [
    "df = pd.DataFrame([[608, 'no gag'], [609, 'no gag']], columns=['id', 'chalkboard_gag'])\n",
    "chalkboards = chalkboards.append(df)\n",
    "chalkboards.drop(index=[39,54,609], inplace=True, axis=0)"
   ]
  },
  {
   "cell_type": "code",
   "execution_count": 21,
   "metadata": {},
   "outputs": [
    {
     "data": {
      "text/html": [
       "<div>\n",
       "<style scoped>\n",
       "    .dataframe tbody tr th:only-of-type {\n",
       "        vertical-align: middle;\n",
       "    }\n",
       "\n",
       "    .dataframe tbody tr th {\n",
       "        vertical-align: top;\n",
       "    }\n",
       "\n",
       "    .dataframe thead th {\n",
       "        text-align: right;\n",
       "    }\n",
       "</style>\n",
       "<table border=\"1\" class=\"dataframe\">\n",
       "  <thead>\n",
       "    <tr style=\"text-align: right;\">\n",
       "      <th></th>\n",
       "      <th>id</th>\n",
       "      <th>chalkboard_gag</th>\n",
       "    </tr>\n",
       "  </thead>\n",
       "  <tbody>\n",
       "    <tr>\n",
       "      <th>0</th>\n",
       "      <td>1</td>\n",
       "      <td>(no gag)</td>\n",
       "    </tr>\n",
       "    <tr>\n",
       "      <th>1</th>\n",
       "      <td>2</td>\n",
       "      <td>I will not waste chalk.</td>\n",
       "    </tr>\n",
       "    <tr>\n",
       "      <th>2</th>\n",
       "      <td>3</td>\n",
       "      <td>I will not skateboard in the halls.</td>\n",
       "    </tr>\n",
       "    <tr>\n",
       "      <th>3</th>\n",
       "      <td>4</td>\n",
       "      <td>I will not burp in class.</td>\n",
       "    </tr>\n",
       "    <tr>\n",
       "      <th>4</th>\n",
       "      <td>5</td>\n",
       "      <td>(no gag)Shortened opening</td>\n",
       "    </tr>\n",
       "  </tbody>\n",
       "</table>\n",
       "</div>"
      ],
      "text/plain": [
       "   id                       chalkboard_gag\n",
       "0   1                             (no gag)\n",
       "1   2              I will not waste chalk.\n",
       "2   3  I will not skateboard in the halls.\n",
       "3   4            I will not burp in class.\n",
       "4   5            (no gag)Shortened opening"
      ]
     },
     "execution_count": 21,
     "metadata": {},
     "output_type": "execute_result"
    }
   ],
   "source": [
    "# convert id column to int\n",
    "chalkboards['id'] = chalkboards['id'].astype(int)\n",
    "chalkboards = chalkboards.sort_values(by='id')\n",
    "chalkboards.drop_duplicates(inplace=True)\n",
    "chalkboards.head()"
   ]
  },
  {
   "cell_type": "markdown",
   "metadata": {},
   "source": [
    "Join chalkboards word with original datasets"
   ]
  },
  {
   "cell_type": "code",
   "execution_count": 22,
   "metadata": {},
   "outputs": [
    {
     "data": {
      "text/html": [
       "<div>\n",
       "<style scoped>\n",
       "    .dataframe tbody tr th:only-of-type {\n",
       "        vertical-align: middle;\n",
       "    }\n",
       "\n",
       "    .dataframe tbody tr th {\n",
       "        vertical-align: top;\n",
       "    }\n",
       "\n",
       "    .dataframe thead th {\n",
       "        text-align: right;\n",
       "    }\n",
       "</style>\n",
       "<table border=\"1\" class=\"dataframe\">\n",
       "  <thead>\n",
       "    <tr style=\"text-align: right;\">\n",
       "      <th></th>\n",
       "      <th>id</th>\n",
       "      <th>image_url</th>\n",
       "      <th>imdb_rating</th>\n",
       "      <th>imdb_votes</th>\n",
       "      <th>number_in_season</th>\n",
       "      <th>number_in_series</th>\n",
       "      <th>original_air_date</th>\n",
       "      <th>original_air_year</th>\n",
       "      <th>production_code</th>\n",
       "      <th>season</th>\n",
       "      <th>title</th>\n",
       "      <th>us_viewers_in_millions</th>\n",
       "      <th>video_url</th>\n",
       "      <th>views</th>\n",
       "      <th>chalkboard_gag</th>\n",
       "    </tr>\n",
       "  </thead>\n",
       "  <tbody>\n",
       "    <tr>\n",
       "      <th>0</th>\n",
       "      <td>10</td>\n",
       "      <td>http://static-media.fxx.com/img/FX_Networks_-_...</td>\n",
       "      <td>7.4</td>\n",
       "      <td>1511.0</td>\n",
       "      <td>10</td>\n",
       "      <td>10</td>\n",
       "      <td>1990-03-25</td>\n",
       "      <td>1990</td>\n",
       "      <td>7G10</td>\n",
       "      <td>1</td>\n",
       "      <td>Homer's Night Out</td>\n",
       "      <td>30.3</td>\n",
       "      <td>http://www.simpsonsworld.com/video/275197507879</td>\n",
       "      <td>50816.0</td>\n",
       "      <td>I will not call my teacher \"Hot Cakes\".</td>\n",
       "    </tr>\n",
       "    <tr>\n",
       "      <th>1</th>\n",
       "      <td>12</td>\n",
       "      <td>http://static-media.fxx.com/img/FX_Networks_-_...</td>\n",
       "      <td>8.3</td>\n",
       "      <td>1716.0</td>\n",
       "      <td>12</td>\n",
       "      <td>12</td>\n",
       "      <td>1990-04-29</td>\n",
       "      <td>1990</td>\n",
       "      <td>7G12</td>\n",
       "      <td>1</td>\n",
       "      <td>Krusty Gets Busted</td>\n",
       "      <td>30.4</td>\n",
       "      <td>http://www.simpsonsworld.com/video/288019523914</td>\n",
       "      <td>62561.0</td>\n",
       "      <td>They are laughing at me, not with me.</td>\n",
       "    </tr>\n",
       "    <tr>\n",
       "      <th>2</th>\n",
       "      <td>14</td>\n",
       "      <td>http://static-media.fxx.com/img/FX_Networks_-_...</td>\n",
       "      <td>8.2</td>\n",
       "      <td>1638.0</td>\n",
       "      <td>1</td>\n",
       "      <td>14</td>\n",
       "      <td>1990-10-11</td>\n",
       "      <td>1990</td>\n",
       "      <td>7F03</td>\n",
       "      <td>2</td>\n",
       "      <td>Bart Gets an \"F\"</td>\n",
       "      <td>33.6</td>\n",
       "      <td>http://www.simpsonsworld.com/video/260539459671</td>\n",
       "      <td>59575.0</td>\n",
       "      <td>I will not encourage others to fly. (And durin...</td>\n",
       "    </tr>\n",
       "    <tr>\n",
       "      <th>3</th>\n",
       "      <td>17</td>\n",
       "      <td>http://static-media.fxx.com/img/FX_Networks_-_...</td>\n",
       "      <td>8.1</td>\n",
       "      <td>1457.0</td>\n",
       "      <td>4</td>\n",
       "      <td>17</td>\n",
       "      <td>1990-11-01</td>\n",
       "      <td>1990</td>\n",
       "      <td>7F01</td>\n",
       "      <td>2</td>\n",
       "      <td>Two Cars in Every Garage and Three Eyes on Eve...</td>\n",
       "      <td>26.1</td>\n",
       "      <td>http://www.simpsonsworld.com/video/260537411822</td>\n",
       "      <td>64959.0</td>\n",
       "      <td>Original version:I will not Xerox my butt. Alt...</td>\n",
       "    </tr>\n",
       "    <tr>\n",
       "      <th>4</th>\n",
       "      <td>19</td>\n",
       "      <td>http://static-media.fxx.com/img/FX_Networks_-_...</td>\n",
       "      <td>8.0</td>\n",
       "      <td>1366.0</td>\n",
       "      <td>6</td>\n",
       "      <td>19</td>\n",
       "      <td>1990-11-15</td>\n",
       "      <td>1990</td>\n",
       "      <td>7F08</td>\n",
       "      <td>2</td>\n",
       "      <td>Dead Putting Society</td>\n",
       "      <td>25.4</td>\n",
       "      <td>http://www.simpsonsworld.com/video/260539459670</td>\n",
       "      <td>50691.0</td>\n",
       "      <td>I am not a 32 year old woman.At the time of th...</td>\n",
       "    </tr>\n",
       "  </tbody>\n",
       "</table>\n",
       "</div>"
      ],
      "text/plain": [
       "   id                                          image_url  imdb_rating  \\\n",
       "0  10  http://static-media.fxx.com/img/FX_Networks_-_...          7.4   \n",
       "1  12  http://static-media.fxx.com/img/FX_Networks_-_...          8.3   \n",
       "2  14  http://static-media.fxx.com/img/FX_Networks_-_...          8.2   \n",
       "3  17  http://static-media.fxx.com/img/FX_Networks_-_...          8.1   \n",
       "4  19  http://static-media.fxx.com/img/FX_Networks_-_...          8.0   \n",
       "\n",
       "   imdb_votes  number_in_season  number_in_series original_air_date  \\\n",
       "0      1511.0                10                10        1990-03-25   \n",
       "1      1716.0                12                12        1990-04-29   \n",
       "2      1638.0                 1                14        1990-10-11   \n",
       "3      1457.0                 4                17        1990-11-01   \n",
       "4      1366.0                 6                19        1990-11-15   \n",
       "\n",
       "   original_air_year production_code  season  \\\n",
       "0               1990            7G10       1   \n",
       "1               1990            7G12       1   \n",
       "2               1990            7F03       2   \n",
       "3               1990            7F01       2   \n",
       "4               1990            7F08       2   \n",
       "\n",
       "                                               title  us_viewers_in_millions  \\\n",
       "0                                  Homer's Night Out                    30.3   \n",
       "1                                 Krusty Gets Busted                    30.4   \n",
       "2                                   Bart Gets an \"F\"                    33.6   \n",
       "3  Two Cars in Every Garage and Three Eyes on Eve...                    26.1   \n",
       "4                               Dead Putting Society                    25.4   \n",
       "\n",
       "                                         video_url    views  \\\n",
       "0  http://www.simpsonsworld.com/video/275197507879  50816.0   \n",
       "1  http://www.simpsonsworld.com/video/288019523914  62561.0   \n",
       "2  http://www.simpsonsworld.com/video/260539459671  59575.0   \n",
       "3  http://www.simpsonsworld.com/video/260537411822  64959.0   \n",
       "4  http://www.simpsonsworld.com/video/260539459670  50691.0   \n",
       "\n",
       "                                      chalkboard_gag  \n",
       "0            I will not call my teacher \"Hot Cakes\".  \n",
       "1              They are laughing at me, not with me.  \n",
       "2  I will not encourage others to fly. (And durin...  \n",
       "3  Original version:I will not Xerox my butt. Alt...  \n",
       "4  I am not a 32 year old woman.At the time of th...  "
      ]
     },
     "execution_count": 22,
     "metadata": {},
     "output_type": "execute_result"
    }
   ],
   "source": [
    "simpsons_episodes = lds.dataframes['simpsons_episodes']\n",
    "simpsons_episodes = simpsons_episodes.merge(chalkboards,how='left',on='id')\n",
    "simpsons_episodes.head()"
   ]
  },
  {
   "cell_type": "code",
   "execution_count": 23,
   "metadata": {
    "collapsed": true
   },
   "outputs": [],
   "source": [
    "# output\n",
    "simpsons_episodes.to_csv(r'C:\\Users\\LW130003\\Desktop\\simpsons_episode.csv', index=False)"
   ]
  }
 ],
 "metadata": {
  "kernelspec": {
   "display_name": "Python 3",
   "language": "python",
   "name": "python3"
  }
 },
 "nbformat": 4,
 "nbformat_minor": 2
}
